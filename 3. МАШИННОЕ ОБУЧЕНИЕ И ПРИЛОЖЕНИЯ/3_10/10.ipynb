{
 "cells": [
  {
   "cell_type": "markdown",
   "id": "29ca6507",
   "metadata": {},
   "source": [
    "## В этом домашнем задании вы сделаете первые шаги в мире линейной бинарной классификации!"
   ]
  },
  {
   "cell_type": "code",
   "execution_count": 1,
   "id": "5df827c1",
   "metadata": {},
   "outputs": [],
   "source": [
    "import pandas as pd\n",
    "import numpy as np\n",
    "import warnings"
   ]
  },
  {
   "cell_type": "code",
   "execution_count": 2,
   "id": "aeef135c",
   "metadata": {},
   "outputs": [],
   "source": [
    "import matplotlib as mlp\n",
    "import matplotlib.pyplot as plt\n",
    "import seaborn as sns\n",
    "mlp.rcParams['lines.linewidth'] = 5\n",
    "mlp.rcParams['xtick.major.size'] = 20\n",
    "mlp.rcParams['xtick.major.width'] = 5\n",
    "mlp.rcParams['xtick.labelsize'] = 20\n",
    "mlp.rcParams['xtick.color'] = '#FF5533'\n",
    "\n",
    "mlp.rcParams['ytick.major.size'] = 20\n",
    "mlp.rcParams['ytick.major.width'] = 5\n",
    "mlp.rcParams['ytick.labelsize'] = 20\n",
    "mlp.rcParams['ytick.color'] = '#FF5533'\n",
    "\n",
    "mlp.rcParams['axes.labelsize'] = 20\n",
    "mlp.rcParams['axes.titlesize'] = 20\n",
    "mlp.rcParams['axes.titlecolor'] = '#00B050'\n",
    "mlp.rcParams['axes.labelcolor'] = '#00B050'"
   ]
  },
  {
   "cell_type": "markdown",
   "id": "cefa667a",
   "metadata": {},
   "source": [
    "#### Задание 1\n",
    "\n",
    "Мы будем работать с данными **Microsoft Malware Detection**\n",
    "\n",
    "Таргетом будет последний столбец `HasDetection`, который принимает значения $\\{0,\\, 1\\}$ в случае отсутствия или наличия вируса на компьютере соответственно. Признаками будут выступать всевозможные характеристики компьютера."
   ]
  },
  {
   "cell_type": "code",
   "execution_count": 3,
   "id": "144132cf",
   "metadata": {},
   "outputs": [
    {
     "name": "stderr",
     "output_type": "stream",
     "text": [
      "<ipython-input-3-c2b855ec3be6>:1: DtypeWarning: Columns (28) have mixed types. Specify dtype option on import or set low_memory=False.\n",
      "  data = pd.read_csv('train.csv')\n"
     ]
    }
   ],
   "source": [
    "data = pd.read_csv('train.csv')"
   ]
  },
  {
   "cell_type": "markdown",
   "id": "6d8f3e98",
   "metadata": {},
   "source": [
    "Удалите константные признаки и признаки `ProductName` `MachineIdentifier`"
   ]
  },
  {
   "cell_type": "code",
   "execution_count": 4,
   "id": "43e9b9e6",
   "metadata": {},
   "outputs": [],
   "source": [
    "### Your code is here\n",
    "data.drop(['ProductName', 'MachineIdentifier'], axis=1, inplace=True)"
   ]
  },
  {
   "cell_type": "markdown",
   "id": "a47bf044",
   "metadata": {},
   "source": [
    "Посмотрите на соотношение классов в таргете. Все ли хорошо?"
   ]
  },
  {
   "cell_type": "code",
   "execution_count": 5,
   "id": "c8a9985f",
   "metadata": {},
   "outputs": [
    {
     "name": "stdout",
     "output_type": "stream",
     "text": [
      "100060 - positive class,\n",
      "99940 - negative class\n"
     ]
    }
   ],
   "source": [
    "print(sum(data['HasDetections'] == 1), '- positive class,')\n",
    "print(sum(data['HasDetections'] == 0), '- negative class')"
   ]
  },
  {
   "cell_type": "markdown",
   "id": "905f9a18",
   "metadata": {},
   "source": [
    "Ответьте на вопрос: почему с вашей точки зрения важно иметь представление о балансе классов в ваших данных?"
   ]
  },
  {
   "cell_type": "markdown",
   "id": "cb127c14",
   "metadata": {},
   "source": [
    "Избавьтесь от пропусков в данных! \n",
    "\n",
    "Новый для нас прием: признаки с более чем половиной пропусков следует удалить.\n",
    "\n",
    "Согласитесь, если в вашей колонке среди 100 объектов всего лишь у 2 есть какое-то непропущенное значение, странно все остальные заполнять средним от этих двух чисел. Такие \"редкие\" признаки лучше вообще опустить!\n",
    "\n",
    "\n",
    "В категориальных колонках заменим отсутствующую категорию просто некоторой новой и назовем ее `NaN`.\n",
    "\n",
    "А в числовых, ради разнообразия, заполним пропуски медианным значением."
   ]
  },
  {
   "cell_type": "code",
   "execution_count": 6,
   "id": "2f97d3c4",
   "metadata": {},
   "outputs": [
    {
     "data": {
      "text/plain": [
       "200000"
      ]
     },
     "execution_count": 6,
     "metadata": {},
     "output_type": "execute_result"
    }
   ],
   "source": [
    "data.shape[0]"
   ]
  },
  {
   "cell_type": "code",
   "execution_count": 7,
   "id": "de0dd0ad",
   "metadata": {},
   "outputs": [],
   "source": [
    "### Your code is here\n",
    "half = data.shape[0] // 2\n",
    "check_na = (data.isna().sum().sort_values(ascending=False))\n",
    "na_col = check_na[check_na > half].index.to_list()"
   ]
  },
  {
   "cell_type": "code",
   "execution_count": 8,
   "id": "ec57b674",
   "metadata": {},
   "outputs": [],
   "source": [
    "data.drop(na_col, axis=1, inplace=True)"
   ]
  },
  {
   "cell_type": "code",
   "execution_count": 9,
   "id": "544b8184",
   "metadata": {},
   "outputs": [],
   "source": [
    "categorical_columns = data.loc[:,data.dtypes==object].columns\n",
    "data[categorical_columns] = data[categorical_columns].fillna('NaN')"
   ]
  },
  {
   "cell_type": "code",
   "execution_count": 10,
   "id": "f64f19dd",
   "metadata": {},
   "outputs": [],
   "source": [
    "numeric_columns = data.loc[:,data.dtypes!=object].columns\n",
    "data[numeric_columns] = data[numeric_columns].fillna(data[numeric_columns].median()) "
   ]
  },
  {
   "cell_type": "code",
   "execution_count": 11,
   "id": "be3d4e5f",
   "metadata": {
    "scrolled": false
   },
   "outputs": [
    {
     "data": {
      "text/html": [
       "<div>\n",
       "<style scoped>\n",
       "    .dataframe tbody tr th:only-of-type {\n",
       "        vertical-align: middle;\n",
       "    }\n",
       "\n",
       "    .dataframe tbody tr th {\n",
       "        vertical-align: top;\n",
       "    }\n",
       "\n",
       "    .dataframe thead th {\n",
       "        text-align: right;\n",
       "    }\n",
       "</style>\n",
       "<table border=\"1\" class=\"dataframe\">\n",
       "  <thead>\n",
       "    <tr style=\"text-align: right;\">\n",
       "      <th></th>\n",
       "      <th>EngineVersion</th>\n",
       "      <th>AppVersion</th>\n",
       "      <th>AvSigVersion</th>\n",
       "      <th>Platform</th>\n",
       "      <th>Processor</th>\n",
       "      <th>OsVer</th>\n",
       "      <th>OsPlatformSubRelease</th>\n",
       "      <th>OsBuildLab</th>\n",
       "      <th>SkuEdition</th>\n",
       "      <th>SmartScreen</th>\n",
       "      <th>...</th>\n",
       "      <th>Census_OSVersion</th>\n",
       "      <th>Census_OSArchitecture</th>\n",
       "      <th>Census_OSBranch</th>\n",
       "      <th>Census_OSEdition</th>\n",
       "      <th>Census_OSSkuName</th>\n",
       "      <th>Census_OSInstallTypeName</th>\n",
       "      <th>Census_OSWUAutoUpdateOptionsName</th>\n",
       "      <th>Census_GenuineStateName</th>\n",
       "      <th>Census_ActivationChannel</th>\n",
       "      <th>Census_FlightRing</th>\n",
       "    </tr>\n",
       "  </thead>\n",
       "  <tbody>\n",
       "    <tr>\n",
       "      <th>0</th>\n",
       "      <td>1.1.15100.1</td>\n",
       "      <td>4.18.1807.18075</td>\n",
       "      <td>1.273.1735.0</td>\n",
       "      <td>windows10</td>\n",
       "      <td>x64</td>\n",
       "      <td>10.0.0.0</td>\n",
       "      <td>rs4</td>\n",
       "      <td>17134.1.amd64fre.rs4_release.180410-1804</td>\n",
       "      <td>Pro</td>\n",
       "      <td>NaN</td>\n",
       "      <td>...</td>\n",
       "      <td>10.0.17134.165</td>\n",
       "      <td>amd64</td>\n",
       "      <td>rs4_release</td>\n",
       "      <td>Professional</td>\n",
       "      <td>PROFESSIONAL</td>\n",
       "      <td>UUPUpgrade</td>\n",
       "      <td>UNKNOWN</td>\n",
       "      <td>IS_GENUINE</td>\n",
       "      <td>Retail</td>\n",
       "      <td>Retail</td>\n",
       "    </tr>\n",
       "    <tr>\n",
       "      <th>1</th>\n",
       "      <td>1.1.14600.4</td>\n",
       "      <td>4.13.17134.1</td>\n",
       "      <td>1.263.48.0</td>\n",
       "      <td>windows10</td>\n",
       "      <td>x64</td>\n",
       "      <td>10.0.0.0</td>\n",
       "      <td>rs4</td>\n",
       "      <td>17134.1.amd64fre.rs4_release.180410-1804</td>\n",
       "      <td>Pro</td>\n",
       "      <td>NaN</td>\n",
       "      <td>...</td>\n",
       "      <td>10.0.17134.1</td>\n",
       "      <td>amd64</td>\n",
       "      <td>rs4_release</td>\n",
       "      <td>Professional</td>\n",
       "      <td>PROFESSIONAL</td>\n",
       "      <td>IBSClean</td>\n",
       "      <td>UNKNOWN</td>\n",
       "      <td>OFFLINE</td>\n",
       "      <td>Retail</td>\n",
       "      <td>NOT_SET</td>\n",
       "    </tr>\n",
       "    <tr>\n",
       "      <th>2</th>\n",
       "      <td>1.1.15100.1</td>\n",
       "      <td>4.18.1807.18075</td>\n",
       "      <td>1.273.1341.0</td>\n",
       "      <td>windows10</td>\n",
       "      <td>x64</td>\n",
       "      <td>10.0.0.0</td>\n",
       "      <td>rs4</td>\n",
       "      <td>17134.1.amd64fre.rs4_release.180410-1804</td>\n",
       "      <td>Home</td>\n",
       "      <td>RequireAdmin</td>\n",
       "      <td>...</td>\n",
       "      <td>10.0.17134.165</td>\n",
       "      <td>amd64</td>\n",
       "      <td>rs4_release</td>\n",
       "      <td>Core</td>\n",
       "      <td>CORE</td>\n",
       "      <td>UUPUpgrade</td>\n",
       "      <td>FullAuto</td>\n",
       "      <td>IS_GENUINE</td>\n",
       "      <td>OEM:NONSLP</td>\n",
       "      <td>Retail</td>\n",
       "    </tr>\n",
       "    <tr>\n",
       "      <th>3</th>\n",
       "      <td>1.1.15100.1</td>\n",
       "      <td>4.18.1807.18075</td>\n",
       "      <td>1.273.1527.0</td>\n",
       "      <td>windows10</td>\n",
       "      <td>x64</td>\n",
       "      <td>10.0.0.0</td>\n",
       "      <td>rs4</td>\n",
       "      <td>17134.1.amd64fre.rs4_release.180410-1804</td>\n",
       "      <td>Pro</td>\n",
       "      <td>ExistsNotSet</td>\n",
       "      <td>...</td>\n",
       "      <td>10.0.17134.228</td>\n",
       "      <td>amd64</td>\n",
       "      <td>rs4_release</td>\n",
       "      <td>Professional</td>\n",
       "      <td>PROFESSIONAL</td>\n",
       "      <td>UUPUpgrade</td>\n",
       "      <td>FullAuto</td>\n",
       "      <td>IS_GENUINE</td>\n",
       "      <td>OEM:NONSLP</td>\n",
       "      <td>Retail</td>\n",
       "    </tr>\n",
       "    <tr>\n",
       "      <th>4</th>\n",
       "      <td>1.1.15100.1</td>\n",
       "      <td>4.18.1807.18075</td>\n",
       "      <td>1.273.1379.0</td>\n",
       "      <td>windows10</td>\n",
       "      <td>x64</td>\n",
       "      <td>10.0.0.0</td>\n",
       "      <td>rs4</td>\n",
       "      <td>17134.1.amd64fre.rs4_release.180410-1804</td>\n",
       "      <td>Home</td>\n",
       "      <td>RequireAdmin</td>\n",
       "      <td>...</td>\n",
       "      <td>10.0.17134.191</td>\n",
       "      <td>amd64</td>\n",
       "      <td>rs4_release</td>\n",
       "      <td>Core</td>\n",
       "      <td>CORE</td>\n",
       "      <td>Update</td>\n",
       "      <td>FullAuto</td>\n",
       "      <td>IS_GENUINE</td>\n",
       "      <td>Retail</td>\n",
       "      <td>Retail</td>\n",
       "    </tr>\n",
       "  </tbody>\n",
       "</table>\n",
       "<p>5 rows × 25 columns</p>\n",
       "</div>"
      ],
      "text/plain": [
       "  EngineVersion       AppVersion  AvSigVersion   Platform Processor     OsVer  \\\n",
       "0   1.1.15100.1  4.18.1807.18075  1.273.1735.0  windows10       x64  10.0.0.0   \n",
       "1   1.1.14600.4     4.13.17134.1    1.263.48.0  windows10       x64  10.0.0.0   \n",
       "2   1.1.15100.1  4.18.1807.18075  1.273.1341.0  windows10       x64  10.0.0.0   \n",
       "3   1.1.15100.1  4.18.1807.18075  1.273.1527.0  windows10       x64  10.0.0.0   \n",
       "4   1.1.15100.1  4.18.1807.18075  1.273.1379.0  windows10       x64  10.0.0.0   \n",
       "\n",
       "  OsPlatformSubRelease                                OsBuildLab SkuEdition  \\\n",
       "0                  rs4  17134.1.amd64fre.rs4_release.180410-1804        Pro   \n",
       "1                  rs4  17134.1.amd64fre.rs4_release.180410-1804        Pro   \n",
       "2                  rs4  17134.1.amd64fre.rs4_release.180410-1804       Home   \n",
       "3                  rs4  17134.1.amd64fre.rs4_release.180410-1804        Pro   \n",
       "4                  rs4  17134.1.amd64fre.rs4_release.180410-1804       Home   \n",
       "\n",
       "    SmartScreen  ... Census_OSVersion Census_OSArchitecture Census_OSBranch  \\\n",
       "0           NaN  ...   10.0.17134.165                 amd64     rs4_release   \n",
       "1           NaN  ...     10.0.17134.1                 amd64     rs4_release   \n",
       "2  RequireAdmin  ...   10.0.17134.165                 amd64     rs4_release   \n",
       "3  ExistsNotSet  ...   10.0.17134.228                 amd64     rs4_release   \n",
       "4  RequireAdmin  ...   10.0.17134.191                 amd64     rs4_release   \n",
       "\n",
       "  Census_OSEdition Census_OSSkuName Census_OSInstallTypeName  \\\n",
       "0     Professional     PROFESSIONAL               UUPUpgrade   \n",
       "1     Professional     PROFESSIONAL                 IBSClean   \n",
       "2             Core             CORE               UUPUpgrade   \n",
       "3     Professional     PROFESSIONAL               UUPUpgrade   \n",
       "4             Core             CORE                   Update   \n",
       "\n",
       "  Census_OSWUAutoUpdateOptionsName Census_GenuineStateName  \\\n",
       "0                          UNKNOWN              IS_GENUINE   \n",
       "1                          UNKNOWN                 OFFLINE   \n",
       "2                         FullAuto              IS_GENUINE   \n",
       "3                         FullAuto              IS_GENUINE   \n",
       "4                         FullAuto              IS_GENUINE   \n",
       "\n",
       "  Census_ActivationChannel Census_FlightRing  \n",
       "0                   Retail            Retail  \n",
       "1                   Retail           NOT_SET  \n",
       "2               OEM:NONSLP            Retail  \n",
       "3               OEM:NONSLP            Retail  \n",
       "4                   Retail            Retail  \n",
       "\n",
       "[5 rows x 25 columns]"
      ]
     },
     "execution_count": 11,
     "metadata": {},
     "output_type": "execute_result"
    }
   ],
   "source": [
    "data[categorical_columns].head()"
   ]
  },
  {
   "cell_type": "code",
   "execution_count": null,
   "id": "69b7d531",
   "metadata": {},
   "outputs": [
    {
     "data": {
      "image/png": "[encoded data removed]",
      "text/plain": [
       "<Figure size 432x288 with 1 Axes>"
      ]
     },
     "metadata": {
      "needs_background": "dark"
     },
     "output_type": "display_data"
    },
    {
     "data": {
      "image/png": "[encoded data removed]",
      "text/plain": [
       "<Figure size 432x432 with 1 Axes>"
      ]
     },
     "metadata": {},
     "output_type": "display_data"
    },
    {
     "data": {
      "image/png": "[encoded data removed]",
      "text/plain": [
       "<Figure size 432x288 with 1 Axes>"
      ]
     },
     "metadata": {
      "needs_background": "dark"
     },
     "output_type": "display_data"
    },
    {
     "data": {
      "image/png": "[encoded data removed]",
      "text/plain": [
       "<Figure size 432x432 with 1 Axes>"
      ]
     },
     "metadata": {},
     "output_type": "display_data"
    },
    {
     "data": {
      "image/png": "[encoded data removed]",
      "text/plain": [
       "<Figure size 432x288 with 1 Axes>"
      ]
     },
     "metadata": {
      "needs_background": "dark"
     },
     "output_type": "display_data"
    }
   ],
   "source": [
    "for i, col in enumerate(categorical_columns):\n",
    "    sp = plt.subplot(1, 2, 1)\n",
    "    plt.figure(num=1, figsize=(6, 6))\n",
    "    plt.axes(aspect=1)\n",
    "    plt.title(col + ' 0', size=14)\n",
    "    plt.pie(data[data['HasDetections']==0].groupby(col)['HasDetections'].count())\n",
    "    sp = plt.subplot(1, 2, 2)\n",
    "    plt.figure(num=2, figsize=(6, 6))\n",
    "    plt.axes(aspect=1)\n",
    "    plt.title(col + ' 1', size=14)\n",
    "    plt.pie(data[data['HasDetections']==1].groupby(col)['HasDetections'].count())\n",
    "    plt.show()"
   ]
  },
  {
   "cell_type": "code",
   "execution_count": null,
   "id": "dcdd37c4",
   "metadata": {},
   "outputs": [],
   "source": [
    "data[numeric_columns].head()"
   ]
  },
  {
   "cell_type": "code",
   "execution_count": null,
   "id": "768024cb",
   "metadata": {},
   "outputs": [],
   "source": [
    "*numeric_columns[26:27],*numeric_columns[28:32]"
   ]
  },
  {
   "cell_type": "markdown",
   "id": "c4922fec",
   "metadata": {},
   "source": [
    "Создайте копию полученного датафрейма и положите ее в переменную data_2. Понадобится в следующих заданиях."
   ]
  },
  {
   "cell_type": "code",
   "execution_count": null,
   "id": "d732f86c",
   "metadata": {},
   "outputs": [],
   "source": [
    "data_2 = data.copy()"
   ]
  },
  {
   "cell_type": "markdown",
   "id": "efc526da",
   "metadata": {},
   "source": [
    "Так же поработаем над всеми категориальными колонкам перед запуском непосредственно моделей.\n",
    "\n",
    "Провернем самый базовый и наглый метод - несмотря на количество уникальных значений в каждой категории, просто применим ко всей категориальной части датасета `OneHotEncoding`"
   ]
  },
  {
   "cell_type": "code",
   "execution_count": null,
   "id": "6056a181",
   "metadata": {},
   "outputs": [],
   "source": [
    "# ### Your code is here\n",
    "# for col in categorical_columns:\n",
    "    \n",
    "#     ### К колонкам с маленькой размерностью применим one-hot\n",
    "#         one_hot = pd.get_dummies(data[col], prefix=col, drop_first=True)\n",
    "#         data = pd.concat((data.drop(col, axis=1), one_hot), axis=1)\n"
   ]
  },
  {
   "cell_type": "code",
   "execution_count": null,
   "id": "1ac7424c",
   "metadata": {},
   "outputs": [],
   "source": [
    "extra_col = ['Census_SystemVolumeTotalCapacity',\n",
    " 'Census_TotalPhysicalRAM',\n",
    " 'Census_InternalPrimaryDiagonalDisplaySizeInInches',\n",
    " 'Census_InternalPrimaryDisplayResolutionHorizontal',\n",
    " 'Census_InternalPrimaryDisplayResolutionVertical', 'AVProductStatesIdentifier', 'IeVerIdentifier', 'AVProductsInstalled', 'Census_InternalBatteryNumberOfCharges']\n",
    "# numeric_columns"
   ]
  },
  {
   "cell_type": "code",
   "execution_count": null,
   "id": "7fe0a5b4",
   "metadata": {},
   "outputs": [],
   "source": [
    "data[extra_col].head()"
   ]
  },
  {
   "cell_type": "code",
   "execution_count": null,
   "id": "dfb36c2f",
   "metadata": {
    "scrolled": false
   },
   "outputs": [],
   "source": [
    "\n",
    "# fig = plt.figure()\n",
    "# fig.set_size_inches(16, 10)\n",
    "# for i in range(len(extra_col)):\n",
    "#     sns.boxplot(y=data[extra_col[i]], x=data['HasDetections'].astype('category'), data=data)\n",
    "#     plt.show()"
   ]
  },
  {
   "cell_type": "code",
   "execution_count": null,
   "id": "b7dc7786",
   "metadata": {},
   "outputs": [],
   "source": [
    "# import matplotlib.pyplot as plt\n",
    "# import seaborn as sns\n",
    "# fig = plt.figure()\n",
    "# fig.set_size_inches(16, 10)\n",
    "# for i in numeric_columns[26:32]:\n",
    "#     sns.boxplot(y=data[i], x=data['HasDetections'].astype('category'), data=data)\n",
    "#     plt.show()"
   ]
  },
  {
   "cell_type": "code",
   "execution_count": null,
   "id": "81ebb5db",
   "metadata": {
    "scrolled": true
   },
   "outputs": [],
   "source": [
    "# plt.figure(figsize=(16, 6))\n",
    "# heatmap = sns.heatmap(data[numeric_columns].corr(), vmin=-1, vmax=1, annot=True, cmap='BrBG')\n",
    "# heatmap.set_title('Correlation Heatmap', fontdict={'fontsize':18}, pad=12); "
   ]
  },
  {
   "cell_type": "code",
   "execution_count": null,
   "id": "67756514",
   "metadata": {},
   "outputs": [],
   "source": [
    "# def correlation(dataset, threshold):\n",
    "#     col_corr = set() # Set of all the names of deleted columns\n",
    "#     corr_matrix = dataset.corr()\n",
    "#     for i in range(len(corr_matrix.columns)):\n",
    "#         for j in range(i):\n",
    "#             if (corr_matrix.iloc[i, j] >= threshold) and (corr_matrix.columns[j] not in col_corr):\n",
    "#                 colname = corr_matrix.columns[i] # getting the name of column\n",
    "#                 col_corr.add(colname)\n",
    "#                 if colname in dataset.columns:\n",
    "#                     del dataset[colname] # deleting the column from the dataset\n",
    "    \n",
    "# correlation(data, 0.9)"
   ]
  },
  {
   "cell_type": "code",
   "execution_count": null,
   "id": "52e9c9be",
   "metadata": {},
   "outputs": [],
   "source": [
    "numeric_columns = data.loc[:,data.dtypes!=object].columns"
   ]
  },
  {
   "cell_type": "markdown",
   "id": "0dd162ae",
   "metadata": {},
   "source": [
    "###  Разделим выборку на тренировочную и тестовую"
   ]
  },
  {
   "cell_type": "markdown",
   "id": "226abbd0",
   "metadata": {},
   "source": [
    "P.S. в задачах классификации, как и в задаче регрессии, можно использовать технологию Кросс-Валидации. Например, по одному из двух следующих сценариев:\n",
    "\n",
    "1) Отделить валидацию и тест, произвести подбор лучшей модели с помощью `K-Fold` на валидации, финально обучить выбранную модель на всей валидации и замерить качество на заранее отложенном финальном тесте!\n",
    "\n",
    "2) Всю выборку назвать валидационной и на ней применить `K-Fold` без финального замера.\n",
    "\n",
    "В этой домашней работе попросим Вас быть еще проще! :)\n",
    "Реализуем просто технологию отложенной выборки в пропорции 3:1"
   ]
  },
  {
   "cell_type": "code",
   "execution_count": null,
   "id": "eaa4c44e",
   "metadata": {},
   "outputs": [],
   "source": [
    "from sklearn.model_selection import train_test_split \n",
    "\n",
    "X = data.drop(columns=['HasDetections'])\n",
    "y = data['HasDetections']\n",
    "\n",
    "X_train, X_test, y_train, y_test = train_test_split(X, y,\n",
    "                                                    test_size=0.25,\n",
    "                                                    shuffle=True,\n",
    "                                                    random_state=1)"
   ]
  },
  {
   "cell_type": "markdown",
   "id": "dc4778b0",
   "metadata": {},
   "source": [
    "Соберите `Pipeline`, реализовав в нем 2 шага: стандартизация данных через `StandardScaler` и обучение логистической регрессии с помощью `LogisticRegression`, положите результаты в переменную `pipe`, а в классе модели `LogisticRegression` укажите параметр `penalty='none'`"
   ]
  },
  {
   "cell_type": "code",
   "execution_count": null,
   "id": "64a79940",
   "metadata": {},
   "outputs": [],
   "source": [
    "from sklearn.preprocessing import StandardScaler\n",
    "from sklearn.linear_model import LogisticRegression\n",
    "from sklearn.pipeline import Pipeline\n",
    "\n",
    "### Your code is here\n",
    "pipe = Pipeline([('scaler', StandardScaler()),\n",
    "                 ('LR', LogisticRegression(penalty='none'))])\n"
   ]
  },
  {
   "cell_type": "markdown",
   "id": "e0ee5ab7",
   "metadata": {},
   "source": [
    "Чтобы замерить качество работы такой модели на трейне и на тесте воспользуемся функцией `cross_validate`\n",
    "\n",
    "Вопрос: что передавать ей в параметр cv? Ведь мы уже разделили нашу выборку на трейн и тест (имеем всего 1 fold). Для этого можно просто передать список от кортежа, содержащего индексы тренировочных и тестовых объектов."
   ]
  },
  {
   "cell_type": "code",
   "execution_count": null,
   "id": "f2ea13eb",
   "metadata": {},
   "outputs": [],
   "source": [
    "from sklearn.model_selection import cross_validate\n",
    "import datetime"
   ]
  },
  {
   "cell_type": "code",
   "execution_count": null,
   "id": "0c502e9b",
   "metadata": {},
   "outputs": [],
   "source": [
    "custom_cv = [(X_train.index.to_list(), X_test.index.to_list())]"
   ]
  },
  {
   "cell_type": "code",
   "execution_count": null,
   "id": "c3f4e272",
   "metadata": {},
   "outputs": [],
   "source": [
    "# begin_time = datetime.datetime.now()\n",
    "\n",
    "# cv_result_pipe = cross_validate(pipe, X, y, scoring='accuracy',\n",
    "#                                 cv=custom_cv, return_train_score=True)"
   ]
  },
  {
   "cell_type": "code",
   "execution_count": null,
   "id": "2fafc25b",
   "metadata": {},
   "outputs": [],
   "source": [
    "# print(f\"Accuracy на трейне: {np.mean(cv_result_pipe['train_score']).round(3)}\")\n",
    "# print(f\"Accuracy на тесте: {np.mean(cv_result_pipe['test_score']).round(3)}\")\n",
    "\n",
    "# print(f\"Время работы алгоритма: {datetime.datetime.now() - begin_time}\")"
   ]
  },
  {
   "cell_type": "markdown",
   "id": "b41c8476",
   "metadata": {},
   "source": [
    "Что можете сказать про время работы алгоритма?\n",
    "\n",
    "Очевидно, оно достаточно большие. Уж тем более для линейных моделей.\n",
    "\n",
    "Такое как раз-таки происходит из-за того, что количество фичей, который мы передали нашей модели - гигантское! Классу требуется много времени и памяти, чтобы обработать датасет.\n",
    "\n",
    "Поэтому те колонки, в которых количество уникальных категорий превышает какое-то адекватное число, следует кодировать иначе, нежели с помощью технологии `One-Hot-Encoding`.\n",
    "\n",
    "Теперь вы верите, что более умные кодировки зачастую прям необходимы! Раньше мы этот факт не демонстрировали!\n",
    "\n",
    "Дело еще вот в чем: в классе `LogisticRegression`, как и, например, `Lasso`, есть параметр, ограничивающий максимальное количество итераций во время обучения модели. Так, если данных много и итераций тоже ожидается большое число, найденная разделяющая гиперплоскость может оказаться не самой лучшей, так как наш алгоритм (будь то градиентный спуск или любой иной) просто 'не доползет'. "
   ]
  },
  {
   "cell_type": "markdown",
   "id": "9780557b",
   "metadata": {},
   "source": [
    "#### Задание 2"
   ]
  },
  {
   "cell_type": "markdown",
   "id": "cf9170bd",
   "metadata": {},
   "source": [
    "Теперь попробуем другой метод кодирования категориальных колонок, а именно счётчики.\n",
    "Построем ту же модель и на том же разделении, просто заново иначе переобработаем датасет. \n",
    "\n",
    "Для тех категориальных признаков, у которых количество уникальных значений в колоночках больше 5, применим `MeanTargetEncoding`.\n",
    "\n",
    "Для остальных оставим любимый `OneHotEncoding` (как делали на практике и в предыдущем уроке)."
   ]
  },
  {
   "cell_type": "code",
   "execution_count": null,
   "id": "3be5024e",
   "metadata": {},
   "outputs": [],
   "source": [
    "### Your code is here\n",
    "for col in categorical_columns:\n",
    "    \n",
    "    ### К колонкам с маленькой размерностью применим one-hot\n",
    "    if data_2[col].nunique() < 5:\n",
    "        one_hot = pd.get_dummies(data_2[col], prefix=col, drop_first=True)\n",
    "        data_2 = pd.concat((data_2.drop(col, axis=1), one_hot), axis=1)\n",
    "        \n",
    "    ### К остальным - счетчики\n",
    "    else:\n",
    "        mean_target = data_2.groupby(col)['HasDetections'].mean()\n",
    "        data_2[col] = data_2[col].map(mean_target)\n"
   ]
  },
  {
   "cell_type": "code",
   "execution_count": null,
   "id": "113be193",
   "metadata": {},
   "outputs": [],
   "source": [
    "X_2 = data_2.drop(columns=['HasDetections'])\n",
    "y_2 = data_2['HasDetections']"
   ]
  },
  {
   "cell_type": "markdown",
   "id": "99c91a5f",
   "metadata": {},
   "source": [
    "Опять обучим модель, пока что без изменений! Скажите, стало ли быстрее? А что с качеством?"
   ]
  },
  {
   "cell_type": "code",
   "execution_count": null,
   "id": "65f67eb4",
   "metadata": {},
   "outputs": [],
   "source": [
    "### Your code is here\n",
    "\n",
    "begin_time = datetime.datetime.now()\n",
    "\n",
    "cv_result_pipe_2 = cross_validate(pipe, X_2, y_2, scoring='accuracy',\n",
    "                                cv=custom_cv, return_train_score=True)\n",
    "\n",
    "\n",
    "print(f\"Accuracy на трейне: {np.mean(cv_result_pipe_2['train_score']).round(3)}\")\n",
    "print(f\"Accuracy на тесте: {np.mean(cv_result_pipe_2['test_score']).round(3)}\")\n",
    "\n",
    "print(f\"Время работы алгоритма: {datetime.datetime.now() - begin_time}\")\n",
    "\n"
   ]
  },
  {
   "cell_type": "code",
   "execution_count": null,
   "id": "c2bfc43f",
   "metadata": {},
   "outputs": [],
   "source": [
    "# all features without corr Accuracy на трейне: 0.638\n",
    "# Accuracy на тесте: 0.638\n",
    "# Время работы алгоритма: 0:00:04.592731"
   ]
  },
  {
   "cell_type": "markdown",
   "id": "6681a5f1",
   "metadata": {},
   "source": [
    "#### Задание 3: Регуляризация"
   ]
  },
  {
   "cell_type": "markdown",
   "id": "3ff86e09",
   "metadata": {},
   "source": [
    "Как и в моделях регрессии, решая задачу классификации, можем штрафовать минимизируемый функционал за большие веса, добавив к нему L1 или L2 норму весов (все как раньше!).\n",
    "\n",
    "Для этого в изначальном классе `LogisticRegression` изменить параметр `penalty` на l1 или l2 соответственно. Выберите второй вариант! Можно воспользоваться методом `set_params` и применить его к `pipe`."
   ]
  },
  {
   "cell_type": "code",
   "execution_count": null,
   "id": "48c21383",
   "metadata": {},
   "outputs": [],
   "source": [
    "pipe.get_params()"
   ]
  },
  {
   "cell_type": "code",
   "execution_count": null,
   "id": "8ece9641",
   "metadata": {},
   "outputs": [],
   "source": [
    "### Your code is here\n",
    "pipe.set_params(LR__penalty='l2')\n",
    "\n"
   ]
  },
  {
   "cell_type": "markdown",
   "id": "4cef458b",
   "metadata": {},
   "source": [
    "Теперь наша модель будет строить логистическую регрессию с L2 регуляризатором! Помним, что у регуляризируемых моделей есть гиперпараметр, контролирующий силу регуляризации, который выбирается ДО запуска метода fit, то есть заранее, когда модель еще не обучена. \n",
    "\n",
    "Конечно же, выбор этого параметра влияет итоговые результаты. Хочется поперебирать различные параметры регуляризации и найти такой, при котором качество на тесте окажется лучшим! \n",
    "\n",
    "Сгенерируем массив гиперпараметра, которые планируем перебрать:"
   ]
  },
  {
   "cell_type": "code",
   "execution_count": null,
   "id": "d237132c",
   "metadata": {},
   "outputs": [],
   "source": [
    "# alphas = np.linspace(0.1, 1, 10)\n",
    "# #alphas = np.append(alphas, np.linspace(0.01, 0.1, 10))\n",
    "# alphas = np.append(alphas,[0.001, 0.0001, 0.00001, 0.01,  0.000001,  0.0000001])\n",
    "# alphas"
   ]
  },
  {
   "cell_type": "markdown",
   "id": "7e008daa",
   "metadata": {},
   "source": [
    "Чтобы отобрать среди данного массива гиперпараметров лучший, воспользуйтесь конструкцией `GridSearchCV` из `sklearn`"
   ]
  },
  {
   "cell_type": "code",
   "execution_count": null,
   "id": "547ed389",
   "metadata": {},
   "outputs": [],
   "source": [
    "# from sklearn.model_selection import GridSearchCV\n",
    "\n",
    "# param_grid ={\n",
    "#      'LR__C': alphas\n",
    "#     #,'LR__solver': solvers\n",
    "# }\n",
    "\n",
    "# ### Your code is here\n",
    "# search = GridSearchCV(pipe, param_grid, \n",
    "#                       cv=custom_cv, scoring='accuracy')\n",
    "\n",
    "# search.fit(X_2, y_2)\n",
    "\n",
    "# print(f\"Best parameter (CV score={search.best_score_:.5f}):\")\n",
    "# print(search.best_params_)"
   ]
  },
  {
   "cell_type": "code",
   "execution_count": null,
   "id": "3728a322",
   "metadata": {},
   "outputs": [],
   "source": [
    "# all features  without corr Best parameter (CV score=0.63822): {'LR__C': 0.01}"
   ]
  },
  {
   "cell_type": "code",
   "execution_count": null,
   "id": "f6d07956",
   "metadata": {},
   "outputs": [],
   "source": [
    "# pipe.set_params(LR__penalty='l1', LR__solver='saga') #c=0.01"
   ]
  },
  {
   "cell_type": "code",
   "execution_count": null,
   "id": "e148cc63",
   "metadata": {
    "scrolled": true
   },
   "outputs": [],
   "source": [
    "# from sklearn.model_selection import GridSearchCV\n",
    "\n",
    "# param_grid ={\n",
    "#     'LR__C': alphas\n",
    "# }\n",
    "\n",
    "# ### Your code is here\n",
    "# search = GridSearchCV(pipe, param_grid, \n",
    "#                       cv=custom_cv, scoring='accuracy')\n",
    "\n",
    "# search.fit(X_2, y_2)\n",
    "\n",
    "# print(f\"Best parameter (CV score={search.best_score_:.5f}):\")\n",
    "# print(search.best_params_)"
   ]
  },
  {
   "cell_type": "code",
   "execution_count": null,
   "id": "f60d0e1f",
   "metadata": {},
   "outputs": [],
   "source": [
    "# all features  without corr Best parameter (CV score=0.63830): {'LR__C': 0.1}"
   ]
  },
  {
   "cell_type": "markdown",
   "id": "248b65c7",
   "metadata": {},
   "source": [
    "#### Задание 4: Бонус\n",
    "\n",
    "Как вы знаете, подбор признаков является одной из самых важных частей машинного обучения. Сейчас вы попробуете на основе имеющихся признаков сгенерировать новые. В качестве новых признаков будем использовать мономы 2 степени. Можно использовать регуляризацию различного рода, выбор энкодера тоже за вами. Ваша задача - добиться качества `0.65` на тестовой выборке"
   ]
  },
  {
   "cell_type": "code",
   "execution_count": null,
   "id": "a63b153b",
   "metadata": {},
   "outputs": [],
   "source": [
    "from sklearn.preprocessing import PolynomialFeatures"
   ]
  },
  {
   "cell_type": "code",
   "execution_count": null,
   "id": "2ec32681",
   "metadata": {},
   "outputs": [],
   "source": [
    "trans = PolynomialFeatures(interaction_only=True)"
   ]
  },
  {
   "cell_type": "code",
   "execution_count": null,
   "id": "dab26883",
   "metadata": {},
   "outputs": [],
   "source": [
    "pipe2 = Pipeline([('t', trans),\n",
    "                  ('scaler', StandardScaler()),\n",
    "                 ('LR', LogisticRegression(penalty='l2', solver='saga'))])"
   ]
  },
  {
   "cell_type": "code",
   "execution_count": null,
   "id": "2299ca8f",
   "metadata": {},
   "outputs": [],
   "source": [
    "# begin_time = datetime.datetime.now()\n",
    "# cv_result_pipe_6 = cross_validate(pipe2, X_2, y_2, scoring='accuracy',\n",
    "#                                 cv=custom_cv, return_train_score=True)\n",
    "# print(f\"Accuracy на трейне: {np.mean(cv_result_pipe_6['train_score']).round(3)}\")\n",
    "# print(f\"Accuracy на тесте: {np.mean(cv_result_pipe_6['test_score']).round(3)}\")\n",
    "# print(f\"Время работы алгоритма: {datetime.datetime.now() - begin_time}\")"
   ]
  },
  {
   "cell_type": "code",
   "execution_count": null,
   "id": "ed4ba75a",
   "metadata": {},
   "outputs": [],
   "source": [
    "# all features  without corr  'l2' sag c=0.01:\n",
    "# Accuracy на трейне: 0.641\n",
    "# Accuracy на тесте: 0.639\n",
    "# Время работы алгоритма: 0:10:14.661460"
   ]
  },
  {
   "cell_type": "code",
   "execution_count": null,
   "id": "54550222",
   "metadata": {},
   "outputs": [],
   "source": [
    "# all features  without corr  'l2' saga c=0.01:\n",
    "# Accuracy на трейне: 0.64\n",
    "# Accuracy на тесте: 0.638\n",
    "# Время работы алгоритма: 0:16:00.014365"
   ]
  },
  {
   "cell_type": "code",
   "execution_count": null,
   "id": "0ff3a3ad",
   "metadata": {},
   "outputs": [],
   "source": [
    "#X_2[[*numeric_columns[25:27],*numeric_columns[28:32]]].head()"
   ]
  },
  {
   "cell_type": "code",
   "execution_count": null,
   "id": "5362f93e",
   "metadata": {},
   "outputs": [],
   "source": [
    "pipe3 = Pipeline([\n",
    "                  ('scaler', StandardScaler()),\n",
    "                 ('LR', LogisticRegression(penalty='l2', C=0.01, solver='sag'))])"
   ]
  },
  {
   "cell_type": "code",
   "execution_count": null,
   "id": "232cfdcb",
   "metadata": {},
   "outputs": [],
   "source": [
    "d_names = [w for w in 'qwerty']\n",
    "for i, n in enumerate(d_names):\n",
    "    X_2[n] = (data['Census_InternalBatteryNumberOfCharges']**(i+2)).round(3)\n",
    "\n",
    "X_2[d_names]    "
   ]
  },
  {
   "cell_type": "code",
   "execution_count": null,
   "id": "5e282e0f",
   "metadata": {},
   "outputs": [],
   "source": [
    "data_extras_i = pd.DataFrame(trans.fit_transform(X_2[[*extra_col, *d_names]]))"
   ]
  },
  {
   "cell_type": "code",
   "execution_count": null,
   "id": "858f179c",
   "metadata": {},
   "outputs": [],
   "source": [
    "# X_9 = pd.concat((X_2[], data_extras_i), axis=1) категориальный добавить"
   ]
  },
  {
   "cell_type": "code",
   "execution_count": null,
   "id": "3ef46324",
   "metadata": {},
   "outputs": [],
   "source": [
    "begin_time = datetime.datetime.now()\n",
    "\n",
    "cv_result_pipe_7 = cross_validate(pipe2, X_9, y_2, scoring='accuracy',\n",
    "                                cv=custom_cv, return_train_score=True)\n",
    "\n",
    "\n",
    "print(f\"Accuracy на трейне: {np.mean(cv_result_pipe_7['train_score']).round(3)}\")\n",
    "print(f\"Accuracy на тесте: {np.mean(cv_result_pipe_7['test_score']).round(3)}\")\n",
    "\n",
    "print(f\"Время работы алгоритма: {datetime.datetime.now() - begin_time}\")"
   ]
  },
  {
   "cell_type": "code",
   "execution_count": null,
   "id": "29979efa",
   "metadata": {},
   "outputs": [],
   "source": [
    "X_7 = pd.concat((X_2, data_extras_i), axis=1)"
   ]
  },
  {
   "cell_type": "code",
   "execution_count": null,
   "id": "4e1ee880",
   "metadata": {},
   "outputs": [],
   "source": [
    "begin_time = datetime.datetime.now()\n",
    "\n",
    "cv_result_pipe_7 = cross_validate(pipe3, X_7, y_2, scoring='accuracy',\n",
    "                                cv=custom_cv, return_train_score=True)\n",
    "\n",
    "\n",
    "print(f\"Accuracy на трейне: {np.mean(cv_result_pipe_7['train_score']).round(3)}\")\n",
    "print(f\"Accuracy на тесте: {np.mean(cv_result_pipe_7['test_score']).round(3)}\")\n",
    "\n",
    "print(f\"Время работы алгоритма: {datetime.datetime.now() - begin_time}\")"
   ]
  },
  {
   "cell_type": "code",
   "execution_count": null,
   "id": "f3f93a73",
   "metadata": {},
   "outputs": [],
   "source": [
    "# all features  without corr  'l2' saga c=0.01:\n",
    "#Accuracy на трейне: 0.638\n",
    "# Accuracy на тесте: 0.638\n",
    "# Время работы алгоритма: 0:00:39.943257"
   ]
  },
  {
   "cell_type": "code",
   "execution_count": null,
   "id": "cb586949",
   "metadata": {},
   "outputs": [],
   "source": [
    "# trans2 = PolynomialFeatures()"
   ]
  },
  {
   "cell_type": "code",
   "execution_count": null,
   "id": "96f4c46f",
   "metadata": {},
   "outputs": [],
   "source": [
    "# data_extras = pd.DataFrame(trans2.fit_transform(X_2[extra_col]))"
   ]
  },
  {
   "cell_type": "code",
   "execution_count": null,
   "id": "3a55e582",
   "metadata": {},
   "outputs": [],
   "source": [
    "# X_5 = pd.concat((X_2, data_extras), axis=1)"
   ]
  },
  {
   "cell_type": "code",
   "execution_count": null,
   "id": "d404f7af",
   "metadata": {
    "scrolled": false
   },
   "outputs": [],
   "source": [
    "# begin_time = datetime.datetime.now()\n",
    "\n",
    "# cv_result_pipe_9 = cross_validate(pipe3, X_5, y_2, scoring='accuracy',\n",
    "#                                 cv=custom_cv, return_train_score=True)\n",
    "\n",
    "\n",
    "# print(f\"Accuracy на трейне: {np.mean(cv_result_pipe_9['train_score']).round(3)}\")\n",
    "# print(f\"Accuracy на тесте: {np.mean(cv_result_pipe_9['test_score']).round(3)}\")\n",
    "\n",
    "# print(f\"Время работы алгоритма: {datetime.datetime.now() - begin_time}\")"
   ]
  },
  {
   "cell_type": "code",
   "execution_count": null,
   "id": "11742380",
   "metadata": {},
   "outputs": [],
   "source": [
    "# all features  without corr  'l2' saga c=0.01:\n",
    "# Accuracy на трейне: 0.638\n",
    "# Accuracy на тесте: 0.638\n",
    "# Время работы алгоритма: 0:00:40.289798"
   ]
  },
  {
   "cell_type": "code",
   "execution_count": null,
   "id": "a4e48186",
   "metadata": {},
   "outputs": [],
   "source": [
    "\n",
    "begin_time = datetime.datetime.now()\n",
    "\n",
    "cv_result_pipe_8 = cross_validate(pipe2, X_7, y_2, scoring='accuracy',\n",
    "                                cv=custom_cv, return_train_score=True)\n",
    "\n",
    "\n",
    "print(f\"Accuracy на трейне: {np.mean(cv_result_pipe_8['train_score']).round(3)}\")\n",
    "print(f\"Accuracy на тесте: {np.mean(cv_result_pipe_8['test_score']).round(3)}\")\n",
    "\n",
    "print(f\"Время работы алгоритма: {datetime.datetime.now() - begin_time}\")"
   ]
  },
  {
   "cell_type": "code",
   "execution_count": null,
   "id": "957e9128",
   "metadata": {},
   "outputs": [],
   "source": [
    "# begin_time = datetime.datetime.now()\n",
    "\n",
    "# cv_result_pipe_5 = cross_validate(pipe2, X_5, y_2, scoring='accuracy',\n",
    "#                                 cv=custom_cv, return_train_score=True)\n",
    "\n",
    "# \n",
    "# print(f\"Accuracy на трейне: {np.mean(cv_result_pipe_5['train_score']).round(3)}\")\n",
    "# print(f\"Accuracy на тесте: {np.mean(cv_result_pipe_5['test_score']).round(3)}\")\n",
    "\n",
    "# print(f\"Время работы алгоритма: {datetime.datetime.now() - begin_time}\")"
   ]
  },
  {
   "cell_type": "code",
   "execution_count": null,
   "id": "ba075154",
   "metadata": {},
   "outputs": [],
   "source": [
    "# all features  without corr  'l2' saga c=0.01:"
   ]
  }
 ],
 "metadata": {
  "kernelspec": {
   "display_name": "Python 3 (ipykernel)",
   "language": "python",
   "name": "python3"
  },
  "language_info": {
   "codemirror_mode": {
    "name": "ipython",
    "version": 3
   },
   "file_extension": ".py",
   "mimetype": "text/x-python",
   "name": "python",
   "nbconvert_exporter": "python",
   "pygments_lexer": "ipython3",
   "version": "3.8.8"
  }
 },
 "nbformat": 4,
 "nbformat_minor": 5
}
