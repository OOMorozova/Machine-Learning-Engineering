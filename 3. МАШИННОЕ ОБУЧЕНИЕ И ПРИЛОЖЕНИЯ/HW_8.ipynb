{
 "cells": [
  {
   "cell_type": "markdown",
   "id": "1a40efc0",
   "metadata": {},
   "source": [
    "### В данной домашней работе Вам предстоит отработать следующие 2 навыка: работа с пропущенными значениями и анализ выбросов."
   ]
  },
  {
   "cell_type": "code",
   "execution_count": 1,
   "id": "1c2b72ac",
   "metadata": {},
   "outputs": [],
   "source": [
    "import numpy as np\n",
    "import pandas as pd\n",
    "\n",
    "data = pd.read_csv('processed_data_with_new_features.csv', index_col='id')"
   ]
  },
  {
   "cell_type": "code",
   "execution_count": 2,
   "id": "98e1d22d",
   "metadata": {},
   "outputs": [
    {
     "data": {
      "text/html": [
       "<div>\n",
       "<style scoped>\n",
       "    .dataframe tbody tr th:only-of-type {\n",
       "        vertical-align: middle;\n",
       "    }\n",
       "\n",
       "    .dataframe tbody tr th {\n",
       "        vertical-align: top;\n",
       "    }\n",
       "\n",
       "    .dataframe thead th {\n",
       "        text-align: right;\n",
       "    }\n",
       "</style>\n",
       "<table border=\"1\" class=\"dataframe\">\n",
       "  <thead>\n",
       "    <tr style=\"text-align: right;\">\n",
       "      <th></th>\n",
       "      <th>vendor_id</th>\n",
       "      <th>passenger_count</th>\n",
       "      <th>store_and_fwd_flag</th>\n",
       "      <th>distance_km</th>\n",
       "      <th>log_trip_duration</th>\n",
       "      <th>anomaly</th>\n",
       "      <th>traffic_jam</th>\n",
       "      <th>day_of_week_1</th>\n",
       "      <th>day_of_week_2</th>\n",
       "      <th>day_of_week_3</th>\n",
       "      <th>...</th>\n",
       "      <th>hour_19</th>\n",
       "      <th>hour_20</th>\n",
       "      <th>hour_21</th>\n",
       "      <th>hour_22</th>\n",
       "      <th>hour_23</th>\n",
       "      <th>month_2</th>\n",
       "      <th>month_3</th>\n",
       "      <th>month_4</th>\n",
       "      <th>month_5</th>\n",
       "      <th>month_6</th>\n",
       "    </tr>\n",
       "    <tr>\n",
       "      <th>id</th>\n",
       "      <th></th>\n",
       "      <th></th>\n",
       "      <th></th>\n",
       "      <th></th>\n",
       "      <th></th>\n",
       "      <th></th>\n",
       "      <th></th>\n",
       "      <th></th>\n",
       "      <th></th>\n",
       "      <th></th>\n",
       "      <th></th>\n",
       "      <th></th>\n",
       "      <th></th>\n",
       "      <th></th>\n",
       "      <th></th>\n",
       "      <th></th>\n",
       "      <th></th>\n",
       "      <th></th>\n",
       "      <th></th>\n",
       "      <th></th>\n",
       "      <th></th>\n",
       "    </tr>\n",
       "  </thead>\n",
       "  <tbody>\n",
       "    <tr>\n",
       "      <th>id2875421</th>\n",
       "      <td>1</td>\n",
       "      <td>930.399753</td>\n",
       "      <td>0</td>\n",
       "      <td>1.500479</td>\n",
       "      <td>6.122493</td>\n",
       "      <td>0</td>\n",
       "      <td>0</td>\n",
       "      <td>0</td>\n",
       "      <td>0</td>\n",
       "      <td>0</td>\n",
       "      <td>...</td>\n",
       "      <td>0</td>\n",
       "      <td>0</td>\n",
       "      <td>0</td>\n",
       "      <td>0</td>\n",
       "      <td>0</td>\n",
       "      <td>0</td>\n",
       "      <td>1</td>\n",
       "      <td>0</td>\n",
       "      <td>0</td>\n",
       "      <td>0</td>\n",
       "    </tr>\n",
       "    <tr>\n",
       "      <th>id2377394</th>\n",
       "      <td>0</td>\n",
       "      <td>930.399753</td>\n",
       "      <td>0</td>\n",
       "      <td>1.807119</td>\n",
       "      <td>6.498282</td>\n",
       "      <td>0</td>\n",
       "      <td>0</td>\n",
       "      <td>0</td>\n",
       "      <td>0</td>\n",
       "      <td>0</td>\n",
       "      <td>...</td>\n",
       "      <td>0</td>\n",
       "      <td>0</td>\n",
       "      <td>0</td>\n",
       "      <td>0</td>\n",
       "      <td>0</td>\n",
       "      <td>0</td>\n",
       "      <td>0</td>\n",
       "      <td>0</td>\n",
       "      <td>0</td>\n",
       "      <td>1</td>\n",
       "    </tr>\n",
       "    <tr>\n",
       "      <th>id3858529</th>\n",
       "      <td>1</td>\n",
       "      <td>NaN</td>\n",
       "      <td>0</td>\n",
       "      <td>6.392080</td>\n",
       "      <td>7.661527</td>\n",
       "      <td>0</td>\n",
       "      <td>1</td>\n",
       "      <td>1</td>\n",
       "      <td>0</td>\n",
       "      <td>0</td>\n",
       "      <td>...</td>\n",
       "      <td>0</td>\n",
       "      <td>0</td>\n",
       "      <td>0</td>\n",
       "      <td>0</td>\n",
       "      <td>0</td>\n",
       "      <td>0</td>\n",
       "      <td>0</td>\n",
       "      <td>0</td>\n",
       "      <td>0</td>\n",
       "      <td>0</td>\n",
       "    </tr>\n",
       "    <tr>\n",
       "      <th>id3504673</th>\n",
       "      <td>1</td>\n",
       "      <td>NaN</td>\n",
       "      <td>0</td>\n",
       "      <td>1.487155</td>\n",
       "      <td>6.063785</td>\n",
       "      <td>0</td>\n",
       "      <td>0</td>\n",
       "      <td>0</td>\n",
       "      <td>1</td>\n",
       "      <td>0</td>\n",
       "      <td>...</td>\n",
       "      <td>1</td>\n",
       "      <td>0</td>\n",
       "      <td>0</td>\n",
       "      <td>0</td>\n",
       "      <td>0</td>\n",
       "      <td>0</td>\n",
       "      <td>0</td>\n",
       "      <td>1</td>\n",
       "      <td>0</td>\n",
       "      <td>0</td>\n",
       "    </tr>\n",
       "    <tr>\n",
       "      <th>id2181028</th>\n",
       "      <td>1</td>\n",
       "      <td>930.399753</td>\n",
       "      <td>0</td>\n",
       "      <td>1.189925</td>\n",
       "      <td>6.077642</td>\n",
       "      <td>0</td>\n",
       "      <td>0</td>\n",
       "      <td>0</td>\n",
       "      <td>0</td>\n",
       "      <td>0</td>\n",
       "      <td>...</td>\n",
       "      <td>0</td>\n",
       "      <td>0</td>\n",
       "      <td>0</td>\n",
       "      <td>0</td>\n",
       "      <td>0</td>\n",
       "      <td>0</td>\n",
       "      <td>1</td>\n",
       "      <td>0</td>\n",
       "      <td>0</td>\n",
       "      <td>0</td>\n",
       "    </tr>\n",
       "  </tbody>\n",
       "</table>\n",
       "<p>5 rows × 41 columns</p>\n",
       "</div>"
      ],
      "text/plain": [
       "           vendor_id  passenger_count  store_and_fwd_flag  distance_km  \\\n",
       "id                                                                       \n",
       "id2875421          1       930.399753                   0     1.500479   \n",
       "id2377394          0       930.399753                   0     1.807119   \n",
       "id3858529          1              NaN                   0     6.392080   \n",
       "id3504673          1              NaN                   0     1.487155   \n",
       "id2181028          1       930.399753                   0     1.189925   \n",
       "\n",
       "           log_trip_duration  anomaly  traffic_jam  day_of_week_1  \\\n",
       "id                                                                  \n",
       "id2875421           6.122493        0            0              0   \n",
       "id2377394           6.498282        0            0              0   \n",
       "id3858529           7.661527        0            1              1   \n",
       "id3504673           6.063785        0            0              0   \n",
       "id2181028           6.077642        0            0              0   \n",
       "\n",
       "           day_of_week_2  day_of_week_3  ...  hour_19  hour_20  hour_21  \\\n",
       "id                                       ...                              \n",
       "id2875421              0              0  ...        0        0        0   \n",
       "id2377394              0              0  ...        0        0        0   \n",
       "id3858529              0              0  ...        0        0        0   \n",
       "id3504673              1              0  ...        1        0        0   \n",
       "id2181028              0              0  ...        0        0        0   \n",
       "\n",
       "           hour_22  hour_23  month_2  month_3  month_4  month_5  month_6  \n",
       "id                                                                        \n",
       "id2875421        0        0        0        1        0        0        0  \n",
       "id2377394        0        0        0        0        0        0        1  \n",
       "id3858529        0        0        0        0        0        0        0  \n",
       "id3504673        0        0        0        0        1        0        0  \n",
       "id2181028        0        0        0        1        0        0        0  \n",
       "\n",
       "[5 rows x 41 columns]"
      ]
     },
     "execution_count": 2,
     "metadata": {},
     "output_type": "execute_result"
    }
   ],
   "source": [
    "data.head()"
   ]
  },
  {
   "cell_type": "markdown",
   "id": "b347191e",
   "metadata": {},
   "source": [
    "Никудышный гном случайно пролил кофе на папку с данными и кодом. К несчастью, из-за этого они с братьями потеряли кучу информации в столбиках **passenger_count** и **distance_km**."
   ]
  },
  {
   "cell_type": "code",
   "execution_count": 3,
   "id": "7646061a",
   "metadata": {},
   "outputs": [
    {
     "data": {
      "text/plain": [
       "vendor_id                  0\n",
       "passenger_count       145864\n",
       "store_and_fwd_flag         0\n",
       "distance_km           145864\n",
       "log_trip_duration          0\n",
       "anomaly                    0\n",
       "traffic_jam                0\n",
       "day_of_week_1              0\n",
       "day_of_week_2              0\n",
       "day_of_week_3              0\n",
       "day_of_week_4              0\n",
       "day_of_week_5              0\n",
       "day_of_week_6              0\n",
       "hour_1                     0\n",
       "hour_2                     0\n",
       "hour_3                     0\n",
       "hour_4                     0\n",
       "hour_5                     0\n",
       "hour_6                     0\n",
       "hour_7                     0\n",
       "hour_8                     0\n",
       "hour_9                     0\n",
       "hour_10                    0\n",
       "hour_11                    0\n",
       "hour_12                    0\n",
       "hour_13                    0\n",
       "hour_14                    0\n",
       "hour_15                    0\n",
       "hour_16                    0\n",
       "hour_17                    0\n",
       "hour_18                    0\n",
       "hour_19                    0\n",
       "hour_20                    0\n",
       "hour_21                    0\n",
       "hour_22                    0\n",
       "hour_23                    0\n",
       "month_2                    0\n",
       "month_3                    0\n",
       "month_4                    0\n",
       "month_5                    0\n",
       "month_6                    0\n",
       "dtype: int64"
      ]
     },
     "execution_count": 3,
     "metadata": {},
     "output_type": "execute_result"
    }
   ],
   "source": [
    "### Выведите количество пропусков в данных колонках\n",
    "### На всякий случай, проверьте целостность данных в остальных\n",
    "\n",
    "### Your code is here\n",
    "data.isna().sum()"
   ]
  },
  {
   "cell_type": "markdown",
   "id": "a88616a1",
   "metadata": {},
   "source": [
    "Начнем с **passenger_count**. Вообще говоря, изначально это была категориальная колонка, к которой мы применили технику OneHotEncoder. Чтобы избавиться от пропусков в данных, конечно, можно просто убрать все объекты, в которых есть пропуски, но тогда мы потеряем ценную информацию. \n",
    "\n",
    "Воспользуйтесь относительно простым приемом из лекции: в указанной колонке заполните пропуски самым *популярным* значением среди неотсутствующих."
   ]
  },
  {
   "cell_type": "code",
   "execution_count": 4,
   "id": "02e36734",
   "metadata": {},
   "outputs": [
    {
     "data": {
      "text/plain": [
       "930.4"
      ]
     },
     "execution_count": 4,
     "metadata": {},
     "output_type": "execute_result"
    }
   ],
   "source": [
    "### Your code is here\n",
    "popular_category = data['passenger_count'].value_counts().index[0]\n",
    "round(popular_category, 2)"
   ]
  },
  {
   "cell_type": "code",
   "execution_count": 5,
   "id": "6d049cfd",
   "metadata": {},
   "outputs": [],
   "source": [
    "data['passenger_count'] = data['passenger_count'].fillna(popular_category)"
   ]
  },
  {
   "cell_type": "markdown",
   "id": "e3844201",
   "metadata": {},
   "source": [
    "С колонкой **distance_km** поступим более интересным способом!\n",
    "\n",
    "Чтобы заполнить пропуск в данной колонке для того или иного объекта, можно находить наиболее похожий на него объект и подглядывать в его значение **distance_km**. Для того, чтобы понять, насколько объекты похожи друг на друга, необходимо использовать Евклидово расстояние между этими самыми объектами в пространстве всех признаков!\n",
    "\n",
    "С учетом количества объектов в нашем датасете и признаков, посчитать попарные расстояния будет мега-сложно. Поэтому давайте называть объекты похожими, если они принадлежат одной категории, составленной из следующих колонок:\n",
    "\n",
    "1. vendor_id\n",
    "2. store_and_fwd_flag\n",
    "3. traffic_jam\n",
    "4. month_2\n",
    "5. month_3\n",
    "6. month_4\n",
    "7. month_5\n",
    "8. month_6\n",
    "\n",
    "Внутри каждой группы найдите среднее значение признака **distance_km** и заполните NaN'ы в объектах с пропуском в соответствии с тем, к какой категории относится данный объект. Похожее упражнение мы делали на практике в занятии!\n",
    "\n",
    "**Hint**: достаточно просто взять group by по указанным выше категориальным колонкам и верно вставить полученный результат в исходную табличку.\n",
    "\n",
    "P.S. Колонки выбраны случайным образом. Можно было взять и другую комбинацию."
   ]
  },
  {
   "cell_type": "code",
   "execution_count": 6,
   "id": "05228390",
   "metadata": {},
   "outputs": [],
   "source": [
    "### Your code is here\n",
    "grouped_means = data.groupby(['vendor_id','store_and_fwd_flag','traffic_jam','month_2','month_3','month_4','month_5','month_6'])['distance_km'].transform(\"mean\")\n",
    "data['distance_km'] = data['distance_km'].fillna(grouped_means)"
   ]
  },
  {
   "cell_type": "code",
   "execution_count": 87,
   "id": "cae3fcc1",
   "metadata": {},
   "outputs": [
    {
     "data": {
      "text/plain": [
       "vendor_id             0\n",
       "passenger_count       0\n",
       "store_and_fwd_flag    0\n",
       "distance_km           0\n",
       "log_trip_duration     0\n",
       "anomaly               0\n",
       "traffic_jam           0\n",
       "day_of_week_1         0\n",
       "day_of_week_2         0\n",
       "day_of_week_3         0\n",
       "day_of_week_4         0\n",
       "day_of_week_5         0\n",
       "day_of_week_6         0\n",
       "hour_1                0\n",
       "hour_2                0\n",
       "hour_3                0\n",
       "hour_4                0\n",
       "hour_5                0\n",
       "hour_6                0\n",
       "hour_7                0\n",
       "hour_8                0\n",
       "hour_9                0\n",
       "hour_10               0\n",
       "hour_11               0\n",
       "hour_12               0\n",
       "hour_13               0\n",
       "hour_14               0\n",
       "hour_15               0\n",
       "hour_16               0\n",
       "hour_17               0\n",
       "hour_18               0\n",
       "hour_19               0\n",
       "hour_20               0\n",
       "hour_21               0\n",
       "hour_22               0\n",
       "hour_23               0\n",
       "month_2               0\n",
       "month_3               0\n",
       "month_4               0\n",
       "month_5               0\n",
       "month_6               0\n",
       "dtype: int64"
      ]
     },
     "execution_count": 87,
     "metadata": {},
     "output_type": "execute_result"
    }
   ],
   "source": [
    "### Убедимся, что пропусков не осталось\n",
    "\n",
    "### Your code is here\n",
    "data.isna().sum()"
   ]
  },
  {
   "cell_type": "code",
   "execution_count": 88,
   "id": "f5a5a05f",
   "metadata": {},
   "outputs": [],
   "source": [
    "data.head(10).to_csv('38_6.csv', sep=';', index=False)"
   ]
  },
  {
   "cell_type": "markdown",
   "id": "b35ee236",
   "metadata": {},
   "source": [
    "### Теперь наши данные чисты! Замерьте качество модели на Кросс-Валидации"
   ]
  },
  {
   "cell_type": "code",
   "execution_count": 89,
   "id": "d02a50b8",
   "metadata": {},
   "outputs": [
    {
     "data": {
      "text/plain": [
       "dict_keys(['explained_variance', 'r2', 'max_error', 'neg_median_absolute_error', 'neg_mean_absolute_error', 'neg_mean_absolute_percentage_error', 'neg_mean_squared_error', 'neg_mean_squared_log_error', 'neg_root_mean_squared_error', 'neg_mean_poisson_deviance', 'neg_mean_gamma_deviance', 'accuracy', 'top_k_accuracy', 'roc_auc', 'roc_auc_ovr', 'roc_auc_ovo', 'roc_auc_ovr_weighted', 'roc_auc_ovo_weighted', 'balanced_accuracy', 'average_precision', 'neg_log_loss', 'neg_brier_score', 'adjusted_rand_score', 'rand_score', 'homogeneity_score', 'completeness_score', 'v_measure_score', 'mutual_info_score', 'adjusted_mutual_info_score', 'normalized_mutual_info_score', 'fowlkes_mallows_score', 'precision', 'precision_macro', 'precision_micro', 'precision_samples', 'precision_weighted', 'recall', 'recall_macro', 'recall_micro', 'recall_samples', 'recall_weighted', 'f1', 'f1_macro', 'f1_micro', 'f1_samples', 'f1_weighted', 'jaccard', 'jaccard_macro', 'jaccard_micro', 'jaccard_samples', 'jaccard_weighted'])"
      ]
     },
     "execution_count": 89,
     "metadata": {},
     "output_type": "execute_result"
    }
   ],
   "source": [
    "from sklearn.metrics import SCORERS\n",
    "SCORERS.keys()"
   ]
  },
  {
   "cell_type": "code",
   "execution_count": 90,
   "id": "67a4e86d",
   "metadata": {},
   "outputs": [
    {
     "data": {
      "text/plain": [
       "{'fit_time': array([5.25362515, 5.31034493, 3.8707211 , 4.2537179 ]),\n",
       " 'score_time': array([0.63690281, 0.65877819, 0.3279438 , 0.24283004]),\n",
       " 'test_score': array([-0.45104813, -0.44555323, -0.40741744, -0.41963126]),\n",
       " 'train_score': array([-0.42291657, -0.42460903, -0.43750379, -0.43318451])}"
      ]
     },
     "execution_count": 90,
     "metadata": {},
     "output_type": "execute_result"
    }
   ],
   "source": [
    "from sklearn.model_selection import KFold\n",
    "\n",
    "selector = KFold(n_splits=4, shuffle=True, random_state=33)\n",
    "\n",
    "from sklearn.model_selection import cross_validate\n",
    "from sklearn.linear_model import LinearRegression\n",
    "X = data.drop('log_trip_duration', axis=1)\n",
    "Y = data['log_trip_duration']\n",
    "### Your code is here\n",
    "model = LinearRegression()\n",
    "cv_scores = cross_validate(model, X, Y, cv=selector, scoring='neg_mean_squared_error', return_train_score=True)\n",
    "cv_scores"
   ]
  },
  {
   "cell_type": "code",
   "execution_count": 91,
   "id": "fa1a5ab8",
   "metadata": {},
   "outputs": [],
   "source": [
    "cross_val_error = cv_scores['test_score'].mean()"
   ]
  },
  {
   "cell_type": "code",
   "execution_count": 92,
   "id": "85a5cb07",
   "metadata": {},
   "outputs": [
    {
     "name": "stdout",
     "output_type": "stream",
     "text": [
      "MSLE на Кросс-валидации: -0.431\n"
     ]
    }
   ],
   "source": [
    "print(f\"MSLE на Кросс-валидации: {round(cross_val_error, 3)}\")"
   ]
  },
  {
   "cell_type": "markdown",
   "id": "d69b9869",
   "metadata": {},
   "source": [
    "### Проведем анализ выбросов! Нарисуйте ящик с усами и гистограмму для таргетной переменной."
   ]
  },
  {
   "cell_type": "code",
   "execution_count": 93,
   "id": "40143765",
   "metadata": {},
   "outputs": [
    {
     "data": {
      "image/png": "[encoded data removed]",
      "text/plain": [
       "<Figure size 720x1152 with 1 Axes>"
      ]
     },
     "metadata": {
      "needs_background": "light"
     },
     "output_type": "display_data"
    }
   ],
   "source": [
    "import matplotlib.pyplot as plt\n",
    "\n",
    "### Your code is here\n",
    "\n",
    "fig = plt.figure()\n",
    "\n",
    "fig.set_size_inches((10, 16))\n",
    "\n",
    "plt.boxplot(data['log_trip_duration'].values)\n",
    "\n",
    "plt.show()\n"
   ]
  },
  {
   "cell_type": "markdown",
   "id": "cc9b7f88",
   "metadata": {},
   "source": [
    "Есть ли, на ваш взгляд, в данных выбросы?\n",
    "\n",
    "Кажется, что да!\n",
    "\n",
    "Давайте почистим их, удалив не объекты, таргеты которых находятся вне промежутка\n",
    "\n",
    "[топ 99,5% значение;   топ 0,5% значение]"
   ]
  },
  {
   "cell_type": "code",
   "execution_count": 94,
   "id": "ede120d2",
   "metadata": {},
   "outputs": [],
   "source": [
    "### Your code is here\n",
    "q_low = data['log_trip_duration'].quantile(0.005)\n",
    "q_high = data['log_trip_duration'].quantile(0.995)\n",
    "\n",
    "# tentacle_length = q_high - q_low\n",
    "# upper_tentacle = q_high + 1.5*tentacle_length\n",
    "# lower_tentacle = q_low - 1.5*tentacle_length"
   ]
  },
  {
   "cell_type": "code",
   "execution_count": 95,
   "id": "8327e2a0",
   "metadata": {},
   "outputs": [],
   "source": [
    "df = data[(data['log_trip_duration']<=q_high) &(data['log_trip_duration']>=q_low)]"
   ]
  },
  {
   "cell_type": "code",
   "execution_count": 96,
   "id": "cfd250d6",
   "metadata": {},
   "outputs": [
    {
     "data": {
      "text/plain": [
       "0.9925656980044479"
      ]
     },
     "execution_count": 96,
     "metadata": {},
     "output_type": "execute_result"
    }
   ],
   "source": [
    "(data.shape[0] - df.shape[0])*100/data.shape[0]"
   ]
  },
  {
   "cell_type": "markdown",
   "id": "7aeeed4b",
   "metadata": {},
   "source": [
    "Снова замерьте качество на кросс-валидации, используя старый selector"
   ]
  },
  {
   "cell_type": "code",
   "execution_count": 97,
   "id": "28b90da6",
   "metadata": {},
   "outputs": [],
   "source": [
    "### Your code is here\n",
    "X_q = df.drop('log_trip_duration', axis=1)\n",
    "Y_q = df['log_trip_duration']\n",
    "### Your code is here\n",
    "model2 = LinearRegression()\n",
    "cv_scores_q = cross_validate(model2, X_q, Y_q, cv=selector, scoring='neg_mean_squared_error', return_train_score=True)\n"
   ]
  },
  {
   "cell_type": "code",
   "execution_count": 98,
   "id": "e432fc37",
   "metadata": {},
   "outputs": [
    {
     "name": "stdout",
     "output_type": "stream",
     "text": [
      "MSLE на Кросс-валидации: -0.342\n"
     ]
    }
   ],
   "source": [
    "cross_val_error_q = cv_scores_q['test_score'].mean()\n",
    "print(f\"MSLE на Кросс-валидации: {round(cross_val_error_q, 3)}\")"
   ]
  },
  {
   "cell_type": "code",
   "execution_count": null,
   "id": "828b9b89",
   "metadata": {},
   "outputs": [],
   "source": []
  },
  {
   "cell_type": "code",
   "execution_count": null,
   "id": "d7effc0f",
   "metadata": {},
   "outputs": [],
   "source": []
  }
 ],
 "metadata": {
  "kernelspec": {
   "display_name": "Python 3 (ipykernel)",
   "language": "python",
   "name": "python3"
  },
  "language_info": {
   "codemirror_mode": {
    "name": "ipython",
    "version": 3
   },
   "file_extension": ".py",
   "mimetype": "text/x-python",
   "name": "python",
   "nbconvert_exporter": "python",
   "pygments_lexer": "ipython3",
   "version": "3.8.8"
  }
 },
 "nbformat": 4,
 "nbformat_minor": 5
}
