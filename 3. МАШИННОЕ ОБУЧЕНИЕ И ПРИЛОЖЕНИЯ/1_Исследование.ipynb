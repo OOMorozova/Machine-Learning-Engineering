{
 "cells": [
  {
   "attachments": {},
   "cell_type": "markdown",
   "id": "f38074aa",
   "metadata": {},
   "source": [
    "Анализ  [данных](https://disk.yandex.ru/d/W3dhYgu5EQOifQ) с целью выявления необходимых признаков, на которых в будущем будет построена модель.\n",
    "\n",
    "Описание данных:\n",
    "<dl>\n",
    "<dd>id - ID поездки </dd>\n",
    "<dd>vendor_id - ID компании, осуществляющей перевозку </dd>\n",
    "<dd>pickup_datetime - Таймкод начала поездки</dd>\n",
    "<dd>dropoff_datetime - Таймкод конца поездки </dd>\n",
    "<dd>passenger_count - Количество пассажиров </dd>\n",
    "<dd>pickup_longitude - Долгота точки, в которой началась поездка </dd>\n",
    "<dd>pickup_latitude - Широта точки, в которой началась поездка </dd>\n",
    "<dd>dropoff_longitude - Долгота точки, в которой закончилась поездка </dd>\n",
    "<dd>dropoff_latitude - Широта точки, в которой закончилась поездка </dd>\n",
    "<dd>store_and_fwd_flag - Yes/No: Была ли информация сохранена в памяти транспортного средства из-за потери соединения с сервером </dd>\n",
    "</dl>\n",
    "\n",
    "**Целевая переменная - длительность поездки.**"
   ]
  },
  {
   "cell_type": "code",
   "execution_count": 68,
   "id": "a10821a4",
   "metadata": {},
   "outputs": [],
   "source": [
    "import pandas as pd\n",
    "import numpy as np\n",
    "import matplotlib.pyplot as plt\n",
    "\n",
    "taxiDB = pd.read_csv('taxi_dataset.csv')"
   ]
  },
  {
   "cell_type": "code",
   "execution_count": 69,
   "id": "9279db2a",
   "metadata": {},
   "outputs": [
    {
     "data": {
      "text/html": [
       "<div>\n",
       "<style scoped>\n",
       "    .dataframe tbody tr th:only-of-type {\n",
       "        vertical-align: middle;\n",
       "    }\n",
       "\n",
       "    .dataframe tbody tr th {\n",
       "        vertical-align: top;\n",
       "    }\n",
       "\n",
       "    .dataframe thead th {\n",
       "        text-align: right;\n",
       "    }\n",
       "</style>\n",
       "<table border=\"1\" class=\"dataframe\">\n",
       "  <thead>\n",
       "    <tr style=\"text-align: right;\">\n",
       "      <th></th>\n",
       "      <th>id</th>\n",
       "      <th>vendor_id</th>\n",
       "      <th>pickup_datetime</th>\n",
       "      <th>dropoff_datetime</th>\n",
       "      <th>passenger_count</th>\n",
       "      <th>pickup_longitude</th>\n",
       "      <th>pickup_latitude</th>\n",
       "      <th>dropoff_longitude</th>\n",
       "      <th>dropoff_latitude</th>\n",
       "      <th>store_and_fwd_flag</th>\n",
       "    </tr>\n",
       "  </thead>\n",
       "  <tbody>\n",
       "    <tr>\n",
       "      <th>0</th>\n",
       "      <td>id2875421</td>\n",
       "      <td>2</td>\n",
       "      <td>2016-03-14 17:24:55</td>\n",
       "      <td>2016-03-14 17:32:30</td>\n",
       "      <td>1</td>\n",
       "      <td>-73.982155</td>\n",
       "      <td>40.767937</td>\n",
       "      <td>-73.964630</td>\n",
       "      <td>40.765602</td>\n",
       "      <td>N</td>\n",
       "    </tr>\n",
       "    <tr>\n",
       "      <th>1</th>\n",
       "      <td>id2377394</td>\n",
       "      <td>1</td>\n",
       "      <td>2016-06-12 00:43:35</td>\n",
       "      <td>2016-06-12 00:54:38</td>\n",
       "      <td>1</td>\n",
       "      <td>-73.980415</td>\n",
       "      <td>40.738564</td>\n",
       "      <td>-73.999481</td>\n",
       "      <td>40.731152</td>\n",
       "      <td>N</td>\n",
       "    </tr>\n",
       "    <tr>\n",
       "      <th>2</th>\n",
       "      <td>id3858529</td>\n",
       "      <td>2</td>\n",
       "      <td>2016-01-19 11:35:24</td>\n",
       "      <td>2016-01-19 12:10:48</td>\n",
       "      <td>1</td>\n",
       "      <td>-73.979027</td>\n",
       "      <td>40.763939</td>\n",
       "      <td>-74.005333</td>\n",
       "      <td>40.710087</td>\n",
       "      <td>N</td>\n",
       "    </tr>\n",
       "    <tr>\n",
       "      <th>3</th>\n",
       "      <td>id3504673</td>\n",
       "      <td>2</td>\n",
       "      <td>2016-04-06 19:32:31</td>\n",
       "      <td>2016-04-06 19:39:40</td>\n",
       "      <td>1</td>\n",
       "      <td>-74.010040</td>\n",
       "      <td>40.719971</td>\n",
       "      <td>-74.012268</td>\n",
       "      <td>40.706718</td>\n",
       "      <td>N</td>\n",
       "    </tr>\n",
       "    <tr>\n",
       "      <th>4</th>\n",
       "      <td>id2181028</td>\n",
       "      <td>2</td>\n",
       "      <td>2016-03-26 13:30:55</td>\n",
       "      <td>2016-03-26 13:38:10</td>\n",
       "      <td>1</td>\n",
       "      <td>-73.973053</td>\n",
       "      <td>40.793209</td>\n",
       "      <td>-73.972923</td>\n",
       "      <td>40.782520</td>\n",
       "      <td>N</td>\n",
       "    </tr>\n",
       "  </tbody>\n",
       "</table>\n",
       "</div>"
      ],
      "text/plain": [
       "          id  vendor_id      pickup_datetime     dropoff_datetime  \\\n",
       "0  id2875421          2  2016-03-14 17:24:55  2016-03-14 17:32:30   \n",
       "1  id2377394          1  2016-06-12 00:43:35  2016-06-12 00:54:38   \n",
       "2  id3858529          2  2016-01-19 11:35:24  2016-01-19 12:10:48   \n",
       "3  id3504673          2  2016-04-06 19:32:31  2016-04-06 19:39:40   \n",
       "4  id2181028          2  2016-03-26 13:30:55  2016-03-26 13:38:10   \n",
       "\n",
       "   passenger_count  pickup_longitude  pickup_latitude  dropoff_longitude  \\\n",
       "0                1        -73.982155        40.767937         -73.964630   \n",
       "1                1        -73.980415        40.738564         -73.999481   \n",
       "2                1        -73.979027        40.763939         -74.005333   \n",
       "3                1        -74.010040        40.719971         -74.012268   \n",
       "4                1        -73.973053        40.793209         -73.972923   \n",
       "\n",
       "   dropoff_latitude store_and_fwd_flag  \n",
       "0         40.765602                  N  \n",
       "1         40.731152                  N  \n",
       "2         40.710087                  N  \n",
       "3         40.706718                  N  \n",
       "4         40.782520                  N  "
      ]
     },
     "execution_count": 69,
     "metadata": {},
     "output_type": "execute_result"
    }
   ],
   "source": [
    "taxiDB.head(5)"
   ]
  },
  {
   "cell_type": "code",
   "execution_count": 70,
   "id": "cf299f27",
   "metadata": {},
   "outputs": [
    {
     "name": "stdout",
     "output_type": "stream",
     "text": [
      "<class 'pandas.core.frame.DataFrame'>\n",
      "RangeIndex: 1458644 entries, 0 to 1458643\n",
      "Data columns (total 10 columns):\n",
      " #   Column              Non-Null Count    Dtype  \n",
      "---  ------              --------------    -----  \n",
      " 0   id                  1458644 non-null  object \n",
      " 1   vendor_id           1458644 non-null  int64  \n",
      " 2   pickup_datetime     1458644 non-null  object \n",
      " 3   dropoff_datetime    1458644 non-null  object \n",
      " 4   passenger_count     1458644 non-null  int64  \n",
      " 5   pickup_longitude    1458644 non-null  float64\n",
      " 6   pickup_latitude     1458644 non-null  float64\n",
      " 7   dropoff_longitude   1458644 non-null  float64\n",
      " 8   dropoff_latitude    1458644 non-null  float64\n",
      " 9   store_and_fwd_flag  1458644 non-null  object \n",
      "dtypes: float64(4), int64(2), object(4)\n",
      "memory usage: 111.3+ MB\n"
     ]
    }
   ],
   "source": [
    "taxiDB.info()"
   ]
  },
  {
   "cell_type": "code",
   "execution_count": 71,
   "id": "eddf1f21",
   "metadata": {},
   "outputs": [],
   "source": [
    "### таргетную переменнул в  trip_duration\n",
    "taxiDB['pickup_datetime'] = pd.to_datetime(taxiDB['pickup_datetime'])\n",
    "taxiDB['dropoff_datetime'] = pd.to_datetime(taxiDB['dropoff_datetime'])\n",
    "taxiDB['trip_duration'] = (taxiDB['dropoff_datetime']  - taxiDB['pickup_datetime']).dt.total_seconds()"
   ]
  },
  {
   "attachments": {},
   "cell_type": "markdown",
   "id": "e4eadedc",
   "metadata": {},
   "source": [
    "Предсказывая таргет для новых объектов в будущем, мы не будем заранее знать **dropoff_datetime**."
   ]
  },
  {
   "cell_type": "code",
   "execution_count": 72,
   "id": "6b92a69b",
   "metadata": {},
   "outputs": [],
   "source": [
    "### Удалим колонку из датасета.\n",
    "taxiDB = taxiDB.drop(['dropoff_datetime'], axis=1)"
   ]
  },
  {
   "cell_type": "code",
   "execution_count": 73,
   "id": "c88b431e",
   "metadata": {},
   "outputs": [
    {
     "data": {
      "text/html": [
       "<div>\n",
       "<style scoped>\n",
       "    .dataframe tbody tr th:only-of-type {\n",
       "        vertical-align: middle;\n",
       "    }\n",
       "\n",
       "    .dataframe tbody tr th {\n",
       "        vertical-align: top;\n",
       "    }\n",
       "\n",
       "    .dataframe thead th {\n",
       "        text-align: right;\n",
       "    }\n",
       "</style>\n",
       "<table border=\"1\" class=\"dataframe\">\n",
       "  <thead>\n",
       "    <tr style=\"text-align: right;\">\n",
       "      <th></th>\n",
       "      <th>id</th>\n",
       "      <th>vendor_id</th>\n",
       "      <th>pickup_datetime</th>\n",
       "      <th>passenger_count</th>\n",
       "      <th>pickup_longitude</th>\n",
       "      <th>pickup_latitude</th>\n",
       "      <th>dropoff_longitude</th>\n",
       "      <th>dropoff_latitude</th>\n",
       "      <th>store_and_fwd_flag</th>\n",
       "      <th>trip_duration</th>\n",
       "    </tr>\n",
       "  </thead>\n",
       "  <tbody>\n",
       "    <tr>\n",
       "      <th>0</th>\n",
       "      <td>id2875421</td>\n",
       "      <td>2</td>\n",
       "      <td>2016-03-14 17:24:55</td>\n",
       "      <td>1</td>\n",
       "      <td>-73.982155</td>\n",
       "      <td>40.767937</td>\n",
       "      <td>-73.96463</td>\n",
       "      <td>40.765602</td>\n",
       "      <td>N</td>\n",
       "      <td>455.0</td>\n",
       "    </tr>\n",
       "  </tbody>\n",
       "</table>\n",
       "</div>"
      ],
      "text/plain": [
       "          id  vendor_id     pickup_datetime  passenger_count  \\\n",
       "0  id2875421          2 2016-03-14 17:24:55                1   \n",
       "\n",
       "   pickup_longitude  pickup_latitude  dropoff_longitude  dropoff_latitude  \\\n",
       "0        -73.982155        40.767937          -73.96463         40.765602   \n",
       "\n",
       "  store_and_fwd_flag  trip_duration  \n",
       "0                  N          455.0  "
      ]
     },
     "execution_count": 73,
     "metadata": {},
     "output_type": "execute_result"
    }
   ],
   "source": [
    "taxiDB.head(1)"
   ]
  },
  {
   "attachments": {},
   "cell_type": "markdown",
   "id": "6cd88d7c",
   "metadata": {},
   "source": [
    "\n",
    "Бинарный признак vendor_id, принимающий значения {1, 2}. Переведем его во множество {0, 1}, так как это просто привычнее."
   ]
  },
  {
   "cell_type": "code",
   "execution_count": 74,
   "id": "f6a0ed02",
   "metadata": {},
   "outputs": [
    {
     "data": {
      "text/html": [
       "<div>\n",
       "<style scoped>\n",
       "    .dataframe tbody tr th:only-of-type {\n",
       "        vertical-align: middle;\n",
       "    }\n",
       "\n",
       "    .dataframe tbody tr th {\n",
       "        vertical-align: top;\n",
       "    }\n",
       "\n",
       "    .dataframe thead th {\n",
       "        text-align: right;\n",
       "    }\n",
       "</style>\n",
       "<table border=\"1\" class=\"dataframe\">\n",
       "  <thead>\n",
       "    <tr style=\"text-align: right;\">\n",
       "      <th></th>\n",
       "      <th>id</th>\n",
       "      <th>vendor_id</th>\n",
       "      <th>pickup_datetime</th>\n",
       "      <th>passenger_count</th>\n",
       "      <th>pickup_longitude</th>\n",
       "      <th>pickup_latitude</th>\n",
       "      <th>dropoff_longitude</th>\n",
       "      <th>dropoff_latitude</th>\n",
       "      <th>store_and_fwd_flag</th>\n",
       "      <th>trip_duration</th>\n",
       "    </tr>\n",
       "  </thead>\n",
       "  <tbody>\n",
       "    <tr>\n",
       "      <th>0</th>\n",
       "      <td>id2875421</td>\n",
       "      <td>1</td>\n",
       "      <td>2016-03-14 17:24:55</td>\n",
       "      <td>1</td>\n",
       "      <td>-73.982155</td>\n",
       "      <td>40.767937</td>\n",
       "      <td>-73.964630</td>\n",
       "      <td>40.765602</td>\n",
       "      <td>N</td>\n",
       "      <td>455.0</td>\n",
       "    </tr>\n",
       "    <tr>\n",
       "      <th>1</th>\n",
       "      <td>id2377394</td>\n",
       "      <td>0</td>\n",
       "      <td>2016-06-12 00:43:35</td>\n",
       "      <td>1</td>\n",
       "      <td>-73.980415</td>\n",
       "      <td>40.738564</td>\n",
       "      <td>-73.999481</td>\n",
       "      <td>40.731152</td>\n",
       "      <td>N</td>\n",
       "      <td>663.0</td>\n",
       "    </tr>\n",
       "    <tr>\n",
       "      <th>2</th>\n",
       "      <td>id3858529</td>\n",
       "      <td>1</td>\n",
       "      <td>2016-01-19 11:35:24</td>\n",
       "      <td>1</td>\n",
       "      <td>-73.979027</td>\n",
       "      <td>40.763939</td>\n",
       "      <td>-74.005333</td>\n",
       "      <td>40.710087</td>\n",
       "      <td>N</td>\n",
       "      <td>2124.0</td>\n",
       "    </tr>\n",
       "  </tbody>\n",
       "</table>\n",
       "</div>"
      ],
      "text/plain": [
       "          id  vendor_id     pickup_datetime  passenger_count  \\\n",
       "0  id2875421          1 2016-03-14 17:24:55                1   \n",
       "1  id2377394          0 2016-06-12 00:43:35                1   \n",
       "2  id3858529          1 2016-01-19 11:35:24                1   \n",
       "\n",
       "   pickup_longitude  pickup_latitude  dropoff_longitude  dropoff_latitude  \\\n",
       "0        -73.982155        40.767937         -73.964630         40.765602   \n",
       "1        -73.980415        40.738564         -73.999481         40.731152   \n",
       "2        -73.979027        40.763939         -74.005333         40.710087   \n",
       "\n",
       "  store_and_fwd_flag  trip_duration  \n",
       "0                  N          455.0  \n",
       "1                  N          663.0  \n",
       "2                  N         2124.0  "
      ]
     },
     "execution_count": 74,
     "metadata": {},
     "output_type": "execute_result"
    }
   ],
   "source": [
    "taxiDB['vendor_id'] = taxiDB['vendor_id'] - 1\n",
    "taxiDB.head(3)"
   ]
  },
  {
   "attachments": {},
   "cell_type": "markdown",
   "id": "728f06c2",
   "metadata": {},
   "source": [
    "Бинарный признак закодируем его тоже во множество {0, 1}."
   ]
  },
  {
   "cell_type": "code",
   "execution_count": 75,
   "id": "874f8464",
   "metadata": {},
   "outputs": [],
   "source": [
    "### Your code is here\n",
    "taxiDB['store_and_fwd_flag'] = taxiDB['store_and_fwd_flag'].map(lambda x: 1 if x == 'Y' else 0)"
   ]
  },
  {
   "cell_type": "code",
   "execution_count": 76,
   "id": "347e7d03",
   "metadata": {},
   "outputs": [],
   "source": [
    "###Первые 10 строк получившегося на этом этапе датафрейма в csv файл с разделителем ';'. \n",
    "taxiDB[:10].to_csv('task5.csv', sep = ';')"
   ]
  },
  {
   "attachments": {},
   "cell_type": "markdown",
   "id": "4022a253",
   "metadata": {},
   "source": [
    "**Каждую долготу в некоторое относительно километровое выражение**"
   ]
  },
  {
   "cell_type": "code",
   "execution_count": 77,
   "id": "a5a27c42",
   "metadata": {},
   "outputs": [],
   "source": [
    "allLat  = list(taxiDB['pickup_latitude']) + list(taxiDB['dropoff_latitude'])"
   ]
  },
  {
   "attachments": {},
   "cell_type": "markdown",
   "id": "210bfde5",
   "metadata": {},
   "source": [
    "Посчитаем медиану:"
   ]
  },
  {
   "cell_type": "code",
   "execution_count": 78,
   "id": "85abe188",
   "metadata": {},
   "outputs": [],
   "source": [
    "medianLat  = sorted(allLat)[int(len(allLat)/2)]"
   ]
  },
  {
   "attachments": {},
   "cell_type": "markdown",
   "id": "823f6d05",
   "metadata": {},
   "source": [
    "Из каждого значения широты вычтем медианное значение.\n",
    "\n",
    "Результат переведем в километры."
   ]
  },
  {
   "cell_type": "code",
   "execution_count": 79,
   "id": "c2140bf2",
   "metadata": {},
   "outputs": [],
   "source": [
    "latMultiplier  = 111.32\n",
    "\n",
    "taxiDB['pickup_latitude']   = latMultiplier  * (taxiDB['pickup_latitude']   - medianLat)\n",
    "taxiDB['dropoff_latitude']   = latMultiplier  * (taxiDB['dropoff_latitude']  - medianLat)"
   ]
  },
  {
   "cell_type": "code",
   "execution_count": 80,
   "id": "9334bd8b",
   "metadata": {},
   "outputs": [
    {
     "data": {
      "text/html": [
       "<div>\n",
       "<style scoped>\n",
       "    .dataframe tbody tr th:only-of-type {\n",
       "        vertical-align: middle;\n",
       "    }\n",
       "\n",
       "    .dataframe tbody tr th {\n",
       "        vertical-align: top;\n",
       "    }\n",
       "\n",
       "    .dataframe thead th {\n",
       "        text-align: right;\n",
       "    }\n",
       "</style>\n",
       "<table border=\"1\" class=\"dataframe\">\n",
       "  <thead>\n",
       "    <tr style=\"text-align: right;\">\n",
       "      <th></th>\n",
       "      <th>id</th>\n",
       "      <th>vendor_id</th>\n",
       "      <th>pickup_datetime</th>\n",
       "      <th>passenger_count</th>\n",
       "      <th>pickup_longitude</th>\n",
       "      <th>pickup_latitude</th>\n",
       "      <th>dropoff_longitude</th>\n",
       "      <th>dropoff_latitude</th>\n",
       "      <th>store_and_fwd_flag</th>\n",
       "      <th>trip_duration</th>\n",
       "    </tr>\n",
       "  </thead>\n",
       "  <tbody>\n",
       "    <tr>\n",
       "      <th>0</th>\n",
       "      <td>id2875421</td>\n",
       "      <td>1</td>\n",
       "      <td>2016-03-14 17:24:55</td>\n",
       "      <td>1</td>\n",
       "      <td>-73.982155</td>\n",
       "      <td>1.516008</td>\n",
       "      <td>-73.964630</td>\n",
       "      <td>1.256121</td>\n",
       "      <td>0</td>\n",
       "      <td>455.0</td>\n",
       "    </tr>\n",
       "    <tr>\n",
       "      <th>1</th>\n",
       "      <td>id2377394</td>\n",
       "      <td>0</td>\n",
       "      <td>2016-06-12 00:43:35</td>\n",
       "      <td>1</td>\n",
       "      <td>-73.980415</td>\n",
       "      <td>-1.753813</td>\n",
       "      <td>-73.999481</td>\n",
       "      <td>-2.578912</td>\n",
       "      <td>0</td>\n",
       "      <td>663.0</td>\n",
       "    </tr>\n",
       "    <tr>\n",
       "      <th>2</th>\n",
       "      <td>id3858529</td>\n",
       "      <td>1</td>\n",
       "      <td>2016-01-19 11:35:24</td>\n",
       "      <td>1</td>\n",
       "      <td>-73.979027</td>\n",
       "      <td>1.070973</td>\n",
       "      <td>-74.005333</td>\n",
       "      <td>-4.923841</td>\n",
       "      <td>0</td>\n",
       "      <td>2124.0</td>\n",
       "    </tr>\n",
       "    <tr>\n",
       "      <th>3</th>\n",
       "      <td>id3504673</td>\n",
       "      <td>1</td>\n",
       "      <td>2016-04-06 19:32:31</td>\n",
       "      <td>1</td>\n",
       "      <td>-74.010040</td>\n",
       "      <td>-3.823568</td>\n",
       "      <td>-74.012268</td>\n",
       "      <td>-5.298809</td>\n",
       "      <td>0</td>\n",
       "      <td>429.0</td>\n",
       "    </tr>\n",
       "    <tr>\n",
       "      <th>4</th>\n",
       "      <td>id2181028</td>\n",
       "      <td>1</td>\n",
       "      <td>2016-03-26 13:30:55</td>\n",
       "      <td>1</td>\n",
       "      <td>-73.973053</td>\n",
       "      <td>4.329328</td>\n",
       "      <td>-73.972923</td>\n",
       "      <td>3.139453</td>\n",
       "      <td>0</td>\n",
       "      <td>435.0</td>\n",
       "    </tr>\n",
       "  </tbody>\n",
       "</table>\n",
       "</div>"
      ],
      "text/plain": [
       "          id  vendor_id     pickup_datetime  passenger_count  \\\n",
       "0  id2875421          1 2016-03-14 17:24:55                1   \n",
       "1  id2377394          0 2016-06-12 00:43:35                1   \n",
       "2  id3858529          1 2016-01-19 11:35:24                1   \n",
       "3  id3504673          1 2016-04-06 19:32:31                1   \n",
       "4  id2181028          1 2016-03-26 13:30:55                1   \n",
       "\n",
       "   pickup_longitude  pickup_latitude  dropoff_longitude  dropoff_latitude  \\\n",
       "0        -73.982155         1.516008         -73.964630          1.256121   \n",
       "1        -73.980415        -1.753813         -73.999481         -2.578912   \n",
       "2        -73.979027         1.070973         -74.005333         -4.923841   \n",
       "3        -74.010040        -3.823568         -74.012268         -5.298809   \n",
       "4        -73.973053         4.329328         -73.972923          3.139453   \n",
       "\n",
       "   store_and_fwd_flag  trip_duration  \n",
       "0                   0          455.0  \n",
       "1                   0          663.0  \n",
       "2                   0         2124.0  \n",
       "3                   0          429.0  \n",
       "4                   0          435.0  "
      ]
     },
     "execution_count": 80,
     "metadata": {},
     "output_type": "execute_result"
    }
   ],
   "source": [
    "taxiDB.head()"
   ]
  },
  {
   "attachments": {},
   "cell_type": "markdown",
   "id": "b09e6143",
   "metadata": {},
   "source": [
    "\n",
    "**latitude** - на сколько примерно километров севернее или южнее (в зависимости от знака) точка находится относительно средней широты"
   ]
  },
  {
   "cell_type": "code",
   "execution_count": 81,
   "id": "594f3c19",
   "metadata": {},
   "outputs": [],
   "source": [
    "allLong = list(taxiDB['pickup_longitude']) + list(taxiDB['dropoff_longitude'])\n",
    "\n",
    "medianLong  = sorted(allLong)[int(len(allLong)/2)]\n",
    "\n",
    "longMultiplier = np.cos(medianLat*(np.pi/180.0)) * 111.32"
   ]
  },
  {
   "attachments": {},
   "cell_type": "markdown",
   "id": "645ea2e7",
   "metadata": {},
   "source": [
    "**longitude** признаки"
   ]
  },
  {
   "cell_type": "code",
   "execution_count": 82,
   "id": "b5b05bb0",
   "metadata": {},
   "outputs": [],
   "source": [
    "taxiDB['pickup_longitude']   = longMultiplier  * (taxiDB['pickup_longitude']   - medianLong)\n",
    "taxiDB['dropoff_longitude']   = longMultiplier  * (taxiDB['dropoff_longitude']  - medianLong)"
   ]
  },
  {
   "attachments": {},
   "cell_type": "markdown",
   "id": "c0130b4c",
   "metadata": {},
   "source": [
    "Географическое расстояние **distance_km**:"
   ]
  },
  {
   "cell_type": "code",
   "execution_count": 83,
   "id": "b197b7a1",
   "metadata": {},
   "outputs": [],
   "source": [
    "taxiDB['distance_km']= ((taxiDB['dropoff_longitude'] - taxiDB['pickup_longitude'] )**2 + (taxiDB['dropoff_latitude'] - taxiDB['pickup_latitude'] )**2)**0.5"
   ]
  },
  {
   "cell_type": "code",
   "execution_count": 84,
   "id": "2c612e61",
   "metadata": {},
   "outputs": [
    {
     "data": {
      "text/html": [
       "<div>\n",
       "<style scoped>\n",
       "    .dataframe tbody tr th:only-of-type {\n",
       "        vertical-align: middle;\n",
       "    }\n",
       "\n",
       "    .dataframe tbody tr th {\n",
       "        vertical-align: top;\n",
       "    }\n",
       "\n",
       "    .dataframe thead th {\n",
       "        text-align: right;\n",
       "    }\n",
       "</style>\n",
       "<table border=\"1\" class=\"dataframe\">\n",
       "  <thead>\n",
       "    <tr style=\"text-align: right;\">\n",
       "      <th></th>\n",
       "      <th>id</th>\n",
       "      <th>vendor_id</th>\n",
       "      <th>pickup_datetime</th>\n",
       "      <th>passenger_count</th>\n",
       "      <th>pickup_longitude</th>\n",
       "      <th>pickup_latitude</th>\n",
       "      <th>dropoff_longitude</th>\n",
       "      <th>dropoff_latitude</th>\n",
       "      <th>store_and_fwd_flag</th>\n",
       "      <th>trip_duration</th>\n",
       "      <th>distance_km</th>\n",
       "    </tr>\n",
       "  </thead>\n",
       "  <tbody>\n",
       "    <tr>\n",
       "      <th>0</th>\n",
       "      <td>id2875421</td>\n",
       "      <td>1</td>\n",
       "      <td>2016-03-14 17:24:55</td>\n",
       "      <td>1</td>\n",
       "      <td>-0.110015</td>\n",
       "      <td>1.516008</td>\n",
       "      <td>1.367786</td>\n",
       "      <td>1.256121</td>\n",
       "      <td>0</td>\n",
       "      <td>455.0</td>\n",
       "      <td>1.500479</td>\n",
       "    </tr>\n",
       "    <tr>\n",
       "      <th>1</th>\n",
       "      <td>id2377394</td>\n",
       "      <td>0</td>\n",
       "      <td>2016-06-12 00:43:35</td>\n",
       "      <td>1</td>\n",
       "      <td>0.036672</td>\n",
       "      <td>-1.753813</td>\n",
       "      <td>-1.571088</td>\n",
       "      <td>-2.578912</td>\n",
       "      <td>0</td>\n",
       "      <td>663.0</td>\n",
       "      <td>1.807119</td>\n",
       "    </tr>\n",
       "    <tr>\n",
       "      <th>2</th>\n",
       "      <td>id3858529</td>\n",
       "      <td>1</td>\n",
       "      <td>2016-01-19 11:35:24</td>\n",
       "      <td>1</td>\n",
       "      <td>0.153763</td>\n",
       "      <td>1.070973</td>\n",
       "      <td>-2.064547</td>\n",
       "      <td>-4.923841</td>\n",
       "      <td>0</td>\n",
       "      <td>2124.0</td>\n",
       "      <td>6.392080</td>\n",
       "    </tr>\n",
       "    <tr>\n",
       "      <th>3</th>\n",
       "      <td>id3504673</td>\n",
       "      <td>1</td>\n",
       "      <td>2016-04-06 19:32:31</td>\n",
       "      <td>1</td>\n",
       "      <td>-2.461500</td>\n",
       "      <td>-3.823568</td>\n",
       "      <td>-2.649362</td>\n",
       "      <td>-5.298809</td>\n",
       "      <td>0</td>\n",
       "      <td>429.0</td>\n",
       "      <td>1.487155</td>\n",
       "    </tr>\n",
       "    <tr>\n",
       "      <th>4</th>\n",
       "      <td>id2181028</td>\n",
       "      <td>1</td>\n",
       "      <td>2016-03-26 13:30:55</td>\n",
       "      <td>1</td>\n",
       "      <td>0.657515</td>\n",
       "      <td>4.329328</td>\n",
       "      <td>0.668452</td>\n",
       "      <td>3.139453</td>\n",
       "      <td>0</td>\n",
       "      <td>435.0</td>\n",
       "      <td>1.189925</td>\n",
       "    </tr>\n",
       "  </tbody>\n",
       "</table>\n",
       "</div>"
      ],
      "text/plain": [
       "          id  vendor_id     pickup_datetime  passenger_count  \\\n",
       "0  id2875421          1 2016-03-14 17:24:55                1   \n",
       "1  id2377394          0 2016-06-12 00:43:35                1   \n",
       "2  id3858529          1 2016-01-19 11:35:24                1   \n",
       "3  id3504673          1 2016-04-06 19:32:31                1   \n",
       "4  id2181028          1 2016-03-26 13:30:55                1   \n",
       "\n",
       "   pickup_longitude  pickup_latitude  dropoff_longitude  dropoff_latitude  \\\n",
       "0         -0.110015         1.516008           1.367786          1.256121   \n",
       "1          0.036672        -1.753813          -1.571088         -2.578912   \n",
       "2          0.153763         1.070973          -2.064547         -4.923841   \n",
       "3         -2.461500        -3.823568          -2.649362         -5.298809   \n",
       "4          0.657515         4.329328           0.668452          3.139453   \n",
       "\n",
       "   store_and_fwd_flag  trip_duration  distance_km  \n",
       "0                   0          455.0     1.500479  \n",
       "1                   0          663.0     1.807119  \n",
       "2                   0         2124.0     6.392080  \n",
       "3                   0          429.0     1.487155  \n",
       "4                   0          435.0     1.189925  "
      ]
     },
     "execution_count": 84,
     "metadata": {},
     "output_type": "execute_result"
    }
   ],
   "source": [
    "taxiDB.head()"
   ]
  },
  {
   "attachments": {},
   "cell_type": "markdown",
   "id": "a83746db",
   "metadata": {},
   "source": [
    "Удаление старых признаков."
   ]
  },
  {
   "cell_type": "code",
   "execution_count": 85,
   "id": "2ebce6a0",
   "metadata": {},
   "outputs": [],
   "source": [
    "taxiDB = taxiDB.drop(['pickup_longitude', 'dropoff_longitude',\n",
    "                      'pickup_latitude', 'dropoff_latitude'], axis=1)"
   ]
  },
  {
   "cell_type": "code",
   "execution_count": 86,
   "id": "897bca14",
   "metadata": {},
   "outputs": [
    {
     "data": {
      "text/html": [
       "<div>\n",
       "<style scoped>\n",
       "    .dataframe tbody tr th:only-of-type {\n",
       "        vertical-align: middle;\n",
       "    }\n",
       "\n",
       "    .dataframe tbody tr th {\n",
       "        vertical-align: top;\n",
       "    }\n",
       "\n",
       "    .dataframe thead th {\n",
       "        text-align: right;\n",
       "    }\n",
       "</style>\n",
       "<table border=\"1\" class=\"dataframe\">\n",
       "  <thead>\n",
       "    <tr style=\"text-align: right;\">\n",
       "      <th></th>\n",
       "      <th>id</th>\n",
       "      <th>vendor_id</th>\n",
       "      <th>pickup_datetime</th>\n",
       "      <th>passenger_count</th>\n",
       "      <th>store_and_fwd_flag</th>\n",
       "      <th>trip_duration</th>\n",
       "      <th>distance_km</th>\n",
       "    </tr>\n",
       "  </thead>\n",
       "  <tbody>\n",
       "    <tr>\n",
       "      <th>0</th>\n",
       "      <td>id2875421</td>\n",
       "      <td>1</td>\n",
       "      <td>2016-03-14 17:24:55</td>\n",
       "      <td>1</td>\n",
       "      <td>0</td>\n",
       "      <td>455.0</td>\n",
       "      <td>1.500479</td>\n",
       "    </tr>\n",
       "    <tr>\n",
       "      <th>1</th>\n",
       "      <td>id2377394</td>\n",
       "      <td>0</td>\n",
       "      <td>2016-06-12 00:43:35</td>\n",
       "      <td>1</td>\n",
       "      <td>0</td>\n",
       "      <td>663.0</td>\n",
       "      <td>1.807119</td>\n",
       "    </tr>\n",
       "    <tr>\n",
       "      <th>2</th>\n",
       "      <td>id3858529</td>\n",
       "      <td>1</td>\n",
       "      <td>2016-01-19 11:35:24</td>\n",
       "      <td>1</td>\n",
       "      <td>0</td>\n",
       "      <td>2124.0</td>\n",
       "      <td>6.392080</td>\n",
       "    </tr>\n",
       "    <tr>\n",
       "      <th>3</th>\n",
       "      <td>id3504673</td>\n",
       "      <td>1</td>\n",
       "      <td>2016-04-06 19:32:31</td>\n",
       "      <td>1</td>\n",
       "      <td>0</td>\n",
       "      <td>429.0</td>\n",
       "      <td>1.487155</td>\n",
       "    </tr>\n",
       "    <tr>\n",
       "      <th>4</th>\n",
       "      <td>id2181028</td>\n",
       "      <td>1</td>\n",
       "      <td>2016-03-26 13:30:55</td>\n",
       "      <td>1</td>\n",
       "      <td>0</td>\n",
       "      <td>435.0</td>\n",
       "      <td>1.189925</td>\n",
       "    </tr>\n",
       "  </tbody>\n",
       "</table>\n",
       "</div>"
      ],
      "text/plain": [
       "          id  vendor_id     pickup_datetime  passenger_count  \\\n",
       "0  id2875421          1 2016-03-14 17:24:55                1   \n",
       "1  id2377394          0 2016-06-12 00:43:35                1   \n",
       "2  id3858529          1 2016-01-19 11:35:24                1   \n",
       "3  id3504673          1 2016-04-06 19:32:31                1   \n",
       "4  id2181028          1 2016-03-26 13:30:55                1   \n",
       "\n",
       "   store_and_fwd_flag  trip_duration  distance_km  \n",
       "0                   0          455.0     1.500479  \n",
       "1                   0          663.0     1.807119  \n",
       "2                   0         2124.0     6.392080  \n",
       "3                   0          429.0     1.487155  \n",
       "4                   0          435.0     1.189925  "
      ]
     },
     "execution_count": 86,
     "metadata": {},
     "output_type": "execute_result"
    }
   ],
   "source": [
    "taxiDB.head()"
   ]
  },
  {
   "cell_type": "code",
   "execution_count": 87,
   "id": "10e78a87",
   "metadata": {},
   "outputs": [],
   "source": [
    "### Первые 10 значений полученного промежуточного датафрейма в файл в формате csv с сепаратором ;.\n",
    "taxiDB[:10].to_csv('task6.csv', sep = ';')"
   ]
  },
  {
   "attachments": {},
   "cell_type": "markdown",
   "id": "3fc31682",
   "metadata": {},
   "source": [
    "Возможные значения **passenger_count**.\n"
   ]
  },
  {
   "cell_type": "code",
   "execution_count": 88,
   "id": "2c1f1f69",
   "metadata": {},
   "outputs": [
    {
     "data": {
      "text/plain": [
       "passenger_count\n",
       "0         60\n",
       "1    1033540\n",
       "2     210318\n",
       "3      59896\n",
       "4      28404\n",
       "5      78088\n",
       "6      48333\n",
       "7          3\n",
       "8          1\n",
       "9          1\n",
       "Name: id, dtype: int64"
      ]
     },
     "execution_count": 88,
     "metadata": {},
     "output_type": "execute_result"
    }
   ],
   "source": [
    "taxiDB.groupby(['passenger_count'])['id'].count()"
   ]
  },
  {
   "attachments": {},
   "cell_type": "markdown",
   "id": "c7055874",
   "metadata": {},
   "source": [
    "**Mean-target encoding**. Замена колонки **passenger_count** колонкой **category_encoded**."
   ]
  },
  {
   "cell_type": "code",
   "execution_count": 89,
   "id": "a7d5312b",
   "metadata": {},
   "outputs": [],
   "source": [
    "### Your code is here\n",
    "taxiDB['category_encoded'] = taxiDB['passenger_count'].map(taxiDB.groupby(['passenger_count'])['trip_duration'].mean())"
   ]
  },
  {
   "cell_type": "code",
   "execution_count": 90,
   "id": "e0fba145",
   "metadata": {},
   "outputs": [],
   "source": [
    "taxiDB = taxiDB.drop(['passenger_count'], axis=1)"
   ]
  },
  {
   "cell_type": "code",
   "execution_count": 91,
   "id": "bb92ea82",
   "metadata": {},
   "outputs": [],
   "source": [
    "###  Cохраните первые 10 значений полученного промежуточного датафрейма в файл в формате csv с сепаратором ';' Отправьте полученный файл в форму ответа задания 7.\n",
    "taxiDB[:10].to_csv('task7.csv', sep = ';')"
   ]
  },
  {
   "attachments": {},
   "cell_type": "markdown",
   "id": "f6756fd7",
   "metadata": {},
   "source": [
    "Остались две колонки: **id**, **pickup_datetime**\n",
    "\n",
    "**id** можно использовать как обычный идентификатор нашего объекта."
   ]
  },
  {
   "cell_type": "code",
   "execution_count": 92,
   "id": "5abcec26",
   "metadata": {},
   "outputs": [],
   "source": [
    "taxiDB = taxiDB.set_index('id')"
   ]
  },
  {
   "cell_type": "code",
   "execution_count": 93,
   "id": "ded60ad5",
   "metadata": {},
   "outputs": [
    {
     "data": {
      "text/html": [
       "<div>\n",
       "<style scoped>\n",
       "    .dataframe tbody tr th:only-of-type {\n",
       "        vertical-align: middle;\n",
       "    }\n",
       "\n",
       "    .dataframe tbody tr th {\n",
       "        vertical-align: top;\n",
       "    }\n",
       "\n",
       "    .dataframe thead th {\n",
       "        text-align: right;\n",
       "    }\n",
       "</style>\n",
       "<table border=\"1\" class=\"dataframe\">\n",
       "  <thead>\n",
       "    <tr style=\"text-align: right;\">\n",
       "      <th></th>\n",
       "      <th>vendor_id</th>\n",
       "      <th>pickup_datetime</th>\n",
       "      <th>store_and_fwd_flag</th>\n",
       "      <th>trip_duration</th>\n",
       "      <th>distance_km</th>\n",
       "      <th>category_encoded</th>\n",
       "    </tr>\n",
       "    <tr>\n",
       "      <th>id</th>\n",
       "      <th></th>\n",
       "      <th></th>\n",
       "      <th></th>\n",
       "      <th></th>\n",
       "      <th></th>\n",
       "      <th></th>\n",
       "    </tr>\n",
       "  </thead>\n",
       "  <tbody>\n",
       "    <tr>\n",
       "      <th>id2875421</th>\n",
       "      <td>1</td>\n",
       "      <td>2016-03-14 17:24:55</td>\n",
       "      <td>0</td>\n",
       "      <td>455.0</td>\n",
       "      <td>1.500479</td>\n",
       "      <td>930.399753</td>\n",
       "    </tr>\n",
       "    <tr>\n",
       "      <th>id2377394</th>\n",
       "      <td>0</td>\n",
       "      <td>2016-06-12 00:43:35</td>\n",
       "      <td>0</td>\n",
       "      <td>663.0</td>\n",
       "      <td>1.807119</td>\n",
       "      <td>930.399753</td>\n",
       "    </tr>\n",
       "    <tr>\n",
       "      <th>id3858529</th>\n",
       "      <td>1</td>\n",
       "      <td>2016-01-19 11:35:24</td>\n",
       "      <td>0</td>\n",
       "      <td>2124.0</td>\n",
       "      <td>6.392080</td>\n",
       "      <td>930.399753</td>\n",
       "    </tr>\n",
       "    <tr>\n",
       "      <th>id3504673</th>\n",
       "      <td>1</td>\n",
       "      <td>2016-04-06 19:32:31</td>\n",
       "      <td>0</td>\n",
       "      <td>429.0</td>\n",
       "      <td>1.487155</td>\n",
       "      <td>930.399753</td>\n",
       "    </tr>\n",
       "    <tr>\n",
       "      <th>id2181028</th>\n",
       "      <td>1</td>\n",
       "      <td>2016-03-26 13:30:55</td>\n",
       "      <td>0</td>\n",
       "      <td>435.0</td>\n",
       "      <td>1.189925</td>\n",
       "      <td>930.399753</td>\n",
       "    </tr>\n",
       "  </tbody>\n",
       "</table>\n",
       "</div>"
      ],
      "text/plain": [
       "           vendor_id     pickup_datetime  store_and_fwd_flag  trip_duration  \\\n",
       "id                                                                            \n",
       "id2875421          1 2016-03-14 17:24:55                   0          455.0   \n",
       "id2377394          0 2016-06-12 00:43:35                   0          663.0   \n",
       "id3858529          1 2016-01-19 11:35:24                   0         2124.0   \n",
       "id3504673          1 2016-04-06 19:32:31                   0          429.0   \n",
       "id2181028          1 2016-03-26 13:30:55                   0          435.0   \n",
       "\n",
       "           distance_km  category_encoded  \n",
       "id                                        \n",
       "id2875421     1.500479        930.399753  \n",
       "id2377394     1.807119        930.399753  \n",
       "id3858529     6.392080        930.399753  \n",
       "id3504673     1.487155        930.399753  \n",
       "id2181028     1.189925        930.399753  "
      ]
     },
     "execution_count": 93,
     "metadata": {},
     "output_type": "execute_result"
    }
   ],
   "source": [
    "taxiDB.head()"
   ]
  },
  {
   "cell_type": "code",
   "execution_count": 94,
   "id": "51edbc1f",
   "metadata": {},
   "outputs": [],
   "source": [
    "### Gервые 10 000 значений полученного датафрейма в файл в формате csv с сепаратором ';'.\n",
    "taxiDB[:10000].to_csv('task8.csv', sep = ';')"
   ]
  },
  {
   "cell_type": "code",
   "execution_count": null,
   "id": "a2ef9cfd",
   "metadata": {},
   "outputs": [],
   "source": []
  }
 ],
 "metadata": {
  "kernelspec": {
   "display_name": "Python 3",
   "language": "python",
   "name": "python3"
  },
  "language_info": {
   "codemirror_mode": {
    "name": "ipython",
    "version": 3
   },
   "file_extension": ".py",
   "mimetype": "text/x-python",
   "name": "python",
   "nbconvert_exporter": "python",
   "pygments_lexer": "ipython3",
   "version": "3.8.8"
  }
 },
 "nbformat": 4,
 "nbformat_minor": 5
}
