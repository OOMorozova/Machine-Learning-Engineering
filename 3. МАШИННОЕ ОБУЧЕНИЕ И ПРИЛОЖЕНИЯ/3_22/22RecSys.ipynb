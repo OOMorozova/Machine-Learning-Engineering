{
 "cells": [
  {
   "cell_type": "code",
   "execution_count": 1,
   "id": "f9e13979",
   "metadata": {},
   "outputs": [],
   "source": [
    "import pandas as pd\n",
    "from sqlalchemy import create_engine\n",
    "from catboost import CatBoostClassifier\n",
    "import pickle\n",
    "import numpy as np\n",
    "from matplotlib import pyplot as plt\n",
    "\n",
    "connect = create_engine(\"postgresql://robot-startml-ro:pheiph0hahj1Vaif@\"\n",
    "        \"postgres.lab.karpov.courses:6432/startml\")"
   ]
  },
  {
   "cell_type": "code",
   "execution_count": 2,
   "id": "6713230a",
   "metadata": {},
   "outputs": [],
   "source": [
    "users = pd.read_sql('''SELECT * \n",
    "                 FROM user_data u\n",
    "                 ''', connect, index_col='user_id')"
   ]
  },
  {
   "cell_type": "code",
   "execution_count": 3,
   "id": "3d5cbd8a",
   "metadata": {},
   "outputs": [],
   "source": [
    "posts = pd.read_sql('''SELECT * \n",
    "                 FROM post_text_df p\n",
    "                 ''', connect, index_col='post_id')"
   ]
  },
  {
   "cell_type": "code",
   "execution_count": 4,
   "id": "6b7b0126",
   "metadata": {},
   "outputs": [
    {
     "name": "stdout",
     "output_type": "stream",
     "text": [
      "--- 332.10764813423157 sec ---\n"
     ]
    }
   ],
   "source": [
    "import time\n",
    "start_time = time.time()\n",
    "df = pd.read_sql('''select t.*\n",
    "                        from (select f.*\n",
    "                                ,row_number() over (partition by user_id order by random()) as seqnum\n",
    "                                ,count(*) over () as cnt\n",
    "                                ,count(*) over (partition by user_id) as cc_cnt\n",
    "                              from feed_data f\n",
    "                              where action = 'view'\n",
    "                             ) t\n",
    "                        where seqnum <= cc_cnt*(cc_cnt/(cnt*0.001)) + 1''', connect)\n",
    "print(\"--- %s sec ---\" % (time.time() - start_time))\n",
    "#cnt*0.0001 - 4794602 rows - 818 sec\n",
    "#cnt*0.001 - 406541 rows - 284 sec"
   ]
  },
  {
   "cell_type": "code",
   "execution_count": 5,
   "id": "f5a25e00",
   "metadata": {},
   "outputs": [
    {
     "data": {
      "text/html": [
       "<div>\n",
       "<style scoped>\n",
       "    .dataframe tbody tr th:only-of-type {\n",
       "        vertical-align: middle;\n",
       "    }\n",
       "\n",
       "    .dataframe tbody tr th {\n",
       "        vertical-align: top;\n",
       "    }\n",
       "\n",
       "    .dataframe thead th {\n",
       "        text-align: right;\n",
       "    }\n",
       "</style>\n",
       "<table border=\"1\" class=\"dataframe\">\n",
       "  <thead>\n",
       "    <tr style=\"text-align: right;\">\n",
       "      <th></th>\n",
       "      <th>timestamp</th>\n",
       "      <th>user_id</th>\n",
       "      <th>post_id</th>\n",
       "      <th>action</th>\n",
       "      <th>target</th>\n",
       "      <th>seqnum</th>\n",
       "      <th>cnt</th>\n",
       "      <th>cc_cnt</th>\n",
       "    </tr>\n",
       "  </thead>\n",
       "  <tbody>\n",
       "    <tr>\n",
       "      <th>0</th>\n",
       "      <td>2021-12-24 14:11:10</td>\n",
       "      <td>200</td>\n",
       "      <td>2979</td>\n",
       "      <td>view</td>\n",
       "      <td>0</td>\n",
       "      <td>1</td>\n",
       "      <td>68686455</td>\n",
       "      <td>358</td>\n",
       "    </tr>\n",
       "  </tbody>\n",
       "</table>\n",
       "</div>"
      ],
      "text/plain": [
       "            timestamp  user_id  post_id action  target  seqnum       cnt  \\\n",
       "0 2021-12-24 14:11:10      200     2979   view       0       1  68686455   \n",
       "\n",
       "   cc_cnt  \n",
       "0     358  "
      ]
     },
     "execution_count": 5,
     "metadata": {},
     "output_type": "execute_result"
    }
   ],
   "source": [
    "df.head(1)"
   ]
  },
  {
   "cell_type": "code",
   "execution_count": 6,
   "id": "d8999c81",
   "metadata": {},
   "outputs": [],
   "source": [
    "# list_cities = list(users['city'].unique())"
   ]
  },
  {
   "cell_type": "code",
   "execution_count": 7,
   "id": "2afc4605",
   "metadata": {},
   "outputs": [],
   "source": [
    "# from sklearn.feature_extraction.text import CountVectorizer\n",
    "# cv = CountVectorizer(ngram_range=(1, 3), max_features=400)\n",
    "# see_vect = cv.fit_transform(list_cities)"
   ]
  },
  {
   "cell_type": "code",
   "execution_count": 8,
   "id": "84a88b64",
   "metadata": {},
   "outputs": [],
   "source": [
    "# bag_of_cities = cv.transform(users['city'])"
   ]
  },
  {
   "cell_type": "code",
   "execution_count": 9,
   "id": "6c71dbd4",
   "metadata": {},
   "outputs": [],
   "source": [
    "# user_ids = users.index.tolist()\n",
    "# users_bags = pd.DataFrame.sparse.from_spmatrix(bag_of_cities)\n",
    "# users_bags.index = user_ids\n",
    "# users_bags.index.names = ['user_id']"
   ]
  },
  {
   "cell_type": "code",
   "execution_count": 10,
   "id": "12cde263",
   "metadata": {},
   "outputs": [],
   "source": [
    "# users_full = pd.concat([users, users_bags], axis=1).drop(['city'], axis=1)"
   ]
  },
  {
   "cell_type": "code",
   "execution_count": 11,
   "id": "09df5d19",
   "metadata": {},
   "outputs": [],
   "source": [
    "users_full = users.copy()"
   ]
  },
  {
   "cell_type": "code",
   "execution_count": 12,
   "id": "d922f4be",
   "metadata": {},
   "outputs": [],
   "source": [
    "users_full.to_csv('users_full.csv')\n",
    "users_new = pd.read_csv('users_full.csv', index_col='user_id')  "
   ]
  },
  {
   "cell_type": "code",
   "execution_count": 13,
   "id": "9a276690",
   "metadata": {},
   "outputs": [
    {
     "data": {
      "text/plain": [
       "205"
      ]
     },
     "execution_count": 13,
     "metadata": {},
     "output_type": "execute_result"
    }
   ],
   "source": [
    "users_new.to_sql('users_bags_om', connect, if_exists='replace', index = True)"
   ]
  },
  {
   "cell_type": "code",
   "execution_count": 14,
   "id": "7a2a2e88",
   "metadata": {},
   "outputs": [
    {
     "name": "stderr",
     "output_type": "stream",
     "text": [
      "/Users/olgamorozova/opt/anaconda3/lib/python3.8/site-packages/sklearn/utils/deprecation.py:87: FutureWarning: Function get_feature_names is deprecated; get_feature_names is deprecated in 1.0 and will be removed in 1.2. Please use get_feature_names_out instead.\n",
      "  warnings.warn(msg, category=FutureWarning)\n"
     ]
    },
    {
     "data": {
      "text/plain": [
       "<7023x500 sparse matrix of type '<class 'numpy.float64'>'\n",
       "\twith 403540 stored elements in Compressed Sparse Row format>"
      ]
     },
     "execution_count": 14,
     "metadata": {},
     "output_type": "execute_result"
    }
   ],
   "source": [
    "from sklearn.feature_extraction.text import TfidfVectorizer\n",
    "vectorizer = TfidfVectorizer(analyzer='word',\n",
    "                     ngram_range=(1, 2),\n",
    "                     min_df=0.003,\n",
    "                     max_df=0.5,\n",
    "                     max_features=500)\n",
    "\n",
    "item_ids = posts.index.tolist()\n",
    "tfidf_matrix = vectorizer.fit_transform(posts['text'])\n",
    "tfidf_feature_names = vectorizer.get_feature_names()\n",
    "tfidf_matrix"
   ]
  },
  {
   "cell_type": "code",
   "execution_count": 15,
   "id": "9d284f85",
   "metadata": {},
   "outputs": [],
   "source": [
    "posts_tf_idf = pd.DataFrame.sparse.from_spmatrix(tfidf_matrix)\n",
    "posts_tf_idf.index = item_ids\n",
    "posts_tf_idf.index.names = ['post_id']"
   ]
  },
  {
   "cell_type": "code",
   "execution_count": 16,
   "id": "7b489169",
   "metadata": {},
   "outputs": [],
   "source": [
    "posts_full = pd.concat([posts, posts_tf_idf], axis=1)"
   ]
  },
  {
   "cell_type": "code",
   "execution_count": 17,
   "id": "567d7053",
   "metadata": {},
   "outputs": [
    {
     "data": {
      "text/html": [
       "<div>\n",
       "<style scoped>\n",
       "    .dataframe tbody tr th:only-of-type {\n",
       "        vertical-align: middle;\n",
       "    }\n",
       "\n",
       "    .dataframe tbody tr th {\n",
       "        vertical-align: top;\n",
       "    }\n",
       "\n",
       "    .dataframe thead th {\n",
       "        text-align: right;\n",
       "    }\n",
       "</style>\n",
       "<table border=\"1\" class=\"dataframe\">\n",
       "  <thead>\n",
       "    <tr style=\"text-align: right;\">\n",
       "      <th></th>\n",
       "      <th>0</th>\n",
       "      <th>1</th>\n",
       "      <th>2</th>\n",
       "      <th>3</th>\n",
       "      <th>4</th>\n",
       "      <th>5</th>\n",
       "      <th>6</th>\n",
       "      <th>7</th>\n",
       "      <th>8</th>\n",
       "      <th>9</th>\n",
       "      <th>...</th>\n",
       "      <th>490</th>\n",
       "      <th>491</th>\n",
       "      <th>492</th>\n",
       "      <th>493</th>\n",
       "      <th>494</th>\n",
       "      <th>495</th>\n",
       "      <th>496</th>\n",
       "      <th>497</th>\n",
       "      <th>498</th>\n",
       "      <th>499</th>\n",
       "    </tr>\n",
       "    <tr>\n",
       "      <th>post_id</th>\n",
       "      <th></th>\n",
       "      <th></th>\n",
       "      <th></th>\n",
       "      <th></th>\n",
       "      <th></th>\n",
       "      <th></th>\n",
       "      <th></th>\n",
       "      <th></th>\n",
       "      <th></th>\n",
       "      <th></th>\n",
       "      <th></th>\n",
       "      <th></th>\n",
       "      <th></th>\n",
       "      <th></th>\n",
       "      <th></th>\n",
       "      <th></th>\n",
       "      <th></th>\n",
       "      <th></th>\n",
       "      <th></th>\n",
       "      <th></th>\n",
       "      <th></th>\n",
       "    </tr>\n",
       "  </thead>\n",
       "  <tbody>\n",
       "    <tr>\n",
       "      <th>1</th>\n",
       "      <td>0.0</td>\n",
       "      <td>0.0</td>\n",
       "      <td>0.241532</td>\n",
       "      <td>0.08494</td>\n",
       "      <td>0.0</td>\n",
       "      <td>0.0</td>\n",
       "      <td>0.0</td>\n",
       "      <td>0.0</td>\n",
       "      <td>0.0</td>\n",
       "      <td>0.0</td>\n",
       "      <td>...</td>\n",
       "      <td>0.0</td>\n",
       "      <td>0.0</td>\n",
       "      <td>0.0</td>\n",
       "      <td>0.0</td>\n",
       "      <td>0.109045</td>\n",
       "      <td>0.113818</td>\n",
       "      <td>0.0</td>\n",
       "      <td>0.0</td>\n",
       "      <td>0.0</td>\n",
       "      <td>0.0</td>\n",
       "    </tr>\n",
       "  </tbody>\n",
       "</table>\n",
       "<p>1 rows × 500 columns</p>\n",
       "</div>"
      ],
      "text/plain": [
       "         0    1         2        3    4    5    6    7    8    9    ...  490  \\\n",
       "post_id                                                             ...        \n",
       "1        0.0  0.0  0.241532  0.08494  0.0  0.0  0.0  0.0  0.0  0.0  ...  0.0   \n",
       "\n",
       "         491  492  493       494       495  496  497  498  499  \n",
       "post_id                                                         \n",
       "1        0.0  0.0  0.0  0.109045  0.113818  0.0  0.0  0.0  0.0  \n",
       "\n",
       "[1 rows x 500 columns]"
      ]
     },
     "execution_count": 17,
     "metadata": {},
     "output_type": "execute_result"
    }
   ],
   "source": [
    "posts_tf_idf.head(1)"
   ]
  },
  {
   "cell_type": "code",
   "execution_count": 18,
   "id": "a50aa2a6",
   "metadata": {},
   "outputs": [],
   "source": [
    "posts_full.to_csv('posts_full.csv')\n",
    "posts_new = pd.read_csv('posts_full.csv', index_col='post_id')  "
   ]
  },
  {
   "cell_type": "code",
   "execution_count": 19,
   "id": "198ea90d",
   "metadata": {},
   "outputs": [
    {
     "data": {
      "text/plain": [
       "23"
      ]
     },
     "execution_count": 19,
     "metadata": {},
     "output_type": "execute_result"
    }
   ],
   "source": [
    "posts_new.to_sql('posts_tf_idf_om', connect, if_exists='replace', index = True)"
   ]
  },
  {
   "cell_type": "code",
   "execution_count": 20,
   "id": "2a5b76e0",
   "metadata": {},
   "outputs": [
    {
     "name": "stdout",
     "output_type": "stream",
     "text": [
      "<class 'pandas.core.frame.DataFrame'>\n",
      "Int64Index: 569746 entries, 0 to 569745\n",
      "Columns: 517 entries, timestamp to 499\n",
      "dtypes: datetime64[ns](1), float64(500), int64(9), object(7)\n",
      "memory usage: 2.2+ GB\n"
     ]
    }
   ],
   "source": [
    "df = df.merge(users_new, how='inner', on='user_id')\n",
    "# df = df.merge(posts, how='inner', on='post_id')\n",
    "df = df.merge(posts_new, how='inner', on='post_id')\n",
    "df.info()"
   ]
  },
  {
   "cell_type": "code",
   "execution_count": 21,
   "id": "e91fd2c7",
   "metadata": {},
   "outputs": [
    {
     "data": {
      "text/html": [
       "<div>\n",
       "<style scoped>\n",
       "    .dataframe tbody tr th:only-of-type {\n",
       "        vertical-align: middle;\n",
       "    }\n",
       "\n",
       "    .dataframe tbody tr th {\n",
       "        vertical-align: top;\n",
       "    }\n",
       "\n",
       "    .dataframe thead th {\n",
       "        text-align: right;\n",
       "    }\n",
       "</style>\n",
       "<table border=\"1\" class=\"dataframe\">\n",
       "  <thead>\n",
       "    <tr style=\"text-align: right;\">\n",
       "      <th></th>\n",
       "      <th>timestamp</th>\n",
       "      <th>user_id</th>\n",
       "      <th>post_id</th>\n",
       "      <th>action</th>\n",
       "      <th>target</th>\n",
       "      <th>seqnum</th>\n",
       "      <th>cnt</th>\n",
       "      <th>cc_cnt</th>\n",
       "      <th>gender</th>\n",
       "      <th>age</th>\n",
       "      <th>...</th>\n",
       "      <th>490</th>\n",
       "      <th>491</th>\n",
       "      <th>492</th>\n",
       "      <th>493</th>\n",
       "      <th>494</th>\n",
       "      <th>495</th>\n",
       "      <th>496</th>\n",
       "      <th>497</th>\n",
       "      <th>498</th>\n",
       "      <th>499</th>\n",
       "    </tr>\n",
       "  </thead>\n",
       "  <tbody>\n",
       "    <tr>\n",
       "      <th>0</th>\n",
       "      <td>2021-12-24 14:11:10</td>\n",
       "      <td>200</td>\n",
       "      <td>2979</td>\n",
       "      <td>view</td>\n",
       "      <td>0</td>\n",
       "      <td>1</td>\n",
       "      <td>68686455</td>\n",
       "      <td>358</td>\n",
       "      <td>1</td>\n",
       "      <td>34</td>\n",
       "      <td>...</td>\n",
       "      <td>0.0</td>\n",
       "      <td>0.0</td>\n",
       "      <td>0.0</td>\n",
       "      <td>0.0</td>\n",
       "      <td>0.0</td>\n",
       "      <td>0.0</td>\n",
       "      <td>0.0</td>\n",
       "      <td>0.0</td>\n",
       "      <td>0.0</td>\n",
       "      <td>0.0</td>\n",
       "    </tr>\n",
       "  </tbody>\n",
       "</table>\n",
       "<p>1 rows × 517 columns</p>\n",
       "</div>"
      ],
      "text/plain": [
       "            timestamp  user_id  post_id action  target  seqnum       cnt  \\\n",
       "0 2021-12-24 14:11:10      200     2979   view       0       1  68686455   \n",
       "\n",
       "   cc_cnt  gender  age  ...  490  491  492  493  494  495  496  497  498  499  \n",
       "0     358       1   34  ...  0.0  0.0  0.0  0.0  0.0  0.0  0.0  0.0  0.0  0.0  \n",
       "\n",
       "[1 rows x 517 columns]"
      ]
     },
     "execution_count": 21,
     "metadata": {},
     "output_type": "execute_result"
    }
   ],
   "source": [
    "df.head(1)"
   ]
  },
  {
   "cell_type": "code",
   "execution_count": 22,
   "id": "c0fbbb37",
   "metadata": {},
   "outputs": [
    {
     "data": {
      "text/plain": [
       "0        2021-12-24 14:11:10\n",
       "1        2021-11-30 09:56:11\n",
       "2        2021-11-01 07:16:07\n",
       "3        2021-10-25 08:11:48\n",
       "4        2021-10-18 06:41:23\n",
       "                 ...        \n",
       "569741   2021-10-31 15:30:18\n",
       "569742   2021-11-29 15:55:01\n",
       "569743   2021-11-08 06:56:33\n",
       "569744   2021-11-11 12:15:11\n",
       "569745   2021-11-27 19:54:17\n",
       "Name: timestamp, Length: 569746, dtype: datetime64[ns]"
      ]
     },
     "execution_count": 22,
     "metadata": {},
     "output_type": "execute_result"
    }
   ],
   "source": [
    "df.timestamp"
   ]
  },
  {
   "cell_type": "code",
   "execution_count": 23,
   "id": "1917b543",
   "metadata": {},
   "outputs": [
    {
     "data": {
      "image/png": "[encoded data removed]",
      "text/plain": [
       "<Figure size 432x288 with 1 Axes>"
      ]
     },
     "metadata": {
      "needs_background": "light"
     },
     "output_type": "display_data"
    }
   ],
   "source": [
    "df['timestamp'][df['target']==1].dt.hour.hist()\n",
    "plt.show()\n"
   ]
  },
  {
   "cell_type": "code",
   "execution_count": 24,
   "id": "0c347b9e",
   "metadata": {},
   "outputs": [
    {
     "data": {
      "image/png": "[encoded data removed]",
      "text/plain": [
       "<Figure size 432x288 with 1 Axes>"
      ]
     },
     "metadata": {
      "needs_background": "light"
     },
     "output_type": "display_data"
    }
   ],
   "source": [
    "df['timestamp'][df['target']==0].dt.hour.hist()\n",
    "plt.show()\n"
   ]
  },
  {
   "cell_type": "code",
   "execution_count": 25,
   "id": "5b6603b4",
   "metadata": {},
   "outputs": [],
   "source": [
    "def add_time_features(df, col, add_hour=False):\n",
    "    new_features =  df[col].apply(lambda ts: (ts.hour >= 23) | (ts.hour <=4)).astype('int')\n",
    "#     night = ((hour >= 23) | (hour <=4)).astype('int')\n",
    "#     morning = ((hour >= 7) & (hour <= 11)).astype('int').values.reshape(-1, 1)\n",
    "#     day = ((hour >= 12) & (hour <= 18)).astype('int').values.reshape(-1, 1)\n",
    "#     evening = ((hour >= 23) & (hour <= 23)).astype('int').values.reshape(-1, 1)\n",
    "#     night = ((hour >= 0) & (hour <=4)).astype('int').values.reshape(-1, 1)\n",
    "    \n",
    "\n",
    "#     if add_hour:\n",
    "#         # we'll do it right and scale hour dividing by 24\n",
    "#         objects_to_hstack.append(hour.values.reshape(-1, 1) / 24)\n",
    "#         feature_names.append('hour')\n",
    "        \n",
    "#     day_of_week = times_df['time1'].apply(lambda t: t.isoweekday())\n",
    "#     dummy_day = pd.get_dummies(day_of_week)\n",
    "#     #mon = times_df['time1'].apply(lambda t: 1 if t.isoweekday == 1 else 0).values.reshape(-1, 1)\n",
    "#     is_weekend = times_df['time1'].apply(lambda t: 1 if t.isoweekday() > 5 else 0).values.reshape(-1, 1)\n",
    "#     month = times_df['time1'].apply(lambda t: t.month).values.reshape(-1, 1) \n",
    "#     #dummy_month = pd.get_dummies(month, dummy_na=True)\n",
    "    \n",
    "#     year = times_df['time1'].apply(lambda t: t.year)\n",
    "#     dummy_year= pd.get_dummies(year)\n",
    "#     # linear trend: time in a form YYYYMM, we'll divide by 1e5 to scale this feature \n",
    "#     year_month = times_df['time1'].apply(lambda t: 100 * t.year + t.month).values.reshape(-1, 1) / 1e5\n",
    "#     # время года\n",
    "#     #winter = times['time1'].apply(lambda t: 1 if t.month in (12, 1, 2) else 0).values.reshape(-1, 1)\n",
    "#     #spring = times['time1'].apply(lambda t: 1 if t.month in (3, 4, 5) else 0).values.reshape(-1, 1) \n",
    "#     #autumn = times['time1'].apply(lambda t: 1 if t.month in (9, 10, 11) else 0).values.reshape(-1, 1)#else (1 if t.month in (3, 4, 5) else (2 if t.month in (6, 7, 8) else 3))).values.reshape(-1, 1) \n",
    "#     # время посещения первого сайта\n",
    "#     #print()\n",
    "#     unique = times_df['unique'].values.reshape(-1, 1)\n",
    "#     delta1 = (times_df[['time1', 'time2']].diff(axis=1)/ np.timedelta64(1, 's')).fillna(0).astype('int')#['time2']#.values.reshape(-1, 1) \n",
    "\n",
    "#     #delta = (times_df[['time1', 'time10']].diff(axis=1)/ np.timedelta64(1, 's')).fillna(0).astype('int')#.values.reshape(-1, 1)  \n",
    "#     # время всей сессии\n",
    "#     delta_full = (times_df[times].diff(axis=1)/ np.timedelta64(1, 's')).fillna(0).astype('int').sum(axis=1)\n",
    "#     scaler = StandardScaler()\n",
    "#     dur_scaled = scaler.fit_transform(delta_full.values.reshape(-1, 1))\n",
    "#     dur_sc1 = scaler.fit_transform(delta1['time2'].values.reshape(-1, 1))\n",
    "    \n",
    "#     #delta = (times['time2'] - times['time1']).values.reshape(-1, 1)/np.timedelta64(1,'s')#\n",
    "#     objects_to_hstack = [X_sparse, unique, morning, day, evening, night, dummy_day, month, is_weekend, year_month, dur_sc1, dur_scaled]#,delta]\n",
    "#     feature_names = ['unique', 'morning', 'day', 'evening', 'night', 'dummy_day', 'month', 'is_weekend', 'year_month', 'dur_sc1', 'dur_scaled'] #, 'delta']\n",
    "        \n",
    "#     X = hstack(objects_to_hstack)\n",
    "    \n",
    "    return new_features\n",
    "\n",
    "# df['timestamp']= add_time_features(df, 'timestamp')\n",
    "# X_train_with_times1, new_feat_names = add_time_features(train_times, X_train_sites)\n",
    "# X_test_with_times1, _ = add_time_features(test_times, X_test_sites)"
   ]
  },
  {
   "cell_type": "code",
   "execution_count": 26,
   "id": "c1a278f6",
   "metadata": {},
   "outputs": [],
   "source": [
    "data = df.copy()\n",
    "cln_drop = ['action', 'cnt', 'seqnum', 'user_id', 'post_id', 'cc_cnt', 'text']\n",
    "data = data.drop(cln_drop, axis=1)"
   ]
  },
  {
   "cell_type": "code",
   "execution_count": 27,
   "id": "82ec7b21",
   "metadata": {},
   "outputs": [
    {
     "data": {
      "text/plain": [
       "['country', 'city', 'os', 'source', 'topic']"
      ]
     },
     "execution_count": 27,
     "metadata": {},
     "output_type": "execute_result"
    }
   ],
   "source": [
    "# text_columns = ['text']\n",
    "categorical_columns = data.loc[:,data.dtypes==object].columns.to_list()\n",
    "# categorical_columns.remove(*text_columns)\n",
    "categorical_columns"
   ]
  },
  {
   "cell_type": "code",
   "execution_count": 28,
   "id": "f2ba5385",
   "metadata": {},
   "outputs": [],
   "source": [
    "X = data.drop('target', axis=1)\n",
    "y = data['target']"
   ]
  },
  {
   "cell_type": "code",
   "execution_count": 29,
   "id": "7636b88b",
   "metadata": {},
   "outputs": [],
   "source": [
    "order_col = X.columns.to_list()"
   ]
  },
  {
   "cell_type": "code",
   "execution_count": 30,
   "id": "7eca4213",
   "metadata": {},
   "outputs": [],
   "source": [
    "order_col.sort()"
   ]
  },
  {
   "cell_type": "code",
   "execution_count": 31,
   "id": "c24ed2e4",
   "metadata": {},
   "outputs": [],
   "source": [
    "X = X.reindex(columns=order_col)"
   ]
  },
  {
   "cell_type": "code",
   "execution_count": 32,
   "id": "ef4f2cb8",
   "metadata": {},
   "outputs": [
    {
     "data": {
      "text/html": [
       "<div>\n",
       "<style scoped>\n",
       "    .dataframe tbody tr th:only-of-type {\n",
       "        vertical-align: middle;\n",
       "    }\n",
       "\n",
       "    .dataframe tbody tr th {\n",
       "        vertical-align: top;\n",
       "    }\n",
       "\n",
       "    .dataframe thead th {\n",
       "        text-align: right;\n",
       "    }\n",
       "</style>\n",
       "<table border=\"1\" class=\"dataframe\">\n",
       "  <thead>\n",
       "    <tr style=\"text-align: right;\">\n",
       "      <th></th>\n",
       "      <th>0</th>\n",
       "      <th>1</th>\n",
       "      <th>10</th>\n",
       "      <th>100</th>\n",
       "      <th>101</th>\n",
       "      <th>102</th>\n",
       "      <th>103</th>\n",
       "      <th>104</th>\n",
       "      <th>105</th>\n",
       "      <th>106</th>\n",
       "      <th>...</th>\n",
       "      <th>99</th>\n",
       "      <th>age</th>\n",
       "      <th>city</th>\n",
       "      <th>country</th>\n",
       "      <th>exp_group</th>\n",
       "      <th>gender</th>\n",
       "      <th>os</th>\n",
       "      <th>source</th>\n",
       "      <th>timestamp</th>\n",
       "      <th>topic</th>\n",
       "    </tr>\n",
       "  </thead>\n",
       "  <tbody>\n",
       "    <tr>\n",
       "      <th>0</th>\n",
       "      <td>0.0</td>\n",
       "      <td>0.0</td>\n",
       "      <td>0.0</td>\n",
       "      <td>0.0</td>\n",
       "      <td>0.0</td>\n",
       "      <td>0.0</td>\n",
       "      <td>0.0</td>\n",
       "      <td>0.0</td>\n",
       "      <td>0.0</td>\n",
       "      <td>0.0</td>\n",
       "      <td>...</td>\n",
       "      <td>0.0</td>\n",
       "      <td>34</td>\n",
       "      <td>Degtyarsk</td>\n",
       "      <td>Russia</td>\n",
       "      <td>3</td>\n",
       "      <td>1</td>\n",
       "      <td>Android</td>\n",
       "      <td>ads</td>\n",
       "      <td>2021-12-24 14:11:10</td>\n",
       "      <td>covid</td>\n",
       "    </tr>\n",
       "    <tr>\n",
       "      <th>1</th>\n",
       "      <td>0.0</td>\n",
       "      <td>0.0</td>\n",
       "      <td>0.0</td>\n",
       "      <td>0.0</td>\n",
       "      <td>0.0</td>\n",
       "      <td>0.0</td>\n",
       "      <td>0.0</td>\n",
       "      <td>0.0</td>\n",
       "      <td>0.0</td>\n",
       "      <td>0.0</td>\n",
       "      <td>...</td>\n",
       "      <td>0.0</td>\n",
       "      <td>17</td>\n",
       "      <td>Bratsk</td>\n",
       "      <td>Russia</td>\n",
       "      <td>4</td>\n",
       "      <td>1</td>\n",
       "      <td>iOS</td>\n",
       "      <td>ads</td>\n",
       "      <td>2021-11-30 09:56:11</td>\n",
       "      <td>covid</td>\n",
       "    </tr>\n",
       "    <tr>\n",
       "      <th>2</th>\n",
       "      <td>0.0</td>\n",
       "      <td>0.0</td>\n",
       "      <td>0.0</td>\n",
       "      <td>0.0</td>\n",
       "      <td>0.0</td>\n",
       "      <td>0.0</td>\n",
       "      <td>0.0</td>\n",
       "      <td>0.0</td>\n",
       "      <td>0.0</td>\n",
       "      <td>0.0</td>\n",
       "      <td>...</td>\n",
       "      <td>0.0</td>\n",
       "      <td>30</td>\n",
       "      <td>Odesa</td>\n",
       "      <td>Ukraine</td>\n",
       "      <td>0</td>\n",
       "      <td>1</td>\n",
       "      <td>Android</td>\n",
       "      <td>ads</td>\n",
       "      <td>2021-11-01 07:16:07</td>\n",
       "      <td>covid</td>\n",
       "    </tr>\n",
       "    <tr>\n",
       "      <th>3</th>\n",
       "      <td>0.0</td>\n",
       "      <td>0.0</td>\n",
       "      <td>0.0</td>\n",
       "      <td>0.0</td>\n",
       "      <td>0.0</td>\n",
       "      <td>0.0</td>\n",
       "      <td>0.0</td>\n",
       "      <td>0.0</td>\n",
       "      <td>0.0</td>\n",
       "      <td>0.0</td>\n",
       "      <td>...</td>\n",
       "      <td>0.0</td>\n",
       "      <td>34</td>\n",
       "      <td>Nizhniy Novgorod</td>\n",
       "      <td>Russia</td>\n",
       "      <td>2</td>\n",
       "      <td>1</td>\n",
       "      <td>Android</td>\n",
       "      <td>ads</td>\n",
       "      <td>2021-10-25 08:11:48</td>\n",
       "      <td>covid</td>\n",
       "    </tr>\n",
       "    <tr>\n",
       "      <th>4</th>\n",
       "      <td>0.0</td>\n",
       "      <td>0.0</td>\n",
       "      <td>0.0</td>\n",
       "      <td>0.0</td>\n",
       "      <td>0.0</td>\n",
       "      <td>0.0</td>\n",
       "      <td>0.0</td>\n",
       "      <td>0.0</td>\n",
       "      <td>0.0</td>\n",
       "      <td>0.0</td>\n",
       "      <td>...</td>\n",
       "      <td>0.0</td>\n",
       "      <td>29</td>\n",
       "      <td>Samara</td>\n",
       "      <td>Russia</td>\n",
       "      <td>1</td>\n",
       "      <td>0</td>\n",
       "      <td>Android</td>\n",
       "      <td>ads</td>\n",
       "      <td>2021-10-18 06:41:23</td>\n",
       "      <td>covid</td>\n",
       "    </tr>\n",
       "  </tbody>\n",
       "</table>\n",
       "<p>5 rows × 509 columns</p>\n",
       "</div>"
      ],
      "text/plain": [
       "     0    1   10  100  101  102  103  104  105  106  ...   99  age  \\\n",
       "0  0.0  0.0  0.0  0.0  0.0  0.0  0.0  0.0  0.0  0.0  ...  0.0   34   \n",
       "1  0.0  0.0  0.0  0.0  0.0  0.0  0.0  0.0  0.0  0.0  ...  0.0   17   \n",
       "2  0.0  0.0  0.0  0.0  0.0  0.0  0.0  0.0  0.0  0.0  ...  0.0   30   \n",
       "3  0.0  0.0  0.0  0.0  0.0  0.0  0.0  0.0  0.0  0.0  ...  0.0   34   \n",
       "4  0.0  0.0  0.0  0.0  0.0  0.0  0.0  0.0  0.0  0.0  ...  0.0   29   \n",
       "\n",
       "               city  country  exp_group  gender       os  source  \\\n",
       "0         Degtyarsk   Russia          3       1  Android     ads   \n",
       "1            Bratsk   Russia          4       1      iOS     ads   \n",
       "2             Odesa  Ukraine          0       1  Android     ads   \n",
       "3  Nizhniy Novgorod   Russia          2       1  Android     ads   \n",
       "4            Samara   Russia          1       0  Android     ads   \n",
       "\n",
       "            timestamp  topic  \n",
       "0 2021-12-24 14:11:10  covid  \n",
       "1 2021-11-30 09:56:11  covid  \n",
       "2 2021-11-01 07:16:07  covid  \n",
       "3 2021-10-25 08:11:48  covid  \n",
       "4 2021-10-18 06:41:23  covid  \n",
       "\n",
       "[5 rows x 509 columns]"
      ]
     },
     "execution_count": 32,
     "metadata": {},
     "output_type": "execute_result"
    }
   ],
   "source": [
    "X.head()"
   ]
  },
  {
   "cell_type": "code",
   "execution_count": 33,
   "id": "f16045aa",
   "metadata": {},
   "outputs": [],
   "source": [
    "from sklearn.model_selection import train_test_split\n",
    "\n",
    "X_train, X_test, y_train, y_test = train_test_split(X, y,\n",
    "                                                    random_state=0,\n",
    "                                                    shuffle=True,\n",
    "                                                    test_size=0.2)"
   ]
  },
  {
   "cell_type": "code",
   "execution_count": 34,
   "id": "325e4db6",
   "metadata": {},
   "outputs": [
    {
     "data": {
      "application/vnd.jupyter.widget-view+json": {
       "model_id": "da4ec5cc8e934e67b399df3efd1016e7",
       "version_major": 2,
       "version_minor": 0
      },
      "text/plain": [
       "MetricVisualizer(layout=Layout(align_self='stretch', height='500px'))"
      ]
     },
     "metadata": {},
     "output_type": "display_data"
    }
   ],
   "source": [
    "### Your code is here\n",
    "catboost = CatBoostClassifier(random_state=1, auto_class_weights='Balanced')\n",
    "\n",
    "catboost.fit(X_train, y_train, cat_features=categorical_columns, verbose=False, plot=True)\n",
    "catboost.save_model('model_control',\n",
    "                           format=\"cbm\")"
   ]
  },
  {
   "cell_type": "code",
   "execution_count": 35,
   "id": "22841909",
   "metadata": {},
   "outputs": [],
   "source": [
    "from_file = CatBoostClassifier()  # здесь не указываем параметры, которые были при обучении, в дампе модели все есть\n",
    "\n",
    "model = from_file.load_model(\"model_control\")"
   ]
  },
  {
   "cell_type": "code",
   "execution_count": 36,
   "id": "c14c5fb5",
   "metadata": {},
   "outputs": [],
   "source": [
    "from sklearn.metrics import classification_report\n",
    "from sklearn.metrics import accuracy_score"
   ]
  },
  {
   "cell_type": "code",
   "execution_count": 37,
   "id": "6ebbe58a",
   "metadata": {},
   "outputs": [],
   "source": [
    "test_preds = model.predict(X_test)\n"
   ]
  },
  {
   "cell_type": "code",
   "execution_count": 38,
   "id": "139d7d07",
   "metadata": {},
   "outputs": [
    {
     "name": "stdout",
     "output_type": "stream",
     "text": [
      "0.6204738920579201\n",
      "              precision    recall  f1-score   support\n",
      "\n",
      "           0      0.925     0.620     0.742    100361\n",
      "           1      0.182     0.626     0.282     13589\n",
      "\n",
      "    accuracy                          0.620    113950\n",
      "   macro avg      0.553     0.623     0.512    113950\n",
      "weighted avg      0.836     0.620     0.687    113950\n",
      "\n"
     ]
    }
   ],
   "source": [
    "print(accuracy_score(y_test, test_preds))\n",
    "print(classification_report(y_test, test_preds, digits=3))\n",
    "# 0.6331285651601579\n",
    "#               precision    recall  f1-score   support\n",
    "\n",
    "#            0      0.925     0.635     0.753    100376\n",
    "#            1      0.186     0.618     0.287     13574\n",
    "\n",
    "#     accuracy                          0.633    113950\n",
    "#    macro avg      0.556     0.627     0.520    113950\n",
    "# weighted avg      0.837     0.633     0.698    113950\n"
   ]
  },
  {
   "cell_type": "code",
   "execution_count": 39,
   "id": "fa09c725",
   "metadata": {},
   "outputs": [],
   "source": [
    "import datetime\n",
    "def get_preds_id(id, time, limit):\n",
    "    user_and_posts = posts_new.drop('text', axis=1)\n",
    "    user_and_posts[users_new.columns] = users_new[users_new.index == id].values[0]\n",
    "    user_and_posts['timestamp'] = time\n",
    "    user_and_posts['timestamp'] = user_and_posts['timestamp'].apply(lambda ts: (ts.hour >= 23) | (ts.hour <=4)).astype('int')\n",
    "    order_col = user_and_posts.columns.to_list()\n",
    "    order_col.sort()\n",
    "    user_and_posts = user_and_posts.reindex(columns=order_col)\n",
    "    user_and_posts['timestamp'] = model.predict_proba(user_and_posts)[:, 1]\n",
    "    post_id_lst = user_and_posts['timestamp'].sort_values(ascending=False).index.to_list()[:limit + 1]\n",
    "    return post_id_lst"
   ]
  },
  {
   "cell_type": "code",
   "execution_count": 40,
   "id": "e47e903d",
   "metadata": {},
   "outputs": [],
   "source": [
    "res = get_preds_id(200, datetime.datetime.now(), 10)"
   ]
  },
  {
   "cell_type": "code",
   "execution_count": 41,
   "id": "8a443404",
   "metadata": {},
   "outputs": [
    {
     "data": {
      "text/plain": [
       "[4524, 4956, 5903, 5578, 6146, 6558, 5410, 5734, 4061, 7303, 6002]"
      ]
     },
     "execution_count": 41,
     "metadata": {},
     "output_type": "execute_result"
    }
   ],
   "source": [
    "res\n",
    "#[6082, 6415, 6001, 6274, 4385, 487, 5608, 6261, 4650, 5278, 4470]\n"
   ]
  },
  {
   "cell_type": "code",
   "execution_count": 42,
   "id": "efdfd066",
   "metadata": {},
   "outputs": [
    {
     "data": {
      "text/html": [
       "<div>\n",
       "<style scoped>\n",
       "    .dataframe tbody tr th:only-of-type {\n",
       "        vertical-align: middle;\n",
       "    }\n",
       "\n",
       "    .dataframe tbody tr th {\n",
       "        vertical-align: top;\n",
       "    }\n",
       "\n",
       "    .dataframe thead th {\n",
       "        text-align: right;\n",
       "    }\n",
       "</style>\n",
       "<table border=\"1\" class=\"dataframe\">\n",
       "  <thead>\n",
       "    <tr style=\"text-align: right;\">\n",
       "      <th></th>\n",
       "      <th>text</th>\n",
       "      <th>topic</th>\n",
       "    </tr>\n",
       "    <tr>\n",
       "      <th>post_id</th>\n",
       "      <th></th>\n",
       "      <th></th>\n",
       "    </tr>\n",
       "  </thead>\n",
       "  <tbody>\n",
       "    <tr>\n",
       "      <th>4524</th>\n",
       "      <td>A unique blend of musical, film-noir and comed...</td>\n",
       "      <td>movie</td>\n",
       "    </tr>\n",
       "    <tr>\n",
       "      <th>4956</th>\n",
       "      <td>This movie is important to those of us interes...</td>\n",
       "      <td>movie</td>\n",
       "    </tr>\n",
       "    <tr>\n",
       "      <th>5903</th>\n",
       "      <td>Paul Thomas Andersons stylish and compelling t...</td>\n",
       "      <td>movie</td>\n",
       "    </tr>\n",
       "    <tr>\n",
       "      <th>5578</th>\n",
       "      <td>Roy Andersson has managed to craft something t...</td>\n",
       "      <td>movie</td>\n",
       "    </tr>\n",
       "    <tr>\n",
       "      <th>6146</th>\n",
       "      <td>Granted, HOTD 2 is better than the Uwe Boll cr...</td>\n",
       "      <td>movie</td>\n",
       "    </tr>\n",
       "    <tr>\n",
       "      <th>6558</th>\n",
       "      <td>I first saw Thief as a child which makes me al...</td>\n",
       "      <td>movie</td>\n",
       "    </tr>\n",
       "    <tr>\n",
       "      <th>5410</th>\n",
       "      <td>Brilliant over-acting by Lesley Ann Warren. Be...</td>\n",
       "      <td>movie</td>\n",
       "    </tr>\n",
       "    <tr>\n",
       "      <th>5734</th>\n",
       "      <td>I couldnt relate to this film. It failed to en...</td>\n",
       "      <td>movie</td>\n",
       "    </tr>\n",
       "    <tr>\n",
       "      <th>4061</th>\n",
       "      <td>Conducting entrance examinations is not like b...</td>\n",
       "      <td>covid</td>\n",
       "    </tr>\n",
       "    <tr>\n",
       "      <th>7303</th>\n",
       "      <td>I could watch this movie ALL DAY! I LOVE it. P...</td>\n",
       "      <td>movie</td>\n",
       "    </tr>\n",
       "    <tr>\n",
       "      <th>6002</th>\n",
       "      <td>The Pallbearer is a disappointment and at time...</td>\n",
       "      <td>movie</td>\n",
       "    </tr>\n",
       "  </tbody>\n",
       "</table>\n",
       "</div>"
      ],
      "text/plain": [
       "                                                      text  topic\n",
       "post_id                                                          \n",
       "4524     A unique blend of musical, film-noir and comed...  movie\n",
       "4956     This movie is important to those of us interes...  movie\n",
       "5903     Paul Thomas Andersons stylish and compelling t...  movie\n",
       "5578     Roy Andersson has managed to craft something t...  movie\n",
       "6146     Granted, HOTD 2 is better than the Uwe Boll cr...  movie\n",
       "6558     I first saw Thief as a child which makes me al...  movie\n",
       "5410     Brilliant over-acting by Lesley Ann Warren. Be...  movie\n",
       "5734     I couldnt relate to this film. It failed to en...  movie\n",
       "4061     Conducting entrance examinations is not like b...  covid\n",
       "7303     I could watch this movie ALL DAY! I LOVE it. P...  movie\n",
       "6002     The Pallbearer is a disappointment and at time...  movie"
      ]
     },
     "execution_count": 42,
     "metadata": {},
     "output_type": "execute_result"
    }
   ],
   "source": [
    "show_posts_list = ['text', 'topic']\n",
    "posts_new[posts_new.index.isin(res)].loc[:, show_posts_list].reindex(index=res)"
   ]
  },
  {
   "cell_type": "code",
   "execution_count": null,
   "id": "13c5090e",
   "metadata": {},
   "outputs": [],
   "source": []
  }
 ],
 "metadata": {
  "kernelspec": {
   "display_name": "Python 3 (ipykernel)",
   "language": "python",
   "name": "python3"
  },
  "language_info": {
   "codemirror_mode": {
    "name": "ipython",
    "version": 3
   },
   "file_extension": ".py",
   "mimetype": "text/x-python",
   "name": "python",
   "nbconvert_exporter": "python",
   "pygments_lexer": "ipython3",
   "version": "3.8.8"
  }
 },
 "nbformat": 4,
 "nbformat_minor": 5
}
