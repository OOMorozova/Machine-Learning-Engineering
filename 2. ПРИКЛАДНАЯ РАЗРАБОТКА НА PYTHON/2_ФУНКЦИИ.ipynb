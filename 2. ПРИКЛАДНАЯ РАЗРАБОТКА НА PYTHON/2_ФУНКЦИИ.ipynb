{
 "cells": [
  {
   "cell_type": "markdown",
   "metadata": {
    "id": "GUkAtgPHk5yn"
   },
   "source": [
    "Задание 1\n",
    "\n",
    "Функции — это наш следующий кирпичик в изучении Python. Сами по себе они не сложны, а их изучение здорово окупается: при грамотном использовании функции в разы уменьшают количество кода без ущерба читаемости.\n",
    "\n",
    "Сначала мы попрактикуемся в синтаксисе и создадим простые функции. Далее будем постепенно усложнять примеры, используя продвинутые возможности.\n",
    "\n",
    "Напишите функцию circle_square, которая принимает на вход радиус radius и возвращает (через return) площадь круга. Напомним, что для круга с радиусом r площадь S считается по формуле S=πr \n",
    "2\n",
    " . Считайте π=3.14\n"
   ]
  },
  {
   "cell_type": "code",
   "execution_count": null,
   "metadata": {
    "colab": {
     "base_uri": "https://localhost:8080/"
    },
    "id": "rWilqWyHk2Gx",
    "outputId": "b4105813-1d00-43ea-c4ac-34eb0eb82040"
   },
   "outputs": [
    {
     "data": {
      "text/plain": [
       "12.56"
      ]
     },
     "execution_count": 1,
     "metadata": {},
     "output_type": "execute_result"
    }
   ],
   "source": [
    "def circle_square(radius):\n",
    "    s = 3.14 * radius**2\n",
    "    return s\n",
    "\n",
    "circle_square(2)"
   ]
  },
  {
   "cell_type": "markdown",
   "metadata": {
    "id": "CnWActLclf7F"
   },
   "source": [
    "Задание 2\n",
    "\n",
    "Напишите функцию zip_, которая принимает на вход два списка и «сшивает» их следующим образом, например:\n",
    "\n",
    "Списки [1, 5, 3, 8, 35] и [2, 7, 9] превратятся в [(1, 2), (5, 7), (3, 9)], т. е. сначала берутся первые элементы первого и второго списков и собираются в кортеж, затем вторые элементы первого и второго списков и собираются в кортеж и т. д., пока не дошли до конца самого короткого списка. \n",
    "\n",
    "На выходе функция должна возвращать (return) «сшитый» список. Вам понадобится использовать цикл.\n",
    "\n",
    "NB! В Python есть функция, которая решает нашу задачу — она называется zip. Ее можно использовать как for pair in zip(list_1, list_2).\n",
    "\n",
    "Вы можете использовать zip внутри своего решения, но мы советуем написать ее функционал самостоятельно через цикл, чтобы «прочуять»  работу данной функции.\n",
    "\n",
    "Более того, zip возвращает не совсем список, а объект, по которому можно пробежаться циклом for (такие объекты в Python называются итераторами). Чтобы получить привычный объект list, надо явно попросить Python достать элементы из итератора через код list(zip(list_1, list_2))."
   ]
  },
  {
   "cell_type": "code",
   "execution_count": null,
   "metadata": {
    "colab": {
     "base_uri": "https://localhost:8080/"
    },
    "id": "_ZGiok_QlpVu",
    "outputId": "71daaec3-8037-425c-8e57-6d867061fd2c"
   },
   "outputs": [
    {
     "data": {
      "text/plain": [
       "[(1, 2), (5, 7), (3, 9)]"
      ]
     },
     "execution_count": 2,
     "metadata": {},
     "output_type": "execute_result"
    }
   ],
   "source": [
    "def zip_(lst1, lst2):\n",
    "    res = []\n",
    "    for i in range(min(len(lst1), len(lst2))):\n",
    "        res.append((lst1[i], lst2[i]))\n",
    "    return res\n",
    "\n",
    "zip_( [1, 5, 3, 8, 35], [2, 7, 9])"
   ]
  },
  {
   "cell_type": "markdown",
   "metadata": {
    "id": "XYousHsiny97"
   },
   "source": [
    "Задание 3\n",
    "\n",
    "Добавим аргументы по умолчанию.\n",
    "\n",
    "Вспомните пример с подсчетом банковского процента из урока 1. Напишите функцию final_balance, которая на вход принимает начальную сумму init_sum, процентную ставку interest_rate, количество лет years и округление round_num. Функция должна возвращать сумму по истечении этого срока.\n",
    "\n",
    "Аргумент функции round_num должен задавать, сколько значащих чисел после запятой оставлять. Так, при round_num = 2 сумма будет выводиться с точностью до копеек, при round_num = 0 - с точностью до рублей. При этом round_num может быть отрицательным! В таком случае округление будет грубее: round_num = -1 будет округлять до десятков рублей, round_num = -2 до сотен и т. д.\n",
    "\n",
    "Поставьте значение по умолчанию round_num, равное 2. Это соответствует округлению до копеек.\n",
    "\n",
    "Вам может пригодиться встроенная в Python функция round() и примеры ее использования:\n",
    "\n",
    "Напишите функцию, вызовите ее последовательно для следующих параметров и распечатайте результат.\n",
    "\n",
    "init_sum\tinterest_rate\tyears\n",
    "\n",
    "1000\t5\t10\n",
    "\n",
    "700\t7\t10\n",
    "\n",
    "Видим, что round_num никак не повлиял на внутренний подсчет, и его значение 2 подходит для большинства ситуаций. Обычно так и используются аргументы по умолчанию: в них пишут параметры, которые можно не настраивать, и функция при этом будет хорошо работать в большинстве случаев."
   ]
  },
  {
   "cell_type": "code",
   "execution_count": null,
   "metadata": {
    "colab": {
     "base_uri": "https://localhost:8080/"
    },
    "id": "fdHugedcq8YS",
    "outputId": "1309b305-ff65-4de8-8761-bf8b072c3e54"
   },
   "outputs": [
    {
     "name": "stdout",
     "output_type": "stream",
     "text": [
      "1628.89\n",
      "1377.01\n"
     ]
    }
   ],
   "source": [
    "def final_balance(init_sum,  interest_rate, years, round_num=2):\n",
    "    res = round(init_sum * ((100 + interest_rate)/100)**years, round_num)\n",
    "    return res\n",
    "\n",
    "print(final_balance(1000, 5, 10))\n",
    "print(final_balance(700, 7, 10))"
   ]
  },
  {
   "cell_type": "markdown",
   "metadata": {
    "id": "pYYkgRF2tBMh"
   },
   "source": [
    "Задание 4\n",
    "\n",
    "Для этого он предложил брать набор чисел, возводить их в куб, потом брать остаток от деления на 7, прибавлять к этому изначальный массив — и выдавать результат как «сгенерированные» данные."
   ]
  },
  {
   "cell_type": "code",
   "execution_count": null,
   "metadata": {
    "colab": {
     "base_uri": "https://localhost:8080/"
    },
    "id": "SGirO_sNtAWI",
    "outputId": "4188fb82-6bb2-4971-df48-11ccc4575718"
   },
   "outputs": [
    {
     "name": "stdout",
     "output_type": "stream",
     "text": [
      "###\n",
      "[1, 64, 125, 729]\n",
      "###\n",
      "###\n",
      "[1, 1, 6, 1]\n",
      "###\n",
      "###\n",
      "[2, 5, 11, 10]\n",
      "###\n"
     ]
    },
    {
     "data": {
      "text/plain": [
       "[2, 5, 11, 10]"
      ]
     },
     "execution_count": 4,
     "metadata": {},
     "output_type": "execute_result"
    }
   ],
   "source": [
    "test_data = [1, 4, 5, 9]\n",
    "\n",
    "def math_task(data):\n",
    "    answer = []\n",
    "    # возводим в третью степень\n",
    "    for elem in data:\n",
    "        answer += [elem ** 3]\n",
    "    print(\"###\")\n",
    "    print(answer)\n",
    "    print(\"###\")\n",
    "    # берем остаток от деления на 7\n",
    "    for i in range(len(answer)):\n",
    "        answer[i] = answer[i] % 7\n",
    "    print(\"###\")\n",
    "    print(answer)\n",
    "    print(\"###\")\n",
    "    # прибавляем к остатку изначальный массив\n",
    "    for i in range(len(answer)):\n",
    "        answer[i] = answer[i] + data[i]\n",
    "    print(\"###\")\n",
    "    print(answer)\n",
    "    print(\"###\")\n",
    "    # возвращаем результат\n",
    "    return answer\n",
    "\n",
    "math_task(test_data)"
   ]
  },
  {
   "cell_type": "markdown",
   "metadata": {
    "id": "FR5SJeBxwjyC"
   },
   "source": [
    "Задание 5\n",
    "\n",
    "Вы заметили, что нам приходилось вставлять один и тот же код в два места в прошлом задании?\n",
    "\n",
    "Давайте избавимся от этого. Вынесите код печати массива в функцию print_array, затем поменяйте вашу исправленную реализацию math_task так, чтобы она использовала функцию print_array для печати массива. Ваш код в math_task станет меньше и не будет пестрить кучей строк с print.\n",
    "\n",
    "Отправьте в LMS две функции: print_array и math_task.\n",
    "\n",
    "Вызовите функцию math_task с данными test_data."
   ]
  },
  {
   "cell_type": "code",
   "execution_count": null,
   "metadata": {
    "colab": {
     "base_uri": "https://localhost:8080/"
    },
    "id": "cNvIN_lIwnxk",
    "outputId": "682fa4bd-4298-460d-f2a2-ea8278959d8d"
   },
   "outputs": [
    {
     "name": "stdout",
     "output_type": "stream",
     "text": [
      "###\n",
      "[1, 64, 125, 729]\n",
      "###\n",
      "###\n",
      "[1, 1, 6, 1]\n",
      "###\n",
      "###\n",
      "[2, 5, 11, 10]\n",
      "###\n"
     ]
    },
    {
     "data": {
      "text/plain": [
       "[2, 5, 11, 10]"
      ]
     },
     "execution_count": 5,
     "metadata": {},
     "output_type": "execute_result"
    }
   ],
   "source": [
    "def print_array(array):\n",
    "    print(\"###\")\n",
    "    print(array)\n",
    "    print(\"###\")\n",
    "\n",
    "def math_task(data):\n",
    "    answer = []\n",
    "    # возводим в третью степень\n",
    "    for elem in data:\n",
    "        answer += [elem ** 3]\n",
    "    print_array(answer)\n",
    "    # берем остаток от деления на 7\n",
    "    for i in range(len(answer)):\n",
    "        answer[i] = answer[i] % 7\n",
    "    print_array(answer)\n",
    "    # прибавляем к остатку изначальный массив\n",
    "    for i in range(len(answer)):\n",
    "        answer[i] = answer[i] + data[i]\n",
    "    print_array(answer)\n",
    "    # возвращаем результат\n",
    "    return answer\n",
    "\n",
    "math_task(test_data)"
   ]
  },
  {
   "cell_type": "markdown",
   "metadata": {
    "id": "HWions4rxVea"
   },
   "source": [
    "Задание 6\n",
    "\n",
    "На практике часто приходится иметь дело с данными из непроверенных источников. Эти данные могут быть неправильного формата, неправильного типа, «не читаться» и т.д. Помимо этого нашей программе может понадобиться выходить в Сеть за некоторыми данными (а Сеть ведь может быть недоступна) или подключаться к базе данных (а база данных может отказаться нас обслуживать).\n",
    "\n",
    "Все эти моменты могут сломать нашу программу. С ошибками Сети и баз данных мы научимся работать чуть позже. Пока будем учиться обрабатывать исключения в простых программах :)\n",
    "\n",
    "Напишите функцию sum_as_ints, которая принимает на вход список из строк, пытается привести их к целому числу через int(element) и считает сумму. Список может содержать любые данные, но если они не приводятся через int(element), то программа должна их отбросить.\n",
    "\n",
    "Вы можете попробовать выполнить int(\"hello\"), int(\"3.14\"), int(\"2,2\") и увидеть, какие исключения выбрасывает программа. После этого можно обработать эти исключения у себя в функции.\n",
    "\n",
    "Учтите, конструкция try/except замедляет программу! Не надо в нее оборачивать весь код.\n",
    "\n",
    "Более того, для обработки данных чаще всего try/except можно заменить на if/else. Если вы можете обработать плохой сценарий в программе без использования try/except, обязательно пользуйтесь такой возможностью."
   ]
  },
  {
   "cell_type": "code",
   "execution_count": null,
   "metadata": {
    "colab": {
     "base_uri": "https://localhost:8080/"
    },
    "id": "wG1kQs2QxqkM",
    "outputId": "1470a2da-7428-4e73-ca6c-a52912b933fc"
   },
   "outputs": [
    {
     "data": {
      "text/plain": [
       "6"
      ]
     },
     "execution_count": 17,
     "metadata": {},
     "output_type": "execute_result"
    }
   ],
   "source": [
    "def sum_as_ints(lst):\n",
    "    s = 0\n",
    "    for elem in lst:\n",
    "        try:\n",
    "            s += int(elem)\n",
    "        except ValueError: \n",
    "            s += 0 \n",
    "    return s    \n",
    "\n",
    "sum_as_ints(['1','2', \"3.14\", '3'])"
   ]
  },
  {
   "cell_type": "markdown",
   "metadata": {
    "id": "B-KNt-0FzjpW"
   },
   "source": [
    "Задание 7\n",
    "\n",
    "Это задание стоит делать строго в том порядке, в котором оно в LMS.\n",
    "\n",
    "Вы — тех. директор на сложном проекте, и перед вами встала задача развернуть список. Вы поручили эту задачу коллеге.\n",
    "\n",
    "У вас в команде принята практика код-ревью — процедура, где другой программист смотрит код перед тем, как его слить в общую кодовую базу. Код-ревью полезно проводить, так как это позволяет отловить ошибки, опечатки, следить за читаемостью кода (взгляд со стороны не будет «замыленным»), а также держать коллег в курсе новых изменений проекта.\n",
    "\n",
    "Вам на код-ревью поступила такая реализация функции для разворота списка. Ваш коллега не очень любит срезы, поэтому он написал несколько элегантнее: поскольку pop() всегда возвращает последний элемент, можно его использовать для прочтения списка с конца:"
   ]
  },
  {
   "cell_type": "code",
   "execution_count": null,
   "metadata": {
    "colab": {
     "base_uri": "https://localhost:8080/"
    },
    "id": "KOaecNpBzPf0",
    "outputId": "41043fc0-7018-4b9f-86b4-74711bab2690"
   },
   "outputs": [
    {
     "name": "stdout",
     "output_type": "stream",
     "text": [
      "Все хорошо\n",
      "Все хорошо\n"
     ]
    }
   ],
   "source": [
    "def reversed_(array):\n",
    "    rv = []\n",
    "    ar = array.copy()\n",
    "    while ar:\n",
    "        rv.append(ar.pop())\n",
    "    return rv\n",
    "\n",
    "if reversed_(reversed_([1, 2, 3])) == [1, 2, 3]:\n",
    "    print(\"Все хорошо\")\n",
    "else:\n",
    "    raise RuntimeError(\"Ошибка, после обращения дважды не получается исходный массив!\")\n",
    "\n",
    "\n",
    "arr = [1, 2, 3]\n",
    "if reversed_(reversed_(arr)) == arr:\n",
    "    print(\"Все хорошо\")\n",
    "else:\n",
    "    raise RuntimeError(\"Ошибка, после обращения дважды не получается исходный массив!\")"
   ]
  },
  {
   "cell_type": "markdown",
   "metadata": {
    "id": "sY2NB_jG1EQd"
   },
   "source": [
    "Задание 9\n",
    "\n",
    "В этом задании Вам понадобится написать функцию find_substr,  которая принимает на вход два аргумента: подстроку (любой длины) и строку, в которой нужно ее искать, и возвращает кортеж, представляющий собой пару [start, stop) первой позиции, где найдено слово."
   ]
  },
  {
   "cell_type": "code",
   "execution_count": null,
   "metadata": {
    "colab": {
     "base_uri": "https://localhost:8080/"
    },
    "id": "WfBlEuR51ATe",
    "outputId": "d053120f-5bc6-43bb-b982-fbe00079e013"
   },
   "outputs": [
    {
     "data": {
      "text/plain": [
       "(0, 2)"
      ]
     },
     "execution_count": 37,
     "metadata": {},
     "output_type": "execute_result"
    }
   ],
   "source": [
    "def find_substr(p, s):\n",
    "    d = len(p)\n",
    "    for i in range(len(s),0,-1):\n",
    "        if p in s[:i]:\n",
    "            c = (i - d, i)\n",
    "    return c\n",
    "\n",
    "find_substr(\"мы\", \"Летом мы хотим отдыхать на море\")\n",
    "find_substr(\"ма\", \"маленькая машина\")"
   ]
  },
  {
   "cell_type": "code",
   "execution_count": null,
   "metadata": {},
   "outputs": [],
   "source": [
    "def find_substr(substring, string):\n",
    "\n",
    "    win_size = len(substring)\n",
    "    for i in range(len(string) - win_size + 1):\n",
    "        candidate = string[i:i + win_size]\n",
    "        if candidate == substring:\n",
    "            return i, i + win_size  # возвращает пару [start, stop), где нашли слово\n",
    "    return None"
   ]
  },
  {
   "cell_type": "code",
   "execution_count": null,
   "metadata": {},
   "outputs": [],
   "source": [
    "def find_substr(substring, string):\n",
    "    \"\"\"\n",
    "Вообще, есть чит-код - можно воспользоваться встроенным методом строки с названием .find()\n",
    "    \"\"\"\n",
    "    start = string.find(substring)  # вернет левую границу \"рамки\"\n",
    "    end = start + len(substring)    # осталось только достроить правую\n",
    "    return start, end"
   ]
  },
  {
   "cell_type": "markdown",
   "metadata": {
    "id": "o2meoUB94btJ"
   },
   "source": [
    "Задание 10\n",
    "\n",
    "В этом задании вам потребуется написать функцию fifth_element, которая берет каждый пятый элемент списка в обратном порядке, начиная с пятого с конца и возвращает .\n",
    "\n",
    "Пример, как должна выглядить функция для сдачи задания\n",
    "\n",
    "def fifth_element(some_list: list) -> list:\n",
    "Не в качестве ответа на задачу, а для самопроверки, попробуйте использовать написанную вами функцию fifth_element для расшифровки следующего кода: \n",
    "\n",
    "['e',6,8,'A','>','^','S','$','R','C',6,'+','#',9,'/',1,'T','!','%','K',7,'-','O','*','<',2,'h',4,'g']"
   ]
  },
  {
   "cell_type": "code",
   "execution_count": null,
   "metadata": {
    "colab": {
     "base_uri": "https://localhost:8080/"
    },
    "id": "2NUqiEMZ4klC",
    "outputId": "7c2b1d17-a786-4b34-d882-66f10d11caef"
   },
   "outputs": [
    {
     "data": {
      "text/plain": [
       "['<', 'K', '/', 'C', '>']"
      ]
     },
     "execution_count": 41,
     "metadata": {},
     "output_type": "execute_result"
    }
   ],
   "source": [
    "def fifth_element(some_list):\n",
    "    res = some_list[-5::-5]\n",
    "    return res\n",
    "\n",
    "fifth_element(['e',6,8,'A','>','^','S','$','R','C',6,'+','#',9,'/',1,'T','!','%','K',7,'-','O','*','<',2,'h',4,'g'])    "
   ]
  },
  {
   "cell_type": "markdown",
   "metadata": {
    "id": "mE0IYJN95X2u"
   },
   "source": [
    "Задание 11\n",
    "\n",
    "В этом задании потребуется написать функцию process_string, которая приводит строку[1:] к нижнему регистру и заменяет все слова 'intern' на 'junior'.\n",
    "\n",
    "def process_string(string):\n",
    "    <...>\n",
    "    return result\n",
    "\n",
    "process_string('IIntern reads a lot of books')\n",
    "\n",
    "Output:\n",
    "'junior reads a lot of books'"
   ]
  },
  {
   "cell_type": "code",
   "execution_count": null,
   "metadata": {
    "colab": {
     "base_uri": "https://localhost:8080/",
     "height": 35
    },
    "id": "EewJFXF25bw2",
    "outputId": "bd6f8cb4-7840-40cb-ce08-5599681f95bc"
   },
   "outputs": [
    {
     "data": {
      "application/vnd.google.colaboratory.intrinsic+json": {
       "type": "string"
      },
      "text/plain": [
       "'junior reads a lot of books'"
      ]
     },
     "execution_count": 42,
     "metadata": {},
     "output_type": "execute_result"
    }
   ],
   "source": [
    "def process_string(string):\n",
    "    result = string[1:].lower().replace('intern', 'junior')\n",
    "    return result\n",
    "\n",
    "process_string('IIntern reads a lot of books')\n"
   ]
  },
  {
   "cell_type": "markdown",
   "metadata": {
    "id": "_rgY0gQw57if"
   },
   "source": [
    "Задание 12\n",
    "\n",
    "В этом задании необходимо написать функцию check_string, которая сначала проверят наличие лишних символов пробела слева и справа. Если есть лишние пробелы, то тогда мы считаем строку неверной. Затем проверяет, что только первое слово начинается с большой буквы, а остальные с маленькой, и в конце проводит проверку, что последний символ последнего элемента является точкой.\n",
    "\n",
    "def check_string(string):\n",
    "    <...>\n",
    "    return result\n",
    "\n",
    "check_string('В этом году будет особенно теплое море.')\n",
    "True\n",
    "check_string('В этом году будет особенно теплое Mоре.')\n",
    "False\n",
    "check_string('В этом году будет особенно теплое море')\n",
    "False\n",
    "check_string(' В этом году будет особенно теплое море')\n",
    "False"
   ]
  },
  {
   "cell_type": "code",
   "execution_count": null,
   "metadata": {
    "colab": {
     "base_uri": "https://localhost:8080/"
    },
    "id": "aM3ab_jE58ov",
    "outputId": "f7ad2233-c7f5-4616-8f59-1ca9b1265fad"
   },
   "outputs": [
    {
     "data": {
      "text/plain": [
       "True"
      ]
     },
     "execution_count": 49,
     "metadata": {},
     "output_type": "execute_result"
    }
   ],
   "source": [
    "def check_string(string): \n",
    "    result = (string == string.strip())\n",
    "    if result:\n",
    "        result = (string == string[0].upper() + string[1:].lower())\n",
    "    if result:\n",
    "        result = (string[-1] == '.')\n",
    "    return result\n",
    "\n",
    "check_string('В этом году будет особенно теплое море.')\n",
    "# True\n",
    "# check_string('В этом году будет особенно теплое Mоре.')\n",
    "# False\n",
    "#check_string('В этом году будет особенно теплое море')\n",
    "# False\n",
    "# check_string(' В этом году будет особенно теплое море')\n",
    "# False"
   ]
  }
 ],
 "metadata": {
  "colab": {
   "collapsed_sections": [],
   "name": "StartML.2_lesson.ipynb",
   "provenance": []
  },
  "kernelspec": {
   "display_name": "Python 3",
   "language": "python",
   "name": "python3"
  },
  "language_info": {
   "codemirror_mode": {
    "name": "ipython",
    "version": 3
   },
   "file_extension": ".py",
   "mimetype": "text/x-python",
   "name": "python",
   "nbconvert_exporter": "python",
   "pygments_lexer": "ipython3",
   "version": "3.8.8"
  }
 },
 "nbformat": 4,
 "nbformat_minor": 1
}
