{
 "cells": [
  {
   "attachments": {},
   "cell_type": "markdown",
   "id": "3dc34c5d",
   "metadata": {},
   "source": [
    "Реализуйте скалярное произведение двух векторов размера 1e5 через цикл for в ноутбуке и замерьте скорость выполнения кода."
   ]
  },
  {
   "cell_type": "code",
   "execution_count": 33,
   "id": "91b69cbe",
   "metadata": {},
   "outputs": [],
   "source": [
    "import numpy as np\n",
    "vec2 = np.array(list(range(int(1e5))))\n",
    "vec1 = np.array(list(range(int(1e5))))\n",
    "\n",
    "def sc(v1, v2):\n",
    "    s = 0\n",
    "    for i in range(len(v1)):\n",
    "        s += v1[i]*v2[i]\n",
    "    return s"
   ]
  },
  {
   "cell_type": "code",
   "execution_count": 34,
   "id": "41e9d506",
   "metadata": {},
   "outputs": [
    {
     "name": "stdout",
     "output_type": "stream",
     "text": [
      "71.4 µs ± 2.82 µs per loop (mean ± std. dev. of 7 runs, 10000 loops each)\n"
     ]
    }
   ],
   "source": [
    "%%timeit\n",
    "s = np.dot(vec1, vec2)#sc(vec1, vec2)"
   ]
  },
  {
   "cell_type": "code",
   "execution_count": 25,
   "id": "de5aaebb",
   "metadata": {},
   "outputs": [
    {
     "name": "stdout",
     "output_type": "stream",
     "text": [
      "333328333350000\n"
     ]
    }
   ],
   "source": [
    "print(s)"
   ]
  },
  {
   "cell_type": "code",
   "execution_count": 32,
   "id": "0ee99e2e",
   "metadata": {},
   "outputs": [
    {
     "name": "stdout",
     "output_type": "stream",
     "text": [
      "3.3e+14\n",
      "3.3e+014\n"
     ]
    }
   ],
   "source": [
    "print(format(s, \"5.1e\"))\n",
    "print(np.format_float_scientific(s, precision = 1, exp_digits=3))"
   ]
  }
 ],
 "metadata": {
  "kernelspec": {
   "display_name": "Python 3",
   "language": "python",
   "name": "python3"
  },
  "language_info": {
   "codemirror_mode": {
    "name": "ipython",
    "version": 3
   },
   "file_extension": ".py",
   "mimetype": "text/x-python",
   "name": "python",
   "nbconvert_exporter": "python",
   "pygments_lexer": "ipython3",
   "version": "3.8.8"
  }
 },
 "nbformat": 4,
 "nbformat_minor": 5
}
