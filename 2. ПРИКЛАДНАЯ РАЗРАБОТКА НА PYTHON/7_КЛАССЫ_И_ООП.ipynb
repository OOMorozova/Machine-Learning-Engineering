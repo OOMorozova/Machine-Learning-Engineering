{
 "cells": [
  {
   "attachments": {},
   "cell_type": "markdown",
   "id": "5e4ac478",
   "metadata": {},
   "source": [
    "Напишите класс Triangle, который будет иметь 3 поля: a, b, c (стороны треугольника) и n_dots = 3 (количество точек). Поле n_dots объявите на уровне класса, не в конструкторе — чтобы оно было доступно без создания объекта (т.е. работал вызов Triangle.n_dots). Добавьте в класс простой конструктор, принимающий на вход все три стороны и сохраняющий эти стороны в соответсвующие поля класса.\n",
    "\n",
    "Создайте объекты этого класса со следующими названиями: tr_1, tr_2 и любыми значениями длин сторон.\n",
    "\n"
   ]
  },
  {
   "cell_type": "code",
   "execution_count": null,
   "id": "0ebfcef2",
   "metadata": {},
   "outputs": [],
   "source": [
    "class Triangle:\n",
    "    n_dots = 3\n",
    "\n",
    "    def __init__(self, a, b, c):\n",
    "        a_, b_, c_ = sorted([a, b, c])\n",
    "        if c_ > a_ + b_:\n",
    "            raise ValueError(\"triangle inequality does not hold\")\n",
    "        self.a = a\n",
    "        self.b = b\n",
    "        self.c = c\n",
    "\n",
    "    def area(self):\n",
    "        p = 0.5 * (self.a + self.b + self.c)\n",
    "        return (p * (p - self.a) * (p - self.b) * (p - self.c)) ** 0.5"
   ]
  },
  {
   "attachments": {},
   "cell_type": "markdown",
   "id": "1958d5a6",
   "metadata": {},
   "source": [
    "Напишите класс BaseFigure, который имеет поле класса (т.е. на уровне класса) n_dots = None, метод area() \"без реализации\", метод validate() \"без реализации\". Сделайте так, чтобы методы \"без реализации\" выбрасывали исключение NotImplementedError при их вызове и ничего другого не делали. Создайте также конструктор класса, который не принимает дополнительных аргументов и в реализации только лишь вызывает self.validate()."
   ]
  },
  {
   "cell_type": "code",
   "execution_count": 969,
   "id": "af29ca99",
   "metadata": {},
   "outputs": [],
   "source": [
    "class BaseFigure:\n",
    "    n_dots= None\n",
    "    def __init__(self):\n",
    "        self.validate()\n",
    "    \n",
    "    def area(self):\n",
    "        raise (NotImplementedError)\n",
    "    \n",
    "    def validate(self):\n",
    "        raise (NotImplementedError)"
   ]
  },
  {
   "cell_type": "code",
   "execution_count": 970,
   "id": "d5a6537d",
   "metadata": {},
   "outputs": [],
   "source": [
    "class Triangle(BaseFigure):\n",
    "    n_dots = 3\n",
    "    def __init__(self, a: int, b: int, c: int):\n",
    "        self.a = a\n",
    "        self.b = b\n",
    "        self.c = c\n",
    "        super().__init__()\n",
    "    def pp(self):\n",
    "        p =  (self.a + self.b + self.c)/2\n",
    "        return p\n",
    "    \n",
    "    def area(self):\n",
    "        p = self.pp()\n",
    "        s = (p * (p - self.a) * (p - self.b) * (p - self.c)) ** 0.5\n",
    "        return s\n",
    "    def validate(self):\n",
    "        if self.c > (self.a + self.b) or self.a > (self.c + self.b) or self.b > (self.a + self.c):\n",
    "            raise ValueError('triangle inequality does not hold')"
   ]
  },
  {
   "cell_type": "code",
   "execution_count": 971,
   "id": "300fb5e0",
   "metadata": {},
   "outputs": [],
   "source": [
    "class Rectangle(BaseFigure):\n",
    "    n_dots = 4\n",
    "    def __init__(self, a: int, b: int):\n",
    "        self.a = a\n",
    "        self.b = b\n",
    "        super().__init__()\n",
    "    def area(self):\n",
    "        return self.a * self.b\n",
    "    \n",
    "    def validate(self):\n",
    "        return self.a, self.b"
   ]
  },
  {
   "cell_type": "code",
   "execution_count": 972,
   "id": "7fc2c53e",
   "metadata": {},
   "outputs": [],
   "source": [
    "tr_1 = Triangle(6, 8, 10)\n",
    "square_1 = tr_1.area()\n",
    "tr_1.validate()"
   ]
  },
  {
   "cell_type": "code",
   "execution_count": 973,
   "id": "bb9125f1",
   "metadata": {},
   "outputs": [
    {
     "data": {
      "text/plain": [
       "(6, 8)"
      ]
     },
     "execution_count": 973,
     "metadata": {},
     "output_type": "execute_result"
    }
   ],
   "source": [
    "rc_1 = Rectangle(6, 8)\n",
    "square_2 = rc_1.area()\n",
    "rc_1.validate()"
   ]
  },
  {
   "cell_type": "code",
   "execution_count": 974,
   "id": "8a3a46f1",
   "metadata": {},
   "outputs": [],
   "source": [
    "class Circle(BaseFigure):\n",
    "    n_dots = float('inf')\n",
    "    def __init__(self, r: float):\n",
    "        self.r = r\n",
    "        super().__init__()\n",
    "    def area(self):\n",
    "        return 3.14 * (self.r**2)\n",
    "    \n",
    "    def validate(self):\n",
    "        pass"
   ]
  },
  {
   "cell_type": "code",
   "execution_count": 975,
   "id": "b2279b59",
   "metadata": {},
   "outputs": [],
   "source": [
    "c = Circle(6.5)\n",
    "s = c.area()\n",
    "c.validate()"
   ]
  },
  {
   "attachments": {},
   "cell_type": "markdown",
   "id": "1f7d33b1",
   "metadata": {},
   "source": [
    "Напишите класс Vector, который на вход будет принимать список координат. Положите все координаты вектора в список self.coords.\n",
    "\n",
    "Добейтесь того, чтобы объекты класса Vector можно было складывать через оператор + и получать на выходе тоже объект этого же класса. "
   ]
  },
  {
   "cell_type": "code",
   "execution_count": 976,
   "id": "4942057d",
   "metadata": {},
   "outputs": [],
   "source": [
    "class Vector:\n",
    "    def __init__(self, coords: list):\n",
    "        self.coords = coords\n",
    "        \n",
    "    def validate(self, other):\n",
    "        c1 = len(self.coords)\n",
    "        if isinstance(other, Vector):\n",
    "            c2 = len(other.coords)\n",
    "            if c1 != c2:\n",
    "                raise ValueError('left and right lengths differ: ' + str(c1) + ' != ' + str(c2))    \n",
    "        return c1\n",
    "    \n",
    "    def __add__(self, other):\n",
    "        d = self.validate(other)\n",
    "        res = []\n",
    "        for i in range(d):\n",
    "            res.append(self.coords[i] + other.coords[i]) \n",
    "        return Vector(res)\n",
    "    \n",
    "    def __repr__(self):\n",
    "        return f'{self.coords}'\n",
    "\n",
    "#     при использовании __repr__ метод __str__ автоматически определится. \n",
    "#     def __str__(self):\n",
    "#         return f'{self.coords}'\n",
    "    \n",
    "    def __mul__(self, other):\n",
    "        d = self.validate(other)        \n",
    "        if isinstance(other, Vector):       \n",
    "            res = 0\n",
    "            for i in range(d):\n",
    "                res += self.coords[i] * other.coords[i] \n",
    "        else:\n",
    "            s = []\n",
    "            for i in range(d):\n",
    "                s.append(self.coords[i] * other)\n",
    "            res = Vector(s)\n",
    "        return res\n",
    "    \n",
    "    def __abs__(self):\n",
    "        res = 0\n",
    "        #d = len(self.coords)\n",
    "        d = self.validate(1) \n",
    "        for i in range(d):\n",
    "            res += self.coords[i]**2\n",
    "        res = res**0.5\n",
    "        return res      \n",
    "    \n",
    "    def __eq__(self, other):  \n",
    "        return self.coords == other.coords"
   ]
  },
  {
   "cell_type": "code",
   "execution_count": 977,
   "id": "e7dce217",
   "metadata": {},
   "outputs": [
    {
     "name": "stdout",
     "output_type": "stream",
     "text": [
      "[3, 5, 7]\n"
     ]
    }
   ],
   "source": [
    "v1 = Vector([1, 2, 3])\n",
    "v2 = Vector((2, 3, 4))\n",
    "v3 = v1 + v2\n",
    "print(v3)"
   ]
  },
  {
   "cell_type": "code",
   "execution_count": 978,
   "id": "16d07a92",
   "metadata": {},
   "outputs": [
    {
     "name": "stdout",
     "output_type": "stream",
     "text": [
      "6\n",
      "[10, 15, 25, 40]\n"
     ]
    }
   ],
   "source": [
    "v4 = Vector([1, 2, 3]) * Vector([2, 5, -2]) \n",
    "v5 = Vector([2, 3, 5, 8]) * 5\n",
    "print(v4)\n",
    "print(v5)"
   ]
  },
  {
   "cell_type": "code",
   "execution_count": 979,
   "id": "15a8b9b7",
   "metadata": {},
   "outputs": [
    {
     "name": "stdout",
     "output_type": "stream",
     "text": [
      "13.0\n",
      "5.916079783099616\n",
      "False\n",
      "False\n",
      "True\n",
      "True\n"
     ]
    }
   ],
   "source": [
    "print(abs(Vector([-12, 5])))  # Должно быть 13\n",
    "print(abs(Vector([1, 3, 5])))\n",
    "\n",
    "print(Vector([1, 3, 5]) == Vector([1]))  # False\n",
    "print(Vector([1, 3, 5]) == Vector([-1, 3, 5]))  # False\n",
    "print(Vector([1, 3, 5]) == Vector([1, 3, 5]))  # True\n",
    "print(Vector([-12, 5]) == Vector([-12, 5]))"
   ]
  },
  {
   "attachments": {},
   "cell_type": "markdown",
   "id": "ad983c5a",
   "metadata": {},
   "source": [
    "Разработать класс, которому на вход будет приходить разобранный запрос от пользователя. З"
   ]
  },
  {
   "cell_type": "code",
   "execution_count": 980,
   "id": "5c2bae83",
   "metadata": {},
   "outputs": [],
   "source": [
    "# # будет приходить запрос в виде словаря\n",
    "request = {\n",
    "  \"cookies\": {1: 'value_1', 2: 'value_2', 'auth_key3': 3},\n",
    "  \"body\": \"a long time ago, in a Galaxy far, far away\",\n",
    "  \"headers\": {\"content-type\": \"application/json\", \"Accept\": \"application/json\"}\n",
    "}\n",
    "\n",
    "# # и этот словарь будет передаваться в конструктор класса\n",
    "# handler = Handler(request)"
   ]
  },
  {
   "cell_type": "code",
   "execution_count": 981,
   "id": "600e5e7b",
   "metadata": {},
   "outputs": [],
   "source": [
    "# Класс ParsesCookies имеет метод cookies(), возвращающий все по ключу cookies из словаря self.request.\n",
    "# Класс ParsesCookies имеет метод is_authed(), который будет проверять, \n",
    "# что в словаре cookies будет ключ auth_key (ни в коем случае не используйте такую авторизацию в реальных проектах).\n",
    "class ParsesCookies:\n",
    "#     def __init__(self, request):\n",
    "#         self.request = request\n",
    "    \n",
    "    def cookies(self):\n",
    "        return self.request['cookies']\n",
    "    \n",
    "    def is_authed(self):\n",
    "        c = self.cookies()\n",
    "        auth_key = c.get('auth_key', False)\n",
    "        if auth_key != False:\n",
    "            auth_key = True\n",
    "        return auth_key\n",
    "\n",
    "# Класс ParsesBody имеет метод body(), возвращающий текст по ключу body в self.request.\n",
    "class ParsesBody:\n",
    "#     def __init__(self, request):\n",
    "#         self.request = request\n",
    "    \n",
    "    def body(self):\n",
    "        return self.request['body']\n",
    "\n",
    "# Класс ParsesHeaders имеет метод headers(), возвращающий все по ключу headers из словаря self.request.\n",
    "# Класс ParsesHeaders имеет метод need_json(), который возвращает True, \n",
    "# если в headers по ключу \"content-type\" лежит значение \"application/json\", иначе False.    \n",
    "class ParsesHeaders:\n",
    "#     def __init__(self, request):\n",
    "#         self.request = request\n",
    "    \n",
    "    def headers(self):\n",
    "        return self.request['headers']\n",
    "    \n",
    "    def need_json(self):\n",
    "#         h = self.headers()\n",
    "#         json = h.get('content-type', False)\n",
    "#         if json == 'application/json':\n",
    "#             res = True\n",
    "#         else:\n",
    "#             res = False\n",
    "#         return res\n",
    "        return self.headers().get('content-type') == 'application/json'\n",
    "    "
   ]
  },
  {
   "cell_type": "code",
   "execution_count": 982,
   "id": "7e511a32",
   "metadata": {},
   "outputs": [
    {
     "name": "stdout",
     "output_type": "stream",
     "text": [
      "{1: 'value_1', 2: 'value_2', 'auth_key3': 3}\n",
      "False\n"
     ]
    }
   ],
   "source": [
    "c = ParsesCookies(request)\n",
    "print(c.cookies())\n",
    "print(c.is_authed())"
   ]
  },
  {
   "cell_type": "code",
   "execution_count": 983,
   "id": "dc4a714d",
   "metadata": {},
   "outputs": [
    {
     "name": "stdout",
     "output_type": "stream",
     "text": [
      "a long time ago, in a Galaxy far, far away\n"
     ]
    }
   ],
   "source": [
    "b = ParsesBody(request)\n",
    "print(b.body())"
   ]
  },
  {
   "cell_type": "code",
   "execution_count": 984,
   "id": "4b5ffe01",
   "metadata": {},
   "outputs": [
    {
     "name": "stdout",
     "output_type": "stream",
     "text": [
      "{'content-type': 'application/json', 'Accept': 'application/json'}\n",
      "True\n"
     ]
    }
   ],
   "source": [
    "h = ParsesHeaders(request)\n",
    "print(h.headers())\n",
    "print(h.need_json())"
   ]
  },
  {
   "attachments": {},
   "cell_type": "markdown",
   "id": "b3af8d68",
   "metadata": {},
   "source": [
    "Используя миксины из прошлого пункта, напишите класс JsonHandler, который будет наследоваться от классов ParsesBody и ParsesHeaders , иметь метод process() и конструктор, принимающий аргумент request и сохраняющий в self.request. В этом задании нужно использовать библиотеку json.\n",
    "\n",
    "Метод process() должен работать следующим образом:\n",
    "\n",
    "Если need_json() дает False, то возвращать None\n",
    "Иначе получать тело через body(), пытаться считать его как json.loads(...) и возвращать число ключей в словаре. Если считать не удалось, то вернуть None.\n",
    "Отправьте реализацию класса JsonHandler в LMS. Классы ParsesBody и ParsesHeaders отправлять не нужно.\n",
    "\n",
    "Обратите внимание, что с помощью миксин функциональность проверки headers и получения body была вынесена за JsonHandler - наш класс сосредоточился именно на обработке.\n",
    "\n"
   ]
  },
  {
   "cell_type": "code",
   "execution_count": 985,
   "id": "dea92ad3",
   "metadata": {},
   "outputs": [],
   "source": [
    "import json\n",
    "\n",
    "class JsonHandler(ParsesHeaders, ParsesBody):\n",
    "    def __init__(self, request):\n",
    "        self.request = request\n",
    "    \n",
    "    def process(self):\n",
    "        if self.need_json():\n",
    "            try:\n",
    "                b = json.loads(self.body())\n",
    "                return len(b.keys())\n",
    "            except ValueError:\n",
    "                pass\n",
    "        return None\n",
    "#     def process(self):\n",
    "#         if not self.need_json():\n",
    "#             return None\n",
    "#         try:\n",
    "#             return len(json.loads(self.body()))\n",
    "#         except:  # стоит указать конкретный Exception\n",
    "#             return None"
   ]
  },
  {
   "cell_type": "code",
   "execution_count": 986,
   "id": "a35faab5",
   "metadata": {},
   "outputs": [
    {
     "name": "stdout",
     "output_type": "stream",
     "text": [
      "None\n"
     ]
    }
   ],
   "source": [
    "# Пример использования\n",
    "r = {'body': '2{\"a\": 123, \"b\": 1234}',\n",
    "     'headers': {'content-type': 'application/json'}\n",
    "    }\n",
    "print(JsonHandler(r).process())"
   ]
  },
  {
   "attachments": {},
   "cell_type": "markdown",
   "id": "1731ab6d",
   "metadata": {},
   "source": [
    "Используя миксины из прошлого пункта, напишите класс SecureTextHandler, который будет наследоваться от классов ParsesBody, ParsesHeaders и ParsesCookies , иметь метод process() и конструктор, принимающий один аргумент и сохраняющий его в нужное поле класса.\n",
    "\n",
    "Метод process() должен работать следующим образом:\n",
    "\n",
    "Если is_authed() дает False, то возвращать None.\n",
    "Иначе получать тело через body() и возвращать его длину.\n",
    "Добейтесь работоспособности на примере и реализацию класса SecureTextHandler отправьте в LMS. Классы ParsesBody и ParsesHeaders, ParsesCookie отправлять не нужно."
   ]
  },
  {
   "cell_type": "code",
   "execution_count": 987,
   "id": "1a93fab7",
   "metadata": {},
   "outputs": [],
   "source": [
    "class SecureTextHandler(ParsesBody, ParsesHeaders, ParsesCookies):\n",
    "    def __init__(self, request):\n",
    "        self.request = request    \n",
    "        \n",
    "    def process(self):\n",
    "        if self.is_authed():\n",
    "            return len(self.body())\n",
    "        else:\n",
    "            return None"
   ]
  },
  {
   "cell_type": "code",
   "execution_count": 988,
   "id": "9d3f2e8a",
   "metadata": {},
   "outputs": [
    {
     "name": "stdout",
     "output_type": "stream",
     "text": [
      "5\n",
      "None\n"
     ]
    }
   ],
   "source": [
    "# Примеры\n",
    "r = {'cookies': {'auth_key': '123'},\n",
    "     'body': 'hello'\n",
    "    }\n",
    "print(SecureTextHandler(r).process())\n",
    "# 5\n",
    "\n",
    "r = {'cookies': {},\n",
    "     'body': 'hello'\n",
    "    }\n",
    "print(SecureTextHandler(r).process())\n",
    "# None"
   ]
  }
 ],
 "metadata": {
  "kernelspec": {
   "display_name": "Python 3",
   "language": "python",
   "name": "python3"
  },
  "language_info": {
   "codemirror_mode": {
    "name": "ipython",
    "version": 3
   },
   "file_extension": ".py",
   "mimetype": "text/x-python",
   "name": "python",
   "nbconvert_exporter": "python",
   "pygments_lexer": "ipython3",
   "version": "3.8.8"
  }
 },
 "nbformat": 4,
 "nbformat_minor": 5
}
